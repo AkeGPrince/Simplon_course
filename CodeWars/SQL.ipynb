{
 "cells": [
  {
   "cell_type": "raw",
   "id": "d764b95e",
   "metadata": {},
   "source": [
    "Write a select statement that takes name from person table and return \"Hello, <name> how are you doing today?\" results in a column named greeting\n",
    "\n",
    "[Make sure you type the exact thing I wrote or the program may not execute properly]"
   ]
  },
  {
   "cell_type": "raw",
   "id": "456b652d",
   "metadata": {},
   "source": [
    "Ma SOLUTION:\n",
    "    SELECT CONCAT('Hello, ',name,' how are you doing today?') AS greeting FROM person \n",
    "SOLUTION Alternative:\n",
    "    SELECT 'Hello, ' || name || ' how are you doing today?' AS greeting from person"
   ]
  },
  {
   "cell_type": "code",
   "execution_count": null,
   "id": "fee60dcd",
   "metadata": {},
   "outputs": [],
   "source": []
  }
 ],
 "metadata": {
  "kernelspec": {
   "display_name": "Python 3 (ipykernel)",
   "language": "python",
   "name": "python3"
  },
  "language_info": {
   "codemirror_mode": {
    "name": "ipython",
    "version": 3
   },
   "file_extension": ".py",
   "mimetype": "text/x-python",
   "name": "python",
   "nbconvert_exporter": "python",
   "pygments_lexer": "ipython3",
   "version": "3.8.12"
  },
  "toc": {
   "base_numbering": 1,
   "nav_menu": {},
   "number_sections": true,
   "sideBar": true,
   "skip_h1_title": false,
   "title_cell": "Table of Contents",
   "title_sidebar": "Contents",
   "toc_cell": false,
   "toc_position": {},
   "toc_section_display": true,
   "toc_window_display": false
  }
 },
 "nbformat": 4,
 "nbformat_minor": 5
}
