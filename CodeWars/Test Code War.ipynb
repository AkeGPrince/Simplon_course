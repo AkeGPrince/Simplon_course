{
 "cells": [
  {
   "cell_type": "markdown",
   "id": "48040938",
   "metadata": {},
   "source": [
    "Test Gini Simplon"
   ]
  },
  {
   "cell_type": "code",
   "execution_count": null,
   "id": "42a70e8d",
   "metadata": {},
   "outputs": [],
   "source": [
    "construire un package \n",
    "from ***** import *****\n",
    ".get_data()"
   ]
  },
  {
   "cell_type": "code",
   "execution_count": 9,
   "id": "9d71dc15",
   "metadata": {},
   "outputs": [
    {
     "name": "stdout",
     "output_type": "stream",
     "text": [
      "l'indice de Gini pour Epargne == Oui est de: 0.375\n",
      "l'indice de Gini pour Epargne == Non est de: 0.4444444444444444\n",
      "l'indice de Gini pour Epargne est de: 0.4722222222222222\n"
     ]
    }
   ],
   "source": [
    "gini_epargne_oui = 1 - (3/4)**2 - (1/4)**2\n",
    "gini_epargne_non = 1 - (1/3)**2 - (2/3)**2\n",
    "gini_epargne = (4/6) * gini_epargne_oui + (3/6) * gini_epargne_non\n",
    "print(f\"l'indice de Gini pour Epargne == Oui est de: {gini_epargne_oui}\")\n",
    "print(f\"l'indice de Gini pour Epargne == Non est de: {gini_epargne_non}\")\n",
    "print(f\"l'indice de Gini pour Epargne est de: {gini}\")"
   ]
  },
  {
   "cell_type": "code",
   "execution_count": 15,
   "id": "861a23aa",
   "metadata": {},
   "outputs": [
    {
     "name": "stdout",
     "output_type": "stream",
     "text": [
      "l'indice de Gini pour Revenu == Faible est de: 0.375\n",
      "l'indice de Gini pour Revenu == Important est de: 0.5\n",
      "l'indice de Gini pour Revenu est de: 0.5462962962962963\n"
     ]
    }
   ],
   "source": [
    "gini_revenu_faible = 1 - (3/4)**2 - (1/4)**2\n",
    "gini_revenu_important = 1 - (2/4)**2 - (2/4)**2\n",
    "gini_revenu = (4/6) * gini_epargne_oui + (4/6) * gini_epargne_non\n",
    "print(f\"l'indice de Gini pour Revenu == Faible est de: {gini_revenu_faible}\")\n",
    "print(f\"l'indice de Gini pour Revenu == Important est de: {gini_revenu_important}\")\n",
    "print(f\"l'indice de Gini pour Revenu est de: {gini_revenu}\")"
   ]
  },
  {
   "cell_type": "code",
   "execution_count": 14,
   "id": "c5e94047",
   "metadata": {},
   "outputs": [
    {
     "ename": "SyntaxError",
     "evalue": "invalid syntax (1585276588.py, line 1)",
     "output_type": "error",
     "traceback": [
      "\u001b[0;36m  Cell \u001b[0;32mIn [14], line 1\u001b[0;36m\u001b[0m\n\u001b[0;31m    La règle pour l'arrondi est simple:\u001b[0m\n\u001b[0m       ^\u001b[0m\n\u001b[0;31mSyntaxError\u001b[0m\u001b[0;31m:\u001b[0m invalid syntax\n"
     ]
    }
   ],
   "source": [
    "La règle pour l'arrondi est simple:\n",
    "trouvez le reste après la division avec 100, et ajoutez 100 moins ce reste s'il n'est pas nul:\n",
    "\n",
    "import math\n",
    "def roundup(x):\n",
    "    return round(x/100 if x % 100 == 0 else (x + 100 - x % 100)/100)\n",
    "roundup(2000)"
   ]
  },
  {
   "cell_type": "markdown",
   "id": "4ea703ef",
   "metadata": {},
   "source": [
    "# DESCRIPTION:\n",
    "Implement the function unique_in_order which takes as argument a sequence and returns a list of items without any elements with the same value next to each other and preserving the original order of elements.\n",
    "\n",
    "For example:\n",
    "\n",
    "unique_in_order('AAAABBBCCDAABBB') == ['A', 'B', 'C', 'D', 'A', 'B']\n",
    "\n",
    "unique_in_order('ABBCcAD')         == ['A', 'B', 'C', 'c', 'A', 'D']\n",
    "\n",
    "unique_in_order([1,2,2,3,3])       == [1,2,3]"
   ]
  },
  {
   "cell_type": "markdown",
   "id": "5b7ebbff",
   "metadata": {},
   "source": [
    "### Ma solution"
   ]
  },
  {
   "cell_type": "code",
   "execution_count": null,
   "id": "bb0f20c1",
   "metadata": {},
   "outputs": [],
   "source": [
    "def unique_in_order(iterable):\n",
    "    lst = []\n",
    "    for i in range(len(iterable)):\n",
    "        if iterable[i] != iterable[i-1]:\n",
    "            lst.append(iterable[i])\n",
    "        elif iterable[i] == iterable[i] and len(iterable) <= 2:\n",
    "            lst.append(iterable[i])\n",
    "            lst = list(set(lst))\n",
    "    return lst\n",
    "unique_in_order(\"ABBCcAD\")"
   ]
  },
  {
   "cell_type": "markdown",
   "id": "e3b4e3cd",
   "metadata": {},
   "source": [
    "#### Solutions alternatives 1"
   ]
  },
  {
   "cell_type": "code",
   "execution_count": null,
   "id": "67a213af",
   "metadata": {},
   "outputs": [],
   "source": [
    "def unique_in_order(iterable):\n",
    "    result = []\n",
    "    prev = None\n",
    "    for char in iterable[0:]:\n",
    "        if char != prev:\n",
    "            result.append(char)\n",
    "            prev = char\n",
    "    return result\n",
    "unique_in_order(\"AABBCCDCCAA\")"
   ]
  },
  {
   "cell_type": "markdown",
   "id": "cc47ee7a",
   "metadata": {},
   "source": [
    "#### Solutions alternatives 2"
   ]
  },
  {
   "cell_type": "code",
   "execution_count": null,
   "id": "62d1527f",
   "metadata": {},
   "outputs": [],
   "source": [
    "def unique_in_order(iterable):\n",
    "    res = []\n",
    "    for item in iterable:\n",
    "        if len(res) == 0 or item != res[-1]:\n",
    "            res.append(item)\n",
    "    return res"
   ]
  },
  {
   "cell_type": "markdown",
   "id": "df5be928",
   "metadata": {},
   "source": [
    "# Description\n",
    "In this kata, you are asked to square every digit of a number and concatenate them.\n",
    "\n",
    "For example, if we run 9119 through the function, 811181 will come out, because 92 is 81 and 12 is 1.\n",
    "\n",
    "Note: The function accepts an integer and returns an integer"
   ]
  },
  {
   "cell_type": "markdown",
   "id": "96571f42",
   "metadata": {},
   "source": [
    "### Ma Solution"
   ]
  },
  {
   "cell_type": "code",
   "execution_count": null,
   "id": "ff71dba0",
   "metadata": {},
   "outputs": [],
   "source": [
    "def square_digits(list):\n",
    "    res = [int(x)**2 for i,x in enumerate(str(list))]\n",
    "    string = \"\".join(map(str, res))\n",
    "    return int(string)\n",
    "square_digits(9119)"
   ]
  },
  {
   "cell_type": "code",
   "execution_count": null,
   "id": "c2307469",
   "metadata": {},
   "outputs": [],
   "source": [
    "x = 9119\n",
    "x = str(y)\n",
    "print(type(x))\n",
    "lsst =[]\n",
    "for i, value in enumerate(x):\n",
    "    lsst.append(int(x[i])**2)\n",
    "    new2 = \"\".join(map(str, lsst))\n",
    "print(type(new2))\n",
    "print(new2)"
   ]
  },
  {
   "cell_type": "code",
   "execution_count": null,
   "id": "c3fa5d79",
   "metadata": {},
   "outputs": [],
   "source": []
  },
  {
   "cell_type": "code",
   "execution_count": null,
   "id": "2e9deec5",
   "metadata": {},
   "outputs": [],
   "source": [
    "# Python3 code to demonstrate\n",
    "# conversion of number to list of integers\n",
    "\n",
    "num = 2019\n",
    "# using list comprehension\n",
    "# to convert number to list of integers\n",
    "res = [int(x) for x in str(num)]\n",
    "print(\"The list from number is \" + str(res))\n",
    "\n",
    "#OR\n",
    "\n",
    "# using enumerate function\n",
    "n=2019\n",
    "res = [int(x) for i,x in enumerate(str(n))]\n",
    "print(res)\n",
    "\n",
    "#OR\n",
    "\n",
    "# using map()\n",
    "num = 2019 \n",
    "res = list(map(int, str(num)))\n",
    "print(\"The list from number is \" + str(res))"
   ]
  },
  {
   "cell_type": "code",
   "execution_count": null,
   "id": "2aab1d3a",
   "metadata": {},
   "outputs": [],
   "source": [
    "\n",
    "n=2019\n",
    "res = [int(x) for i,x in enumerate(str(n))]\n",
    "print(res)\n",
    "type(n)"
   ]
  },
  {
   "cell_type": "markdown",
   "id": "cec78fb3",
   "metadata": {},
   "source": [
    "####  Solutions Alternatives 1"
   ]
  },
  {
   "cell_type": "code",
   "execution_count": null,
   "id": "69de061c",
   "metadata": {},
   "outputs": [],
   "source": [
    "def square_digits(num):\n",
    "    ret = \"\"\n",
    "    for x in str(num):\n",
    "        ret += str(int(x)**2)\n",
    "    return int(ret)"
   ]
  },
  {
   "cell_type": "markdown",
   "id": "dfc8d413",
   "metadata": {},
   "source": [
    "#### Solution Alternatives 2"
   ]
  },
  {
   "cell_type": "code",
   "execution_count": null,
   "id": "1bbc1cb0",
   "metadata": {},
   "outputs": [],
   "source": [
    "def square_digits(num):\n",
    "    return int(''.join(str(int(d)**2) for d in str(num)))\n"
   ]
  },
  {
   "cell_type": "markdown",
   "id": "933be21e",
   "metadata": {},
   "source": [
    "# Description \n",
    "Complete the function that takes a non-negative integer n as input, and returns a list of all the powers of 2 with the exponent ranging from 0 to n ( inclusive ).\n",
    "\n",
    "n = 0  ==> [1]        # [2^0]\n",
    "\n",
    "n = 1  ==> [1, 2]     # [2^0, 2^1]\n",
    "\n",
    "n = 2  ==> [1, 2, 4]  # [2^0, 2^1, 2^2]"
   ]
  },
  {
   "cell_type": "markdown",
   "id": "4edec90f",
   "metadata": {},
   "source": [
    "### Ma Solution"
   ]
  },
  {
   "cell_type": "code",
   "execution_count": null,
   "id": "aaa23f3e",
   "metadata": {},
   "outputs": [],
   "source": [
    "y = 2\n",
    "m = list(range(int(y)+1))\n",
    "p = []\n",
    "x=4\n",
    "for i in range(len(m)):\n",
    "    p.append(y**m[i])\n",
    "print(p)\n",
    "\n",
    "\n",
    "#OR \n",
    "\n",
    "#def powers_of_two(n):\n",
    "[2**x for x in range(int(x)+1)] \n",
    "#Same\n",
    "[2**x for x in list(range(int(x)+1))]"
   ]
  },
  {
   "cell_type": "markdown",
   "id": "62608582",
   "metadata": {},
   "source": [
    "####  Solutions Alternatives 1"
   ]
  },
  {
   "cell_type": "code",
   "execution_count": null,
   "id": "75e108db",
   "metadata": {},
   "outputs": [],
   "source": [
    "def powers_of_two(n):\n",
    "    return [2**x for x in range(n+1)]"
   ]
  },
  {
   "cell_type": "markdown",
   "id": "6cc3b377",
   "metadata": {},
   "source": [
    "####  Solutions Alternatives 2"
   ]
  },
  {
   "cell_type": "code",
   "execution_count": null,
   "id": "3deb08c5",
   "metadata": {},
   "outputs": [],
   "source": [
    "def powers_of_two(n):\n",
    "    a = []\n",
    "    for i in range(0, n + 1):\n",
    "        a.append(2 ** i)    \n",
    "    return a"
   ]
  },
  {
   "cell_type": "markdown",
   "id": "65fa22ad",
   "metadata": {},
   "source": [
    "# Description\n",
    "Python dictionaries are inherently unsorted. So what do you do if you need to sort the contents of a dictionary?\n",
    "\n",
    "Create a function that returns a sorted list of (key, value) tuples (Javascript: arrays of 2 items).\n",
    "\n",
    "The list must be sorted by the value and be sorted largest to smallest.\n",
    "\n",
    "Examples\n",
    "sort_dict({3:1, 2:2, 1:3}) == [(1,3), (2,2), (3,1)]\n",
    "\n",
    "sort_dict({1:2, 2:4, 3:6}) == [(3,6), (2,4), (1,2)]"
   ]
  },
  {
   "cell_type": "markdown",
   "id": "0499ef1f",
   "metadata": {},
   "source": [
    "### Ma Solution "
   ]
  },
  {
   "cell_type": "code",
   "execution_count": null,
   "id": "082ad3f8",
   "metadata": {},
   "outputs": [],
   "source": [
    "def value(vl):\n",
    "        return vl[1]\n",
    "def sort_dict(d):\n",
    "    z = list(d.items())\n",
    "    return sorted((z), key=value, reverse = True)"
   ]
  },
  {
   "cell_type": "markdown",
   "id": "4ed7352b",
   "metadata": {},
   "source": [
    "#### Solutions Alternative "
   ]
  },
  {
   "cell_type": "code",
   "execution_count": null,
   "id": "eb3558c9",
   "metadata": {},
   "outputs": [],
   "source": [
    "def sort_dict(d):\n",
    "    return sorted(d.items(), key=lambda x: x[1], reverse=True)"
   ]
  },
  {
   "cell_type": "markdown",
   "id": "54323d00",
   "metadata": {},
   "source": [
    "# Description \n",
    "In this little assignment you are given a string of space separated numbers, and have to return the highest and lowest number.\n",
    "\n",
    "Examples\n",
    "\n",
    "high_and_low(\"1 2 3 4 5\")  # return \"5 1\"\n",
    "\n",
    "high_and_low(\"1 2 -3 4 5\") # return \"5 -3\"\n",
    "\n",
    "high_and_low(\"1 9 3 4 -5\") # return \"9 -5\"\n",
    "\n",
    "Notes\n",
    "\n",
    "All numbers are valid Int32, no need to validate them.\n",
    "\n",
    "There will always be at least one number in the input string.\n",
    "\n",
    "Output string must be two numbers separated by a single space, and highest number is first."
   ]
  },
  {
   "cell_type": "markdown",
   "id": "07b673be",
   "metadata": {},
   "source": [
    "### Ma Solution "
   ]
  },
  {
   "cell_type": "code",
   "execution_count": null,
   "id": "6a7b0888",
   "metadata": {},
   "outputs": [],
   "source": [
    "test = ('4 5 6 23 -4')\n",
    "def high_and_low(numbers):\n",
    "    num = numbers.split()\n",
    "    res = [eval(i) for i in num]\n",
    "    return f'{max(res)} {min(res)}'\n",
    "high_and_low(test)"
   ]
  },
  {
   "cell_type": "markdown",
   "id": "98751c74",
   "metadata": {},
   "source": [
    "#### Solutions Alternative "
   ]
  },
  {
   "cell_type": "code",
   "execution_count": null,
   "id": "564fb38e",
   "metadata": {},
   "outputs": [],
   "source": [
    "def high_and_low(numbers):\n",
    "  numbers = [int(c) for c in numbers.split(' ')]\n",
    "  return f\"{max(numbers)} {min(numbers)}\""
   ]
  },
  {
   "cell_type": "code",
   "execution_count": null,
   "id": "c4aa8228",
   "metadata": {},
   "outputs": [],
   "source": [
    "test = ('4 5 6 23 -4')\n",
    "def high_and_low(numbers):\n",
    "    nums = sorted(numbers.split(), key=int)\n",
    "    return f'{nums[-1]} {nums[0]}'\n",
    "high_and_low(test)"
   ]
  },
  {
   "cell_type": "markdown",
   "id": "3785f179",
   "metadata": {},
   "source": [
    "# Description \n",
    "A square of squares\n",
    "\n",
    "You like building blocks. You especially like building blocks that are squares. And what you even like more, is to arrange them into a square of square building blocks!\n",
    "\n",
    "However, sometimes, you can't arrange them into a square. Instead, you end up with an ordinary rectangle! Those blasted things! If you just had a way to know, whether you're currently working in vain… Wait! That's it! You just have to check if your number of building blocks is a perfect square.\n",
    "\n",
    "Task\n",
    "\n",
    "Given an integral number, determine if it's a square number:\n",
    "\n",
    "In mathematics, a square number or perfect square is an integer that is the square of an integer; in other words, it is the product of some integer with itself.\n",
    "\n",
    "The tests will always use some integral number, so don't worry about that in dynamic typed languages."
   ]
  },
  {
   "cell_type": "markdown",
   "id": "7e3bdfd1",
   "metadata": {},
   "source": [
    "### Ma Solution"
   ]
  },
  {
   "cell_type": "code",
   "execution_count": null,
   "id": "df40de56",
   "metadata": {},
   "outputs": [],
   "source": [
    "import math\n",
    "def is_square(n):    \n",
    "    if(n >=0):\n",
    "        sr = int(math.sqrt(n))\n",
    "        return ((sr*sr) == n)\n",
    "    return False \n",
    "is_square(85)"
   ]
  },
  {
   "cell_type": "markdown",
   "id": "0cd36403",
   "metadata": {},
   "source": [
    "#### Solutions Alternative"
   ]
  },
  {
   "cell_type": "code",
   "execution_count": null,
   "id": "ca95ff43",
   "metadata": {},
   "outputs": [],
   "source": [
    "def is_square(n):    \n",
    "    return n >= 0 and (n**0.5) % 1 == 0"
   ]
  },
  {
   "cell_type": "code",
   "execution_count": null,
   "id": "d3769f96",
   "metadata": {},
   "outputs": [],
   "source": [
    "import math\n",
    "def is_square(n):\n",
    "    return n > -1 and math.sqrt(n) % 1 == 0;\n"
   ]
  },
  {
   "cell_type": "markdown",
   "id": "1c2e9a91",
   "metadata": {},
   "source": [
    "# Description \n",
    "\n",
    "Your task is to make a function that can take any non-negative integer as an argument and return it with its digits in descending order. Essentially, rearrange the digits to create the highest possible number.\n",
    "\n",
    "Examples:\n",
    "Input: 42145 Output: 54421\n",
    "\n",
    "Input: 145263 Output: 654321\n",
    "\n",
    "Input: 123456789 Output: 987654321\n",
    "\n"
   ]
  },
  {
   "cell_type": "markdown",
   "id": "52d39a18",
   "metadata": {},
   "source": [
    "### Ma Solution "
   ]
  },
  {
   "cell_type": "code",
   "execution_count": null,
   "id": "7152b488",
   "metadata": {},
   "outputs": [],
   "source": [
    "testing = 123456789\n",
    "def descending_order(num):\n",
    "    nums = [int(i) for i in str(num)]\n",
    "    nums.sort(reverse = True)\n",
    "    rslt = [str(i) for i in nums]\n",
    "    return int(\"\".join(rslt))\n",
    "descending_order(testing)"
   ]
  },
  {
   "cell_type": "markdown",
   "id": "16620e5a",
   "metadata": {},
   "source": [
    "#### Solutions Alternative "
   ]
  },
  {
   "cell_type": "code",
   "execution_count": null,
   "id": "bfc7ec2c",
   "metadata": {},
   "outputs": [],
   "source": [
    "def Descending_Order(num):\n",
    "    return int(\"\".join(sorted(str(num), reverse=True)))\n",
    "    "
   ]
  },
  {
   "cell_type": "markdown",
   "id": "8f2561ce",
   "metadata": {},
   "source": [
    "# Description \n",
    "In this kata you will create a function that takes a list of non-negative integers and strings  and returns a new list with the strings filtered out.\n",
    "\n",
    "Example:\n",
    "filter_list([1,2,'a','b']) == [1,2] \\\n",
    "filter_list([1,'a','b',0,15]) == [1,0,15] \\\n",
    "filter_list([1,2,'aasf','1','123',123]) == [1,2,123] "
   ]
  },
  {
   "cell_type": "markdown",
   "id": "6180d74d",
   "metadata": {},
   "source": [
    "### Ma Solution "
   ]
  },
  {
   "cell_type": "code",
   "execution_count": null,
   "id": "fad9097c",
   "metadata": {},
   "outputs": [],
   "source": [
    "def filter_list(l):\n",
    "    lst = []\n",
    "    for i in l:\n",
    "        try:\n",
    "            if i == int(i):\n",
    "                lst.append(i)\n",
    "        except ValueError:\n",
    "            pass\n",
    "    return lst"
   ]
  },
  {
   "cell_type": "markdown",
   "id": "dc2d8c61",
   "metadata": {},
   "source": [
    "#### Solutions Alternative"
   ]
  },
  {
   "cell_type": "code",
   "execution_count": null,
   "id": "38b91e12",
   "metadata": {},
   "outputs": [],
   "source": [
    "def filter_list(l):\n",
    "  'return a new list with the strings filtered out'\n",
    "  return [x for x in l if type(x) is not str]\n"
   ]
  },
  {
   "cell_type": "code",
   "execution_count": null,
   "id": "458fa196",
   "metadata": {},
   "outputs": [],
   "source": [
    "def filter_list(l):\n",
    "  'return a new list with the strings filtered out'\n",
    "  return [i for i in l if not isinstance(i, str)]"
   ]
  },
  {
   "cell_type": "markdown",
   "id": "ed5d855e",
   "metadata": {},
   "source": [
    "# Description \n",
    "\n",
    "Debug   function getSumOfDigits that takes positive integer to calculate sum of it's digits. Assume that argument is an integer.\n",
    "\n",
    "Example:\n",
    "\n",
    "123  => 6 \n",
    "\n",
    "223  => 7 \n",
    "\n",
    "1337 => 14 "
   ]
  },
  {
   "cell_type": "code",
   "execution_count": null,
   "id": "72b6aaf7",
   "metadata": {},
   "outputs": [],
   "source": [
    "def get_sum_of_digits(num):\n",
    "    return sum([int(x) for x in str(num)])"
   ]
  },
  {
   "cell_type": "markdown",
   "id": "53f9dc57",
   "metadata": {},
   "source": [
    "# Description \n",
    "You probably know the \"like\" system from Facebook and other pages. People can \"like\" blog posts, pictures or other items. We want to create the text that should be displayed next to such an item.\n",
    "\n",
    "Implement the function which takes an array containing the names of people that like an item. It must return the display text as shown in the examples:\n",
    "\n",
    "[]                                -->  \"no one likes this\"\n",
    "\n",
    "[\"Peter\"]                         -->  \"Peter likes this\"\n",
    "\n",
    "[\"Jacob\", \"Alex\"]                 -->  \"Jacob and Alex like this\"\n",
    "\n",
    "[\"Max\", \"John\", \"Mark\"]           -->  \"Max, John and Mark like this\"\n",
    "\n",
    "[\"Alex\", \"Jacob\", \"Mark\", \"Max\"]  -->  \"Alex, Jacob and 2 others like this\""
   ]
  },
  {
   "cell_type": "markdown",
   "id": "e6010f1a",
   "metadata": {},
   "source": [
    "### Ma Solution"
   ]
  },
  {
   "cell_type": "code",
   "execution_count": null,
   "id": "497fc49d",
   "metadata": {},
   "outputs": [],
   "source": [
    "l =[]\n",
    "l1 = ['Max']\n",
    "l2 = ['Max', 'jacob']\n",
    "l3 = ['Max', 'jacob', 'Fred']\n",
    "l4 = ['Max', 'jacob', 'Michel', 'Stephane']\n",
    "def likes(names):\n",
    "    for i in range(len(names)+1):\n",
    "        if len(names) <= 0:\n",
    "            likes = f'no one likes this'\n",
    "        elif len(names) <= 1:\n",
    "            likes = f'{names[0]} likes this'\n",
    "        elif len(names) <= 2:\n",
    "            likes = f'{names[0]}, {names[1]} likes this'\n",
    "        elif len(names) <= 3:\n",
    "            likes = f'{names[0]}, {names[1]}, {names[2]} likes this'\n",
    "        elif len(names) > 3: \n",
    "            likes = f'{names[0]}, {names[1]}, and 2 others likes this'\n",
    "    return likes\n",
    "\n",
    "likes(l2)"
   ]
  },
  {
   "cell_type": "markdown",
   "id": "888e752a",
   "metadata": {},
   "source": [
    "#### Solution Alternative"
   ]
  },
  {
   "cell_type": "markdown",
   "id": "b2710d1e",
   "metadata": {},
   "source": [
    "# Description \n",
    "Write a function that accepts an array of 10 integers (between 0 and 9), that returns a string of those numbers in the form of a phone number.\n",
    "\n",
    "Example:\n",
    "\n",
    "create_phone_number([1, 2, 3, 4, 5, 6, 7, 8, 9, 0]) # => returns \"(123) 456-7890\"\n",
    "\n",
    "The returned format must be correct in order to complete this challenge.\n",
    "\n",
    "Don't forget the space after the closing parentheses!"
   ]
  },
  {
   "cell_type": "markdown",
   "id": "c8e4292b",
   "metadata": {},
   "source": [
    "### Ma Solution"
   ]
  },
  {
   "cell_type": "code",
   "execution_count": null,
   "id": "8a6f1019",
   "metadata": {},
   "outputs": [],
   "source": [
    "def create_phone_number(n):\n",
    "    number = [str(x) for x in n]\n",
    "    for i in range(len(number)):\n",
    "        x= number[:3]\n",
    "        y = number[3:6]\n",
    "        z = number[6:]\n",
    "    return f'({\"\".join(x)}) {\"\".join(y)}-{\"\".join(z)}'"
   ]
  },
  {
   "cell_type": "markdown",
   "id": "1beb8a38",
   "metadata": {},
   "source": [
    "#### Solutions Alternatives\n"
   ]
  },
  {
   "cell_type": "code",
   "execution_count": null,
   "id": "53744f59",
   "metadata": {},
   "outputs": [],
   "source": [
    "def create_phone_number(n):\n",
    "    m = ''.join(map(str, n))\n",
    "    return f\"({m[:3]}) {m[3:6]}-{m[6:]}\"\n",
    "\n",
    "########\n",
    "\n",
    "def create_phone_number(n):\n",
    "  str1 =  ''.join(str(x) for x in n[0:3])\n",
    "  str2 =  ''.join(str(x) for x in n[3:6])\n",
    "  str3 =  ''.join(str(x) for x in n[6:10])\n",
    "\n",
    "\n",
    "  return '({}) {}-{}'.format(str1, str2, str3)"
   ]
  },
  {
   "cell_type": "markdown",
   "id": "1eda1537",
   "metadata": {},
   "source": [
    "# Description \n",
    "Given an array of integers, find the one that appears an odd number of times.\n",
    "\n",
    "There will always be only one integer that appears an odd number of times.\n",
    "\n",
    "Examples: \n",
    "\n",
    "[7] should return 7, because it occurs 1 time (which is odd).\n",
    "\n",
    "[0] should return 0, because it occurs 1 time (which is odd).\n",
    "\n",
    "[1,1,2] should return 2, because it occurs 1 time (which is odd).\n",
    "\n",
    "[0,1,0,1,0] should return 0, because it occurs 3 times (which is odd).\n",
    "\n",
    "[1,2,2,3,3,3,4,3,3,3,2,2,1] should return 4, because it appears 1 time (which is odd)."
   ]
  },
  {
   "cell_type": "markdown",
   "id": "5d109693",
   "metadata": {},
   "source": [
    "### Ma Solution"
   ]
  },
  {
   "cell_type": "code",
   "execution_count": null,
   "id": "c81d477b",
   "metadata": {},
   "outputs": [],
   "source": [
    "def find_it(seq):\n",
    "    for i in range(len(seq)):\n",
    "        if seq.count(seq[i]) % 2 != 0:\n",
    "            return int(seq[i])\n",
    "        if seq.count(seq[i]) == 1:\n",
    "            return seq[i]\n",
    "\n",
    "#####\n",
    "[x for x in n if n.count(x) == 1]\n"
   ]
  },
  {
   "cell_type": "markdown",
   "id": "3621c7f9",
   "metadata": {},
   "source": [
    "#### Solutions Alternatives: "
   ]
  },
  {
   "cell_type": "code",
   "execution_count": null,
   "id": "916c6836",
   "metadata": {},
   "outputs": [],
   "source": [
    "n = [7, 3, 3, 5, 5]\n",
    "n1 = [20,1,-1,2,-2,3,3,5,5,1,2,4,20,4,-1,-2,5]\n",
    "\n",
    "def find_it(seq):\n",
    "    for i in range(len(seq)):\n",
    "        if seq.count(seq[i]) % 3 == 0:\n",
    "            return int(seq[i])\n",
    "    for x in seq:\n",
    "        if seq.count(x) == 1:\n",
    "            return x\n",
    "    pass\n",
    "\n",
    "find_it(n3)"
   ]
  },
  {
   "cell_type": "code",
   "execution_count": null,
   "id": "6db7cc03",
   "metadata": {},
   "outputs": [],
   "source": [
    "def find_it(seq):\n",
    "    for i in seq:\n",
    "        if seq.count(i)%2!=0:\n",
    "            return i\n",
    "        \n",
    "#####################\n",
    "\n",
    "def find_it(seq):\n",
    "    return [x for x in seq if seq.count(x) % 2][0]"
   ]
  },
  {
   "cell_type": "markdown",
   "id": "7b8b4327",
   "metadata": {},
   "source": [
    "# Descritpion \n",
    "You are going to be given a word. Your job is to return the middle character of the word. If the word's length is odd, return the middle character. If the word's length is even, return the middle 2 characters.\n",
    "\n",
    "#Examples:\n",
    "\n",
    "Kata.getMiddle(\"test\") should return \"es\"\n",
    "\n",
    "Kata.getMiddle(\"testing\") should return \"t\"\n",
    "\n",
    "Kata.getMiddle(\"middle\") should return \"dd\"\n",
    "\n",
    "Kata.getMiddle(\"A\") should return \"A\"\n"
   ]
  },
  {
   "cell_type": "markdown",
   "id": "10158fd0",
   "metadata": {},
   "source": [
    "### Ma Solution"
   ]
  },
  {
   "cell_type": "code",
   "execution_count": 38,
   "id": "94d8a911",
   "metadata": {},
   "outputs": [
    {
     "data": {
      "text/plain": [
       "'dd'"
      ]
     },
     "execution_count": 38,
     "metadata": {},
     "output_type": "execute_result"
    }
   ],
   "source": [
    "w1 = \"testing\"\n",
    "w2 = \"test\"\n",
    "w3 = \"middle\"\n",
    "w4 = \"A\"\n",
    "\n",
    "def get_middle(s):\n",
    "    for i in range(len(s)):\n",
    "        if len(s) % 2 ==0:\n",
    "            return f'{s[int(len(s)/2)-1]}{s[int(len(s)/2)]}'\n",
    "        if len(s) % 2 != 0:\n",
    "            return s[int(len(s)//2)]\n",
    "        \n",
    "get_middle(w3)"
   ]
  },
  {
   "cell_type": "markdown",
   "id": "7d81be53",
   "metadata": {},
   "source": [
    "# Description \n",
    "Digital root is the recursive sum of all the digits in a number.\n",
    "\n",
    "Given n, take the sum of the digits of n. If that value has more than one digit,\n",
    "\n",
    "continue reducing in this way until a single-digit number is produced.\n",
    "\n",
    "The input will be a non-negative integer.\n",
    "\n",
    "16  -->  1 + 6 = 7\n",
    "\n",
    "942  -->  9 + 4 + 2 = 15  -->  1 + 5 = 6\n"
   ]
  },
  {
   "cell_type": "markdown",
   "id": "1746eae6",
   "metadata": {},
   "source": [
    "### Ma Solution"
   ]
  },
  {
   "cell_type": "code",
   "execution_count": null,
   "id": "56c14d6a",
   "metadata": {},
   "outputs": [],
   "source": [
    "\n",
    "def digital_root(n):\n",
    "    n = [int(x) for x in str(n)]\n",
    "    while len(n) >1:\n",
    "        n = sum (n)\n",
    "        n = [int(x) for x in str(n)]\n",
    "        continue\n",
    "    n = [str(x) for x in n]\n",
    "    return int(\"\".join(n))"
   ]
  },
  {
   "cell_type": "code",
   "execution_count": null,
   "id": "2529dd36",
   "metadata": {},
   "outputs": [],
   "source": [
    "digital_root(1999)"
   ]
  },
  {
   "cell_type": "markdown",
   "id": "d34ae89f",
   "metadata": {},
   "source": [
    "#### Solutions Alternatives "
   ]
  },
  {
   "cell_type": "code",
   "execution_count": null,
   "id": "896f3882",
   "metadata": {},
   "outputs": [],
   "source": [
    "def digital_root(n):\n",
    "    return n if n < 10 else digital_root(sum(map(int,str(n))))"
   ]
  },
  {
   "cell_type": "markdown",
   "id": "baee1bc9",
   "metadata": {},
   "source": [
    "# Descritpion \n",
    "Your goal in this kata is to implement a difference function, which subtracts one list from another and returns the result.\n",
    "\n",
    "It should remove all values from list a, which are present in list b keeping their order.\n",
    "\n",
    "array_diff([1,2],[1]) == [2]\n",
    "\n",
    "If a value is present in b, all of its occurrences must be removed from the other:\n",
    "\n",
    "array_diff([1,2,2,2,3],[2]) == [1,3]"
   ]
  },
  {
   "cell_type": "markdown",
   "id": "acfcbb6b",
   "metadata": {},
   "source": [
    "### Ma Solution"
   ]
  },
  {
   "cell_type": "code",
   "execution_count": 50,
   "id": "eee6014c",
   "metadata": {},
   "outputs": [],
   "source": [
    "a = [1,3,5,7]\n",
    "b=[ 1, 3, 5, 8]"
   ]
  },
  {
   "cell_type": "code",
   "execution_count": 51,
   "id": "a36031e1",
   "metadata": {},
   "outputs": [],
   "source": [
    "def array_diff(a, b):\n",
    "    lst1, lst2 = a, b\n",
    "    return [i for i in lst1 if i not in lst2]"
   ]
  },
  {
   "cell_type": "code",
   "execution_count": 52,
   "id": "ad6472fe",
   "metadata": {},
   "outputs": [
    {
     "data": {
      "text/plain": [
       "[7]"
      ]
     },
     "execution_count": 52,
     "metadata": {},
     "output_type": "execute_result"
    }
   ],
   "source": [
    "array_diff(a,b)"
   ]
  },
  {
   "cell_type": "markdown",
   "id": "104e214a",
   "metadata": {},
   "source": [
    "#### Solution Alternative\n"
   ]
  },
  {
   "cell_type": "code",
   "execution_count": null,
   "id": "2daa1cc2",
   "metadata": {},
   "outputs": [],
   "source": [
    "def array_diff(a, b):\n",
    "    return [x for x in a if x not in b]"
   ]
  },
  {
   "cell_type": "markdown",
   "id": "705e2b8d",
   "metadata": {},
   "source": [
    "# Descritpion \n",
    "Write an algorithm that takes an array and moves all of the zeros to the end, preserving the order of the other elements.\n",
    "\n",
    "move_zeros([1, 0, 1, 2, 0, 1, 3]) # returns [1, 1, 2, 1, 3, 0, 0]"
   ]
  },
  {
   "cell_type": "markdown",
   "id": "e55c279f",
   "metadata": {},
   "source": [
    "### Ma Solution"
   ]
  },
  {
   "cell_type": "code",
   "execution_count": null,
   "id": "ca64dfaa",
   "metadata": {},
   "outputs": [],
   "source": [
    "def move_zeros(lst):\n",
    "    for i in range(len(lst)):\n",
    "        try:\n",
    "            x = len(lst)\n",
    "            lst.remove(0)\n",
    "            lst.insert(x-1, 0)\n",
    "        except:\n",
    "            return lst\n",
    "    return lst"
   ]
  },
  {
   "cell_type": "markdown",
   "id": "a01dad4d",
   "metadata": {},
   "source": [
    "#### Solution Alternative"
   ]
  },
  {
   "cell_type": "code",
   "execution_count": null,
   "id": "35d61cd3",
   "metadata": {},
   "outputs": [],
   "source": [
    "def move_zeros(arr):\n",
    "    l = [i for i in arr if isinstance(i, bool) or i!=0]\n",
    "    return l+[0]*(len(arr)-len(l))"
   ]
  },
  {
   "cell_type": "markdown",
   "id": "7881afec",
   "metadata": {},
   "source": [
    "# Description\n",
    "Write a function that takes an integer as input,\n",
    "\n",
    "and returns the number of bits that are equal to one in the binary representation of that number.\n",
    "\n",
    "You can guarantee that input is non-negative.\n",
    "\n",
    "Example: The binary representation of 1234 is 10011010010, so the function should return 5 in this case"
   ]
  },
  {
   "cell_type": "markdown",
   "id": "5dac9689",
   "metadata": {},
   "source": [
    "### Ma solution "
   ]
  },
  {
   "cell_type": "code",
   "execution_count": null,
   "id": "73ad56fe",
   "metadata": {},
   "outputs": [],
   "source": [
    "def count_bits(n):\n",
    "    n = bin(n)[2:]\n",
    "    return n.count('1')"
   ]
  },
  {
   "cell_type": "markdown",
   "id": "b7465ff3",
   "metadata": {},
   "source": [
    "#### Solutions Alternatives"
   ]
  },
  {
   "cell_type": "code",
   "execution_count": null,
   "id": "c1963a47",
   "metadata": {},
   "outputs": [],
   "source": [
    "def countBits(n):\n",
    "    return bin(n).count(\"1\")"
   ]
  },
  {
   "cell_type": "markdown",
   "id": "63850241",
   "metadata": {},
   "source": [
    "# Description \n",
    "Write a function, persistence, that takes in a positive parameter num and returns its multiplicative persistence,\n",
    "\n",
    "which is the number of times you must multiply the digits in num until you reach a single digit.\n",
    "\n",
    "For example (Input --> Output):\n",
    "\n",
    "39 --> 3 (because 3*9 = 27, 2*7 = 14, 1*4 = 4 and 4 has only one digit)\n",
    "\n",
    "999 --> 4 (because 9*9*9 = 729, 7*2*9 = 126, 1*2*6 = 12, and finally 1*2 = 2)\n",
    "\n",
    "4 --> 0 (because 4 is already a one-digit number)"
   ]
  },
  {
   "cell_type": "code",
   "execution_count": null,
   "id": "77ad684f",
   "metadata": {},
   "outputs": [],
   "source": [
    "def digital_root(n):\n",
    "    n = [int(x) for x in str(n)]\n",
    "    while len(n) >1:\n",
    "        n = sum (n)\n",
    "        n = [int(x) for x in str(n)]\n",
    "        continue\n",
    "    n = [str(x) for x in n]\n",
    "    return int(\"\".join(n))\n"
   ]
  },
  {
   "cell_type": "code",
   "execution_count": null,
   "id": "b55dc981",
   "metadata": {},
   "outputs": [],
   "source": [
    "az = 999\n",
    "def digital_multi(n):\n",
    "    n = [int(x) for x in str(n)]\n",
    "    counter = 0\n",
    "    while len(n) >1:\n",
    "        for digit in n:\n",
    "            n = [int(x)*x for x in str(value)]\n",
    "            counter += 1 \n",
    "            continue\n",
    "    return counter\n",
    "digital_multi(az)"
   ]
  },
  {
   "cell_type": "code",
   "execution_count": null,
   "id": "17eb97e0",
   "metadata": {},
   "outputs": [],
   "source": [
    "Initialize the value of the product to 1(not 0 as 0 multiplied with anything returns zero).\n",
    "Traverse till the end of the list, multiply every number with the product.\n",
    "The value stored in the product at the end will give you your final answer.\n",
    "test = [1, 1, 2, 1, 3]\n",
    "value = 1\n",
    "for i in test:\n",
    "    value *= i\n",
    "print(value)"
   ]
  },
  {
   "cell_type": "code",
   "execution_count": null,
   "id": "a6330cef",
   "metadata": {},
   "outputs": [],
   "source": [
    "test = [9, 9, 9]\n",
    "value = 1\n",
    "counter = 0\n",
    "\n",
    "for i in test:\n",
    "    value *= i\n",
    "    print(value)\n",
    "    counter += 1\n",
    "    continue\n",
    "    test.remove(i)\n",
    "print (counter)"
   ]
  },
  {
   "cell_type": "markdown",
   "id": "1633cb41",
   "metadata": {},
   "source": [
    "# Description \n",
    "Task\n",
    "You will be given an array of numbers. You have to sort the odd numbers in ascending order while leaving the even \n",
    "\n",
    "numbers at their original positions.\n",
    "\n",
    "Examples: \n",
    "\n",
    "[7, 1]  =>  [1, 7]\n",
    " \n",
    "[5, 8, 6, 3, 4]  =>  [3, 8, 6, 5, 4] \n",
    "\n",
    "[9, 8, 7, 6, 5, 4, 3, 2, 1, 0]  =>  [1, 8, 3, 6, 5, 4, 7, 2, 9, 0]"
   ]
  },
  {
   "cell_type": "markdown",
   "id": "60b00466",
   "metadata": {},
   "source": [
    "### Ma Solution "
   ]
  },
  {
   "cell_type": "code",
   "execution_count": null,
   "id": "8731ec50",
   "metadata": {},
   "outputs": [],
   "source": [
    "array = [5, 3, 2, 8, 1, 4]\n",
    "sorted_array = sorted([i for i in array if i % 2 != 0])\n",
    "sorted_array"
   ]
  },
  {
   "cell_type": "code",
   "execution_count": null,
   "id": "d98a5eef",
   "metadata": {},
   "outputs": [],
   "source": [
    "def sort_array(source_array):\n",
    "    sorted_array = [i for i in source_array if i % 2 != 0]\n",
    "    sorted_array.sort()\n",
    "    for index, item in enumerate(source_array):\n",
    "        if item % 2 == 0:\n",
    "            sorted_array.insert(index, item)\n",
    "    return sorted_array"
   ]
  },
  {
   "cell_type": "markdown",
   "id": "20ed6fbc",
   "metadata": {},
   "source": [
    "#### Solutions Alternatives "
   ]
  },
  {
   "cell_type": "code",
   "execution_count": null,
   "id": "30c00814",
   "metadata": {},
   "outputs": [],
   "source": [
    "def sort_array(arr):\n",
    "  odds = sorted((x for x in arr if x%2 != 0), reverse=True)\n",
    "  return [x if x%2==0 else odds.pop() for x in arr]\n",
    "sort_array(array)"
   ]
  },
  {
   "cell_type": "markdown",
   "id": "32be950a",
   "metadata": {},
   "source": [
    "# Description \n",
    "vowelOne\n",
    "\n",
    "Write a function that takes a string and outputs a strings of 1's and 0's where vowels become 1's and non-vowels become 0's.\n",
    "\n",
    "All non-vowels including non alpha characters (spaces,commas etc.) should be included.\n",
    "\n",
    "Examples:\n",
    "\n",
    "vowelOne \"abceios\" -- \"1001110\"\n",
    "\n",
    "vowelOne \"aeiou, abc\" -- \"1111100100\""
   ]
  },
  {
   "cell_type": "markdown",
   "id": "4232c7be",
   "metadata": {},
   "source": [
    "### Ma solution "
   ]
  },
  {
   "cell_type": "code",
   "execution_count": null,
   "id": "0ddee9f6",
   "metadata": {},
   "outputs": [],
   "source": [
    "def vowel_one(s):\n",
    "    s = s.lower()\n",
    "    z = []\n",
    "    for i, char in enumerate(s):\n",
    "        if s[i] in 'aeiou':\n",
    "            z.append(s[i].replace(s[i], \"1\"))\n",
    "        else:\n",
    "            z.append(s[i].replace(s[i], \"0\"))           \n",
    "    return \"\".join(z)"
   ]
  },
  {
   "cell_type": "code",
   "execution_count": null,
   "id": "63d6bbf1",
   "metadata": {},
   "outputs": [],
   "source": [
    "def vowel_one(s):\n",
    "    s = s.lower()\n",
    "    return\"\".join([x.replace(s[i], \"1\") if s[i] in 'aeiou' else x.replace(s[i], \"0\") for i,x in enumerate(str(s))])\n",
    "vowel_one(ap)"
   ]
  },
  {
   "cell_type": "markdown",
   "id": "28e247d9",
   "metadata": {},
   "source": [
    "#### Solutions Alternatives"
   ]
  },
  {
   "cell_type": "code",
   "execution_count": null,
   "id": "da254d46",
   "metadata": {},
   "outputs": [],
   "source": [
    "def vowel_one(s):\n",
    "    return \"\".join(\"1\" if c in \"aeiou\" else \"0\" for c in s.lower())"
   ]
  },
  {
   "cell_type": "markdown",
   "id": "37e270f0",
   "metadata": {},
   "source": [
    "# Description "
   ]
  },
  {
   "cell_type": "code",
   "execution_count": null,
   "id": "d093962b",
   "metadata": {},
   "outputs": [],
   "source": [
    "#('+', 4, 7) --> 11"
   ]
  },
  {
   "cell_type": "code",
   "execution_count": null,
   "id": "72db79a7",
   "metadata": {},
   "outputs": [],
   "source": [
    "import operator\n",
    "\n",
    "ops = {\n",
    "    '+' : operator.add,\n",
    "    '-' : operator.sub,\n",
    "    '*' : operator.mul,\n",
    "    '/' : operator.truediv,  # use operator.div for Python 2\n",
    "    '%' : operator.mod,\n",
    "    '^' : operator.xor,\n",
    "}"
   ]
  },
  {
   "cell_type": "code",
   "execution_count": null,
   "id": "513e0188",
   "metadata": {},
   "outputs": [],
   "source": [
    "c = '+', 5, 7\n"
   ]
  },
  {
   "cell_type": "code",
   "execution_count": null,
   "id": "04a5d4ef",
   "metadata": {},
   "outputs": [],
   "source": [
    "b,e,d = c"
   ]
  },
  {
   "cell_type": "code",
   "execution_count": null,
   "id": "c36d3808",
   "metadata": {},
   "outputs": [],
   "source": [
    "v = ops[b] (d , e)"
   ]
  },
  {
   "cell_type": "code",
   "execution_count": null,
   "id": "218ddf70",
   "metadata": {},
   "outputs": [],
   "source": [
    "v"
   ]
  },
  {
   "cell_type": "code",
   "execution_count": null,
   "id": "197fb9a8",
   "metadata": {},
   "outputs": [],
   "source": [
    "d"
   ]
  },
  {
   "cell_type": "code",
   "execution_count": null,
   "id": "1915e9aa",
   "metadata": {},
   "outputs": [],
   "source": [
    "import operator\n",
    "def basic_op(operator, value1, value2):\n",
    "    operator = {\n",
    "    '+' : operator.add,\n",
    "    '-' : operator.sub,\n",
    "    '*' : operator.mul,\n",
    "    '/' : operator.truediv,  \n",
    "    '%' : operator.mod,\n",
    "    '^' : operator.xor\n",
    "    }\n",
    "    rslt = ops[operator] (value1, value2)\n",
    "    return rslt"
   ]
  },
  {
   "cell_type": "code",
   "execution_count": null,
   "id": "e76af8ce",
   "metadata": {},
   "outputs": [],
   "source": [
    "basic_op('-', 7, 2)"
   ]
  },
  {
   "cell_type": "markdown",
   "id": "61868bfd",
   "metadata": {},
   "source": [
    "# DESCRIPTION \n",
    "\n",
    "Simple, given a string of words, return the length of the shortest word(s).\n",
    "\n",
    "String will never be empty and you do not need to account for different data types.\n",
    "\n"
   ]
  },
  {
   "cell_type": "markdown",
   "id": "fa208699",
   "metadata": {},
   "source": [
    "### Ma Solution:"
   ]
  },
  {
   "cell_type": "code",
   "execution_count": null,
   "id": "cbd6c2b0",
   "metadata": {
    "scrolled": true
   },
   "outputs": [],
   "source": [
    "def find_short(s):\n",
    "    return len(min(s.split(), key=len))\n"
   ]
  },
  {
   "cell_type": "markdown",
   "id": "c9d1afe0",
   "metadata": {},
   "source": [
    "#### Solution Alternative:"
   ]
  },
  {
   "cell_type": "code",
   "execution_count": null,
   "id": "f9313cb3",
   "metadata": {},
   "outputs": [],
   "source": [
    "def find_short(s):\n",
    "    return min(len(x) for x in s.split())"
   ]
  },
  {
   "cell_type": "markdown",
   "id": "1f8a57e9",
   "metadata": {},
   "source": [
    "# DESCRIPTION \n",
    "Count the number of Duplicates\n",
    "Write a function that will return the count of distinct case-insensitive alphabetic characters and numeric digits that occur more than once in the input string. The input string can be assumed to contain only alphabets (both uppercase and lowercase) and numeric digits.\n",
    "\n",
    "Example\n",
    "\"abcde\" -> 0 # no characters repeats more than once\n",
    "\n",
    "\"aabbcde\" -> 2 # 'a' and 'b'\n",
    "\n",
    "\"aabBcde\" -> 2 # 'a' occurs twice and 'b' twice (`b` and `B`)\n",
    "\n",
    "\"indivisibility\" -> 1 # 'i' occurs six times\n",
    "\n",
    "\"Indivisibilities\" -> 2 # 'i' occurs seven times and 's' occurs twice\n",
    "\n",
    "\"aA11\" -> 2 # 'a' and '1'\n",
    "\n",
    "\"ABBA\" -> 2 # 'A' and 'B' each occur twice"
   ]
  },
  {
   "cell_type": "markdown",
   "id": "6993e375",
   "metadata": {},
   "source": [
    "### Ma Soltuion"
   ]
  },
  {
   "cell_type": "code",
   "execution_count": null,
   "id": "8a436cdd",
   "metadata": {},
   "outputs": [],
   "source": [
    "from collections import Counter\n",
    "def duplicate_count(text):\n",
    "    s = Counter(text.lower())\n",
    "    res = 0\n",
    "    for value in s:\n",
    "        if s[value] > 1:\n",
    "            res = res + 1\n",
    "    return res"
   ]
  },
  {
   "cell_type": "markdown",
   "id": "c7df66e0",
   "metadata": {},
   "source": [
    "#### Solution alternatives"
   ]
  },
  {
   "cell_type": "code",
   "execution_count": null,
   "id": "45db9f1a",
   "metadata": {},
   "outputs": [],
   "source": [
    "def duplicate_count(text):\n",
    "    text = text.lower()\n",
    "    duplicates = []\n",
    "    for i in text:\n",
    "        if text.count(i) > 1 and i not in duplicates:\n",
    "            duplicates.append(i)    \n",
    "    return len(duplicates)"
   ]
  },
  {
   "cell_type": "code",
   "execution_count": null,
   "id": "bd98b44c",
   "metadata": {},
   "outputs": [],
   "source": [
    "def duplicate_count(text):\n",
    "    text = text.lower()\n",
    "    duplicates = []\n",
    "    for i in text:\n",
    "        if text.count(i) > 1 and i not in duplicates:\n",
    "            duplicates.append(i)    \n",
    "    return len(duplicates)"
   ]
  },
  {
   "cell_type": "code",
   "execution_count": null,
   "id": "45020b9e",
   "metadata": {},
   "outputs": [],
   "source": [
    "def duplicate_count(text):\n",
    "    n=0\n",
    "    text=text.lower()\n",
    "    for i in set(text):\n",
    "        if text.count(i) >1:\n",
    "            n+=1\n",
    "    return n\n",
    "\n",
    "l = '9pk2v7qUDpWQZuslEKiCiRZ3yDDIzGg4aNhrgaq4gmyWnkjilpDeczOp99ife7j4em0IclcaScNcoqg5RSieV'\n",
    "\n",
    "n = 0\n",
    "for i in set(l):\n",
    "    if l.count(i) >1:\n",
    "            n+=1\n",
    "n"
   ]
  },
  {
   "cell_type": "code",
   "execution_count": null,
   "id": "342cc07a",
   "metadata": {},
   "outputs": [],
   "source": []
  },
  {
   "cell_type": "code",
   "execution_count": null,
   "id": "5113c9ba",
   "metadata": {},
   "outputs": [],
   "source": [
    "res = 0\n",
    "for value in s:\n",
    "    if s[value] > 1:\n",
    "        res = res + 1"
   ]
  },
  {
   "cell_type": "code",
   "execution_count": null,
   "id": "1bbf52e4",
   "metadata": {},
   "outputs": [],
   "source": [
    "res"
   ]
  },
  {
   "cell_type": "markdown",
   "id": "90391dd6",
   "metadata": {},
   "source": [
    "# DESCRITPION\n",
    "The goal of this exercise is to convert a string to a new string where each character in the new string is \"(\" if that character appears only once in the original string, or \")\" if that character appears more than once in the original string. Ignore capitalization when determining if a character is a duplicate.\n",
    "\n",
    "Examples\n",
    "\n",
    "\"din\"      =>  \"(((\"\n",
    "\n",
    "\"recede\"   =>  \"()()()\"\n",
    "\n",
    "\"Success\"  =>  \")())())\"\n",
    "\n",
    "\"(( @\"     =>  \"))((\" "
   ]
  },
  {
   "cell_type": "markdown",
   "id": "f3da7e7f",
   "metadata": {},
   "source": [
    "### Ma solution"
   ]
  },
  {
   "cell_type": "code",
   "execution_count": null,
   "id": "b552aafa",
   "metadata": {},
   "outputs": [],
   "source": [
    "c = 'recede'\n",
    "def duplicate_encode(word):\n",
    "    word = word.lower()\n",
    "    back = []\n",
    "    for letter in word:\n",
    "        if word.count(letter) > 1:\n",
    "            letter = ')'\n",
    "            back.append(letter)\n",
    "        else:\n",
    "            letter = '('\n",
    "            back.append(letter)\n",
    "    return \"\".join(back)\n",
    "def duplicate_encode(word):\n",
    "    return \"\".join([x.replace(x,')') if c.count(x) > 1 else x.replace(x,'(') for x in c])"
   ]
  },
  {
   "cell_type": "markdown",
   "id": "b731d13c",
   "metadata": {},
   "source": [
    "#### Solution alternatives"
   ]
  },
  {
   "cell_type": "code",
   "execution_count": null,
   "id": "ee8451d9",
   "metadata": {},
   "outputs": [],
   "source": [
    "def duplicate_encode(word):\n",
    "    return \"\".join([x.replace(x,')') if c.count(x) > 1 else x.replace(x,'(') for x in c])\n",
    "\n",
    "def duplicate_encode(word):\n",
    "    return \"\".join([\"(\" if word.lower().count(c) == 1 else \")\" for c in word.lower()])"
   ]
  },
  {
   "cell_type": "markdown",
   "id": "0fc527e1",
   "metadata": {},
   "source": [
    "# DESCRIPTION \n",
    "Welcome.\n",
    "\n",
    "In this kata you are required to, given a string, replace every letter with its position in the alphabet.\n",
    "\n",
    "If anything in the text isn't a letter, ignore it and don't return it.\n",
    "\n",
    "\"a\" = 1, \"b\" = 2, etc.\n",
    "\n",
    "Example\n",
    "\n",
    "alphabet_position(\"The sunset sets at twelve o' clock.\")\n",
    "\n",
    "Should return \"20 8 5 19 21 14 19 5 20 19 5 20 19 1 20 20 23 5 12 22 5 15 3 12 15 3 11\" ( as a string )\n"
   ]
  },
  {
   "cell_type": "markdown",
   "id": "9022e081",
   "metadata": {},
   "source": [
    "### Ma solution"
   ]
  },
  {
   "cell_type": "code",
   "execution_count": null,
   "id": "22c3078b",
   "metadata": {},
   "outputs": [],
   "source": [
    "def alphabet_position(text):\n",
    "    phrase = \"The sunset sets at twelve o' clock.\"\n",
    "    dico = {'a':'1','b':'2','c':'3','d':'4','e':'5','f':'6',\n",
    "            'g':'7','h':'8','i':'9','j':'10','k':'11','l':'12',\n",
    "            'm':'13','n':'14','o':'15','p':'16','q':'17','r':'18',\n",
    "            's':'19','t':'20','u':'21','v':'22','w':'23','x':'24','y':'25','z':'26'}\n",
    "    phrase = phrase.lower()\n",
    "    new_phrase = ''\n",
    "    for c in phrase:\n",
    "        if c in dico.keys():\n",
    "            new_phrase += dico[c] + \" \"\n",
    "    return new_phrase.rstrip()\n",
    "\n",
    "######################## OR \n",
    "\n",
    "def alphabet_position(text):\n",
    "    dico = {'a':'1','b':'2','c':'3','d':'4','e':'5','f':'6',\n",
    "            'g':'7','h':'8','i':'9','j':'10','k':'11','l':'12',\n",
    "            'm':'13','n':'14','o':'15','p':'16','q':'17','r':'18',\n",
    "            's':'19','t':'20','u':'21','v':'22','w':'23','x':'24','y':'25','z':'26'}\n",
    "    return\" \".join([dico[x] for x in phrase.lower() if x in dico.keys()])\n",
    "\n",
    "\n",
    "\n"
   ]
  },
  {
   "cell_type": "code",
   "execution_count": null,
   "id": "250c5f20",
   "metadata": {},
   "outputs": [],
   "source": [
    "phrase = \"The sunset sets at twelve o' clock.\"\n",
    "\n",
    "alphabet_position(phrase)"
   ]
  },
  {
   "cell_type": "markdown",
   "id": "1265f0eb",
   "metadata": {},
   "source": [
    "# DESCRIPTION:\n",
    "Complete the method/function so that it converts dash/underscore delimited words into camel casing. The first word within the output should be capitalized only if the original word was capitalized (known as Upper Camel Case, also often referred to as Pascal case).\n",
    "\n",
    "Examples\n",
    "\n",
    "\"the-stealth-warrior\" gets converted to \"theStealthWarrior\"\n",
    "\n",
    "\"The_Stealth_Warrior\" gets converted to \"TheStealthWarrior\"\n"
   ]
  },
  {
   "cell_type": "markdown",
   "id": "6533fa0a",
   "metadata": {},
   "source": [
    "### Ma solution"
   ]
  },
  {
   "cell_type": "code",
   "execution_count": null,
   "id": "cd07c7bf",
   "metadata": {},
   "outputs": [],
   "source": [
    "te= \"the-stealth-warrior\"\n",
    "te = [x for x in te]\n",
    "if len(te) != 0:\n",
    "    for i in range(len(te)):\n",
    "        if te[i] in ('_', '-'):\n",
    "            te[i+1] = te[i+1].upper()\n",
    "\"\".join([x for x in te if x not in (\"-\", \"_\")])\n"
   ]
  },
  {
   "cell_type": "markdown",
   "id": "770c9f7d",
   "metadata": {},
   "source": [
    "#### Solution alternatives"
   ]
  },
  {
   "cell_type": "code",
   "execution_count": null,
   "id": "080117cf",
   "metadata": {},
   "outputs": [],
   "source": [
    "def to_camel_case(text):\n",
    "    return text[:1] + text.title()[1:].replace('_', '').replace('-', '')\n",
    "\n",
    "##################### OR\n",
    "\n",
    "def to_camel_case(text):\n",
    "    words = text.replace('_', '-').split('-')\n",
    "    return words[0] + ''.join([x.title() for x in words[1:]])\n",
    "\n",
    "##################### OR\n",
    "\n",
    "def to_camel_case(text):\n",
    "    removed = text.replace('-', ' ').replace('_', ' ').split()\n",
    "    if len(removed) == 0:\n",
    "        return ''\n",
    "    return removed[0]+ ''.join([x.capitalize() for x in removed[1:]])"
   ]
  },
  {
   "cell_type": "markdown",
   "id": "dcdd9671",
   "metadata": {},
   "source": [
    "39 --> 3 (because 3*9 = 27, 2*7 = 14, 1*4 = 4 and 4 has only one digit)\n",
    "\n",
    "999 --> 4 (because 9*9*9 = 729, 7*2*9 = 126, 1*2*6 = 12, and finally 1*2 = 2)\n",
    "\n",
    "4 --> 0 (because 4 is already a one-digit number)"
   ]
  },
  {
   "cell_type": "markdown",
   "id": "a245629a",
   "metadata": {},
   "source": [
    "### Ma Solution "
   ]
  },
  {
   "cell_type": "code",
   "execution_count": null,
   "id": "bdfb0d55",
   "metadata": {},
   "outputs": [],
   "source": [
    "def persistance(num):\n",
    "    counter=0\n",
    "    while num>9:\n",
    "        counter+=1\n",
    "        num_str=str(num)\n",
    "        total=1\n",
    "        for i in num_str:\n",
    "            total=total* int(i)\n",
    "        num=total\n",
    "    print (counter)"
   ]
  },
  {
   "cell_type": "markdown",
   "id": "9654e794",
   "metadata": {},
   "source": [
    "#### Solution Alternatives "
   ]
  },
  {
   "cell_type": "code",
   "execution_count": null,
   "id": "66a8b677",
   "metadata": {},
   "outputs": [],
   "source": [
    "def persistence(n):\n",
    "    n = str(n)\n",
    "    count = 0\n",
    "    while len(n) > 1:\n",
    "        p = 1\n",
    "        for i in n:\n",
    "            p *= int(i)\n",
    "        n = str(p)\n",
    "        count += 1\n",
    "    return count\n",
    "\n",
    "#################### OR \n",
    "\n",
    "def persistence(num):\n",
    "    if num < 10:\n",
    "        return 0 # Only one digit. Can't iterate over it\n",
    "    num_str = str(num)\n",
    "    total = 1\n",
    "    for i in num_str:\n",
    "        total = total * int(i)\n",
    "    return 1 + persistence(total) # We do 1 + because we just did an iteration"
   ]
  },
  {
   "cell_type": "code",
   "execution_count": null,
   "id": "4bd2d279",
   "metadata": {},
   "outputs": [],
   "source": [
    "string = \"In 2015, I want to know how much does iPhone 6+ cost?\""
   ]
  },
  {
   "cell_type": "code",
   "execution_count": null,
   "id": "8fd46864",
   "metadata": {},
   "outputs": [],
   "source": [
    "import re\n",
    "numbers = re.findall(r'\\d+', string)\n",
    "numbers = sum([int(x) for x in numbers])\n",
    "numbers"
   ]
  },
  {
   "cell_type": "code",
   "execution_count": null,
   "id": "0b310a4e",
   "metadata": {},
   "outputs": [],
   "source": [
    "total = 0\n",
    "b = []\n",
    "for i in string:\n",
    "    if i.isdigit():\n",
    "        b.append(i)\n",
    "        total += int(i)\n",
    "total\n",
    "b\n",
    "        "
   ]
  },
  {
   "cell_type": "code",
   "execution_count": null,
   "id": "e42829b2",
   "metadata": {},
   "outputs": [],
   "source": [
    "string = \"In 2015, I want to know how much does iPhone 6+ cost?\"\n"
   ]
  },
  {
   "cell_type": "code",
   "execution_count": null,
   "id": "ca904452",
   "metadata": {},
   "outputs": [],
   "source": [
    "string = string.split()"
   ]
  },
  {
   "cell_type": "code",
   "execution_count": null,
   "id": "29865516",
   "metadata": {},
   "outputs": [],
   "source": [
    "for i in string:\n",
    "    print(i)\n",
    "    i = i.isdigit()\n",
    "    print(i)"
   ]
  },
  {
   "cell_type": "markdown",
   "id": "956171a6",
   "metadata": {},
   "source": [
    "DESCRIPTION:\n",
    "\n",
    "Check to see if a string has the same amount of 'x's and 'o's. The method must return a boolean and be case insensitive. The string can contain any char.\n",
    "\n",
    "Examples input/output:\n",
    "\n",
    "- XO(\"ooxx\") => true\n",
    "- XO(\"xooxx\") => false\n",
    "- XO(\"ooxXm\") => true\n",
    "- XO(\"zpzpzpp\") => true // when no 'x' and 'o' is present should return true\n",
    "- XO(\"zzoo\") => false"
   ]
  },
  {
   "cell_type": "code",
   "execution_count": null,
   "id": "d2af04e8",
   "metadata": {},
   "outputs": [],
   "source": [
    "def occurence (n):\n",
    "    tabx = []\n",
    "    tabo= []\n",
    "    for i in n:\n",
    "        if 'x' in n:\n",
    "            i.append(tabx)\n",
    "    return [True if n]"
   ]
  },
  {
   "cell_type": "code",
   "execution_count": 8,
   "id": "806e3abe",
   "metadata": {},
   "outputs": [
    {
     "data": {
      "text/plain": [
       "['o', 'o']"
      ]
     },
     "execution_count": 8,
     "metadata": {},
     "output_type": "execute_result"
    }
   ],
   "source": [
    "n = 'xxoo'\n",
    "tabx = []\n",
    "tabo= []\n",
    "\n",
    "for i in n.lower():\n",
    "    if i == 'x':\n",
    "        tabx.append(i)\n",
    "    elif i == 'o':\n",
    "        tabo.append(i)\n",
    "    elif i \n",
    "        \n",
    "tabx\n",
    "tabo"
   ]
  },
  {
   "cell_type": "code",
   "execution_count": 54,
   "id": "acef7528",
   "metadata": {},
   "outputs": [
    {
     "data": {
      "text/plain": [
       "False"
      ]
     },
     "execution_count": 54,
     "metadata": {},
     "output_type": "execute_result"
    }
   ],
   "source": [
    "n = \"xxxoo\"\n",
    "def counter(n):\n",
    "    for i in n:\n",
    "        x = n.lower().count('x')\n",
    "        o = n.lower().count('o')\n",
    "        if 'x' and 'o' not in n:\n",
    "            return True\n",
    "        else:\n",
    "            if x == o:\n",
    "                return True\n",
    "            else:\n",
    "                return False\n",
    "                \n",
    "counter(n)"
   ]
  },
  {
   "cell_type": "code",
   "execution_count": 55,
   "id": "43020eb5",
   "metadata": {},
   "outputs": [
    {
     "data": {
      "text/plain": [
       "[False]"
      ]
     },
     "execution_count": 55,
     "metadata": {},
     "output_type": "execute_result"
    }
   ],
   "source": [
    "def counter(n):\n",
    "    return [True if n.lower().count('x') == n.lower().count('o') or 'x' and 'o' not in n else False]\n",
    "counter(n)"
   ]
  },
  {
   "cell_type": "code",
   "execution_count": 1,
   "id": "03e4a1b3",
   "metadata": {},
   "outputs": [],
   "source": [
    "def DNA_strand(dna):\n",
    "    dna_dict = {\"A\" : \"T\",\n",
    "               \"T\" : \"A\",\n",
    "               \"C\" : \"G\",\n",
    "               \"G\" : \"C\"}\n",
    "    for i in dna:\n",
    "        if i in dna_dict\n",
    "    return"
   ]
  },
  {
   "cell_type": "code",
   "execution_count": 4,
   "id": "88be930e",
   "metadata": {},
   "outputs": [
    {
     "name": "stdout",
     "output_type": "stream",
     "text": [
      "T\n",
      "A\n",
      "A\n",
      "C\n",
      "G\n"
     ]
    }
   ],
   "source": [
    "dna = \"ATTGC\"\n",
    "dna_dict = {\"A\" : \"T\",\n",
    "           \"T\" : \"A\",\n",
    "           \"C\" : \"G\",\n",
    "           \"G\" : \"C\"}\n",
    "for i in dna:\n",
    "    if i in dna_dict:\n",
    "        return dna_dict.get(i)\n",
    "        \n"
   ]
  },
  {
   "cell_type": "code",
   "execution_count": 1,
   "id": "8ef2119b",
   "metadata": {},
   "outputs": [],
   "source": [
    "test = [ [ 1, 2, 3, 4, 5 ]       \n",
    ", [ 5, 6, 7, 8, 9 ]        \n",
    ", [ 20, 21, 34, 56, 100 ]  \n",
    "]"
   ]
  },
  {
   "cell_type": "code",
   "execution_count": 23,
   "id": "a128d34e",
   "metadata": {},
   "outputs": [
    {
     "name": "stdout",
     "output_type": "stream",
     "text": [
      "1\n",
      "5\n",
      "20\n"
     ]
    }
   ],
   "source": [
    "for mini in test: \n",
    "    print(min(mini))"
   ]
  },
  {
   "cell_type": "code",
   "execution_count": 24,
   "id": "560d4431",
   "metadata": {},
   "outputs": [
    {
     "ename": "TypeError",
     "evalue": "'int' object is not iterable",
     "output_type": "error",
     "traceback": [
      "\u001b[0;31m---------------------------------------------------------------------------\u001b[0m",
      "\u001b[0;31mTypeError\u001b[0m                                 Traceback (most recent call last)",
      "Cell \u001b[0;32mIn [24], line 2\u001b[0m\n\u001b[1;32m      1\u001b[0m \u001b[38;5;28;01mfor\u001b[39;00m i \u001b[38;5;129;01min\u001b[39;00m \u001b[38;5;28mrange\u001b[39m(\u001b[38;5;28mlen\u001b[39m(test)):\n\u001b[0;32m----> 2\u001b[0m     \u001b[38;5;28msum\u001b[39m(\u001b[38;5;28mmin\u001b[39m(test[i]))\n",
      "\u001b[0;31mTypeError\u001b[0m: 'int' object is not iterable"
     ]
    }
   ],
   "source": [
    "for i in range(len(test)):\n",
    "    min(test[i])"
   ]
  },
  {
   "cell_type": "code",
   "execution_count": 10,
   "id": "e5c3c844",
   "metadata": {},
   "outputs": [],
   "source": [
    "def mini(listnest):\n",
    "    total=[]\n",
    "    for i in range(len(listnest)):\n",
    "        total.append(min(listnest[i]))\n",
    "    return sum(total)"
   ]
  },
  {
   "cell_type": "code",
   "execution_count": 11,
   "id": "6fad6120",
   "metadata": {},
   "outputs": [
    {
     "data": {
      "text/plain": [
       "26"
      ]
     },
     "execution_count": 11,
     "metadata": {},
     "output_type": "execute_result"
    }
   ],
   "source": [
    "mini(test)"
   ]
  },
  {
   "cell_type": "code",
   "execution_count": 34,
   "id": "4194eebb",
   "metadata": {},
   "outputs": [],
   "source": [
    "def mini(listnest):\n",
    "    return sum(min(tot) for tot in listnest)"
   ]
  },
  {
   "cell_type": "code",
   "execution_count": 35,
   "id": "672722a5",
   "metadata": {},
   "outputs": [
    {
     "data": {
      "text/plain": [
       "26"
      ]
     },
     "execution_count": 35,
     "metadata": {},
     "output_type": "execute_result"
    }
   ],
   "source": [
    "mini(test)"
   ]
  },
  {
   "cell_type": "code",
   "execution_count": 86,
   "id": "057b728a",
   "metadata": {},
   "outputs": [],
   "source": [
    "a = \"I like turtles\"\n",
    "b = \"I like turkeys\""
   ]
  },
  {
   "cell_type": "code",
   "execution_count": 94,
   "id": "81070f54",
   "metadata": {},
   "outputs": [],
   "source": [
    "def hamming(a,b):\n",
    "    result = []\n",
    "    for l,n in zip(a,b):\n",
    "        if l != n:\n",
    "            result.append(l)\n",
    "    return len(result)"
   ]
  },
  {
   "cell_type": "code",
   "execution_count": 109,
   "id": "894ec33c",
   "metadata": {},
   "outputs": [],
   "source": [
    "def ham(a,b):\n",
    "    return len([ l for l,n in zip(a,b) if l != n])"
   ]
  },
  {
   "cell_type": "code",
   "execution_count": 110,
   "id": "406f93a3",
   "metadata": {},
   "outputs": [
    {
     "data": {
      "text/plain": [
       "3"
      ]
     },
     "execution_count": 110,
     "metadata": {},
     "output_type": "execute_result"
    }
   ],
   "source": [
    "ham(a,b)"
   ]
  },
  {
   "cell_type": "code",
   "execution_count": 114,
   "id": "69c3469c",
   "metadata": {},
   "outputs": [
    {
     "name": "stdout",
     "output_type": "stream",
     "text": [
      "           A\n",
      "          A A\n",
      "         A   A\n",
      "        A     A\n",
      "       A       A\n",
      "      A         A\n",
      "     A           A\n",
      "    A             A\n",
      "   A               A\n",
      "  A                 A\n",
      " A                   A\n",
      "AAAAAAAAAAAAAAAAAAAAAAA\n"
     ]
    }
   ],
   "source": [
    "def a(n):\n",
    "    for i in range(1, n+1):\n",
    "        for j in range(1, n-i+1):\n",
    "            print(\" \", end=\"\")\n",
    "        for j in range(0, 2*i-1):\n",
    "            if j == 0 or j == 2*i-2 or i == n:\n",
    "                print(\"A\", end=\"\")\n",
    "            else:\n",
    "                print(\" \", end=\"\")\n",
    "        print()\n",
    "\n",
    "a(12)"
   ]
  },
  {
   "cell_type": "code",
   "execution_count": 113,
   "id": "368dee5f",
   "metadata": {},
   "outputs": [
    {
     "name": "stdout",
     "output_type": "stream",
     "text": [
      "           A           \n",
      "          AA          \n",
      "         AAA         \n",
      "        AAAA        \n",
      "       AAAAA       \n",
      "      AAAAAA      \n",
      "     AAAAAAA     \n",
      "    AAAAAAAA    \n",
      "   AAAAAAAAA   \n",
      "  AAAAAAAAAA  \n",
      " AAAAAAAAAAA \n",
      "AAAAAAAAAAAA\n"
     ]
    }
   ],
   "source": [
    "print_pattern(12)"
   ]
  },
  {
   "cell_type": "code",
   "execution_count": 116,
   "id": "c8cb0e3e",
   "metadata": {},
   "outputs": [
    {
     "data": {
      "text/plain": [
       "range(1, 13)"
      ]
     },
     "execution_count": 116,
     "metadata": {},
     "output_type": "execute_result"
    }
   ],
   "source": [
    "n = 12\n",
    "range(1, n+1)"
   ]
  },
  {
   "cell_type": "code",
   "execution_count": 117,
   "id": "0a8b18e2",
   "metadata": {},
   "outputs": [],
   "source": [
    "def a(n):\n",
    "    if n < 4:\n",
    "        return \"\"\n",
    "    \n",
    "    if n % 2 == 0:\n",
    "        n = n\n",
    "    else:\n",
    "        n = n - 1\n",
    "    \n",
    "    result = []\n",
    "    for i in range(1, n + 1):\n",
    "        spaces = \" \" * ((n - i) // 2)\n",
    "        if i <= n // 2 + 1:\n",
    "            line = spaces + \"A\" * (2 * i - 1) + spaces\n",
    "        else:\n",
    "            line = spaces + \"A\" + \" \" * (2 * i - 3) + \"A\" + spaces\n",
    "        result.append(line)\n",
    "        \n",
    "    return \"\\n\".join(result)\n"
   ]
  },
  {
   "cell_type": "code",
   "execution_count": 118,
   "id": "c80b406d",
   "metadata": {},
   "outputs": [
    {
     "data": {
      "text/plain": [
       "'     A     \\n     AAA     \\n    AAAAA    \\n    AAAAAAA    \\n   AAAAAAAAA   \\n   AAAAAAAAAAA   \\n  AAAAAAAAAAAAA  \\n  A             A  \\n A               A \\n A                 A \\nA                   A\\nA                     A'"
      ]
     },
     "execution_count": 118,
     "metadata": {},
     "output_type": "execute_result"
    }
   ],
   "source": [
    "a(12)"
   ]
  },
  {
   "cell_type": "code",
   "execution_count": null,
   "id": "dfc60e0b",
   "metadata": {},
   "outputs": [],
   "source": []
  }
 ],
 "metadata": {
  "kernelspec": {
   "display_name": "Python 3 (ipykernel)",
   "language": "python",
   "name": "python3"
  },
  "language_info": {
   "codemirror_mode": {
    "name": "ipython",
    "version": 3
   },
   "file_extension": ".py",
   "mimetype": "text/x-python",
   "name": "python",
   "nbconvert_exporter": "python",
   "pygments_lexer": "ipython3",
   "version": "3.8.12"
  },
  "toc": {
   "base_numbering": 1,
   "nav_menu": {},
   "number_sections": true,
   "sideBar": true,
   "skip_h1_title": false,
   "title_cell": "Table of Contents",
   "title_sidebar": "Contents",
   "toc_cell": false,
   "toc_position": {},
   "toc_section_display": true,
   "toc_window_display": false
  }
 },
 "nbformat": 4,
 "nbformat_minor": 5
}
