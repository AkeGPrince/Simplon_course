{
 "cells": [
  {
   "cell_type": "code",
   "execution_count": 1,
   "id": "1e08e0de",
   "metadata": {
    "ExecuteTime": {
     "end_time": "2023-01-09T12:37:37.603413Z",
     "start_time": "2023-01-09T12:37:35.170639Z"
    }
   },
   "outputs": [],
   "source": [
    "import numpy as np\n",
    "import pandas as pd\n",
    "import requests\n",
    "import matplotlib.pyplot as plt\n",
    "import seaborn as sns\n",
    "import warnings\n",
    "warnings.filterwarnings('ignore')"
   ]
  },
  {
   "cell_type": "code",
   "execution_count": 2,
   "id": "6c1402e3",
   "metadata": {
    "ExecuteTime": {
     "end_time": "2023-01-09T12:37:37.616829Z",
     "start_time": "2023-01-09T12:37:37.605504Z"
    }
   },
   "outputs": [],
   "source": [
    "data = {\"taille\": [120, 140, 170, 180],\n",
    "       \"age\": [6, 10, 20, 18]}\n",
    "data = pd.DataFrame(data)"
   ]
  },
  {
   "cell_type": "code",
   "execution_count": 3,
   "id": "9ab74809",
   "metadata": {
    "ExecuteTime": {
     "end_time": "2023-01-09T12:37:37.637257Z",
     "start_time": "2023-01-09T12:37:37.619441Z"
    }
   },
   "outputs": [],
   "source": [
    "y_true = data[\"taille\"]\n",
    "X = data[[\"age\"]]"
   ]
  },
  {
   "cell_type": "code",
   "execution_count": 4,
   "id": "fbac7733",
   "metadata": {
    "ExecuteTime": {
     "end_time": "2023-01-09T12:37:37.835169Z",
     "start_time": "2023-01-09T12:37:37.638918Z"
    }
   },
   "outputs": [
    {
     "data": {
      "image/png": "[encoded data removed]",
      "text/plain": [
       "<Figure size 640x480 with 1 Axes>"
      ]
     },
     "metadata": {},
     "output_type": "display_data"
    }
   ],
   "source": [
    "sns.scatterplot(data = data, x = \"age\", y = \"taille\");"
   ]
  },
  {
   "cell_type": "markdown",
   "id": "ab04d092",
   "metadata": {},
   "source": [
    "# Regression Lineaire"
   ]
  },
  {
   "cell_type": "code",
   "execution_count": 5,
   "id": "e3779cd7",
   "metadata": {
    "ExecuteTime": {
     "end_time": "2023-01-09T12:37:38.151567Z",
     "start_time": "2023-01-09T12:37:37.837417Z"
    }
   },
   "outputs": [],
   "source": [
    "from sklearn.linear_model import LinearRegression\n",
    "\n",
    "# Instanciate Linear model\n",
    "model = LinearRegression()"
   ]
  },
  {
   "cell_type": "code",
   "execution_count": 6,
   "id": "f054a5e0",
   "metadata": {
    "ExecuteTime": {
     "end_time": "2023-01-09T12:37:38.171724Z",
     "start_time": "2023-01-09T12:37:38.154789Z"
    }
   },
   "outputs": [
    {
     "data": {
      "text/html": [
       "<style>#sk-container-id-1 {color: black;background-color: white;}#sk-container-id-1 pre{padding: 0;}#sk-container-id-1 div.sk-toggleable {background-color: white;}#sk-container-id-1 label.sk-toggleable__label {cursor: pointer;display: block;width: 100%;margin-bottom: 0;padding: 0.3em;box-sizing: border-box;text-align: center;}#sk-container-id-1 label.sk-toggleable__label-arrow:before {content: \"▸\";float: left;margin-right: 0.25em;color: #696969;}#sk-container-id-1 label.sk-toggleable__label-arrow:hover:before {color: black;}#sk-container-id-1 div.sk-estimator:hover label.sk-toggleable__label-arrow:before {color: black;}#sk-container-id-1 div.sk-toggleable__content {max-height: 0;max-width: 0;overflow: hidden;text-align: left;background-color: #f0f8ff;}#sk-container-id-1 div.sk-toggleable__content pre {margin: 0.2em;color: black;border-radius: 0.25em;background-color: #f0f8ff;}#sk-container-id-1 input.sk-toggleable__control:checked~div.sk-toggleable__content {max-height: 200px;max-width: 100%;overflow: auto;}#sk-container-id-1 input.sk-toggleable__control:checked~label.sk-toggleable__label-arrow:before {content: \"▾\";}#sk-container-id-1 div.sk-estimator input.sk-toggleable__control:checked~label.sk-toggleable__label {background-color: #d4ebff;}#sk-container-id-1 div.sk-label input.sk-toggleable__control:checked~label.sk-toggleable__label {background-color: #d4ebff;}#sk-container-id-1 input.sk-hidden--visually {border: 0;clip: rect(1px 1px 1px 1px);clip: rect(1px, 1px, 1px, 1px);height: 1px;margin: -1px;overflow: hidden;padding: 0;position: absolute;width: 1px;}#sk-container-id-1 div.sk-estimator {font-family: monospace;background-color: #f0f8ff;border: 1px dotted black;border-radius: 0.25em;box-sizing: border-box;margin-bottom: 0.5em;}#sk-container-id-1 div.sk-estimator:hover {background-color: #d4ebff;}#sk-container-id-1 div.sk-parallel-item::after {content: \"\";width: 100%;border-bottom: 1px solid gray;flex-grow: 1;}#sk-container-id-1 div.sk-label:hover label.sk-toggleable__label {background-color: #d4ebff;}#sk-container-id-1 div.sk-serial::before {content: \"\";position: absolute;border-left: 1px solid gray;box-sizing: border-box;top: 0;bottom: 0;left: 50%;z-index: 0;}#sk-container-id-1 div.sk-serial {display: flex;flex-direction: column;align-items: center;background-color: white;padding-right: 0.2em;padding-left: 0.2em;position: relative;}#sk-container-id-1 div.sk-item {position: relative;z-index: 1;}#sk-container-id-1 div.sk-parallel {display: flex;align-items: stretch;justify-content: center;background-color: white;position: relative;}#sk-container-id-1 div.sk-item::before, #sk-container-id-1 div.sk-parallel-item::before {content: \"\";position: absolute;border-left: 1px solid gray;box-sizing: border-box;top: 0;bottom: 0;left: 50%;z-index: -1;}#sk-container-id-1 div.sk-parallel-item {display: flex;flex-direction: column;z-index: 1;position: relative;background-color: white;}#sk-container-id-1 div.sk-parallel-item:first-child::after {align-self: flex-end;width: 50%;}#sk-container-id-1 div.sk-parallel-item:last-child::after {align-self: flex-start;width: 50%;}#sk-container-id-1 div.sk-parallel-item:only-child::after {width: 0;}#sk-container-id-1 div.sk-dashed-wrapped {border: 1px dashed gray;margin: 0 0.4em 0.5em 0.4em;box-sizing: border-box;padding-bottom: 0.4em;background-color: white;}#sk-container-id-1 div.sk-label label {font-family: monospace;font-weight: bold;display: inline-block;line-height: 1.2em;}#sk-container-id-1 div.sk-label-container {text-align: center;}#sk-container-id-1 div.sk-container {/* jupyter's `normalize.less` sets `[hidden] { display: none; }` but bootstrap.min.css set `[hidden] { display: none !important; }` so we also need the `!important` here to be able to override the default hidden behavior on the sphinx rendered scikit-learn.org. See: https://github.com/scikit-learn/scikit-learn/issues/21755 */display: inline-block !important;position: relative;}#sk-container-id-1 div.sk-text-repr-fallback {display: none;}</style><div id=\"sk-container-id-1\" class=\"sk-top-container\"><div class=\"sk-text-repr-fallback\"><pre>LinearRegression()</pre><b>In a Jupyter environment, please rerun this cell to show the HTML representation or trust the notebook. <br />On GitHub, the HTML representation is unable to render, please try loading this page with nbviewer.org.</b></div><div class=\"sk-container\" hidden><div class=\"sk-item\"><div class=\"sk-estimator sk-toggleable\"><input class=\"sk-toggleable__control sk-hidden--visually\" id=\"sk-estimator-id-1\" type=\"checkbox\" checked><label for=\"sk-estimator-id-1\" class=\"sk-toggleable__label sk-toggleable__label-arrow\">LinearRegression</label><div class=\"sk-toggleable__content\"><pre>LinearRegression()</pre></div></div></div></div></div>"
      ],
      "text/plain": [
       "LinearRegression()"
      ]
     },
     "execution_count": 6,
     "metadata": {},
     "output_type": "execute_result"
    }
   ],
   "source": [
    "model.fit(X,y_true)"
   ]
  },
  {
   "cell_type": "code",
   "execution_count": 7,
   "id": "16a9dafd",
   "metadata": {
    "ExecuteTime": {
     "end_time": "2023-01-09T12:37:38.182075Z",
     "start_time": "2023-01-09T12:37:38.175032Z"
    }
   },
   "outputs": [
    {
     "name": "stdout",
     "output_type": "stream",
     "text": [
      "beta_0 intercept = 98.39694656488552\n",
      "beta_1 slope = 4.007633587786258\n"
     ]
    }
   ],
   "source": [
    "print('beta_0 intercept =', model.intercept_)\n",
    "print('beta_1 slope =', model.coef_[0])"
   ]
  },
  {
   "cell_type": "code",
   "execution_count": 8,
   "id": "e16cdc4c",
   "metadata": {
    "ExecuteTime": {
     "end_time": "2023-01-09T12:37:38.436386Z",
     "start_time": "2023-01-09T12:37:38.185325Z"
    }
   },
   "outputs": [
    {
     "data": {
      "image/png": "[encoded data removed]",
      "text/plain": [
       "<Figure size 640x480 with 1 Axes>"
      ]
     },
     "metadata": {},
     "output_type": "display_data"
    }
   ],
   "source": [
    "ax = plt.gca()\n",
    "ax.axline((0, model.intercept_), slope = model.coef_[0], color='red', label='Droite de la regression lineaire')\n",
    "sns.scatterplot(data = data, x=\"age\", y=\"taille\", color=\"black\",ax=ax);"
   ]
  },
  {
   "cell_type": "code",
   "execution_count": 9,
   "id": "fbf554d4",
   "metadata": {
    "ExecuteTime": {
     "end_time": "2023-01-09T12:37:38.667419Z",
     "start_time": "2023-01-09T12:37:38.440957Z"
    }
   },
   "outputs": [
    {
     "data": {
      "image/png": "[encoded data removed]",
      "text/plain": [
       "<Figure size 640x480 with 1 Axes>"
      ]
     },
     "metadata": {},
     "output_type": "display_data"
    }
   ],
   "source": [
    "sns.regplot(data = data, x=\"age\", y=\"taille\", color=\"black\");"
   ]
  },
  {
   "cell_type": "markdown",
   "id": "ce3d4bb2",
   "metadata": {},
   "source": [
    "# Descente de gradient "
   ]
  },
  {
   "cell_type": "markdown",
   "id": "46096486",
   "metadata": {},
   "source": [
    "## Step 1"
   ]
  },
  {
   "cell_type": "code",
   "execution_count": 15,
   "id": "f6167da2",
   "metadata": {
    "ExecuteTime": {
     "end_time": "2023-01-09T12:37:38.672670Z",
     "start_time": "2023-01-09T12:37:38.669344Z"
    }
   },
   "outputs": [],
   "source": [
    "b1 = 4 # pente de la droite fixe.\n",
    "eta = 0.1 # taux d'apprentissage fixe.\n",
    "\n",
    "# Hypothesis function h\n",
    "def h(x,b0):\n",
    "    y_pred = b0 + b1*x\n",
    "    return y_pred\n"
   ]
  },
  {
   "cell_type": "code",
   "execution_count": 16,
   "id": "9df0e6c9",
   "metadata": {
    "ExecuteTime": {
     "end_time": "2023-01-09T12:37:38.678682Z",
     "start_time": "2023-01-09T12:37:38.674862Z"
    }
   },
   "outputs": [],
   "source": [
    "X_series = X[\"age\"]\n",
    "intercepte_1 = 35\n",
    "y_pred = h(X_series,intercepte_1)\n",
    "\n"
   ]
  },
  {
   "cell_type": "code",
   "execution_count": 17,
   "id": "c165afa2",
   "metadata": {
    "ExecuteTime": {
     "end_time": "2023-01-09T12:37:38.685835Z",
     "start_time": "2023-01-09T12:37:38.681007Z"
    }
   },
   "outputs": [
    {
     "data": {
      "text/plain": [
       "0    120\n",
       "1    140\n",
       "2    170\n",
       "3    180\n",
       "Name: taille, dtype: int64"
      ]
     },
     "execution_count": 17,
     "metadata": {},
     "output_type": "execute_result"
    }
   ],
   "source": [
    "y_true"
   ]
  },
  {
   "cell_type": "code",
   "execution_count": 18,
   "id": "76d2db0e",
   "metadata": {
    "ExecuteTime": {
     "end_time": "2023-01-09T12:37:38.692614Z",
     "start_time": "2023-01-09T12:37:38.687894Z"
    }
   },
   "outputs": [
    {
     "data": {
      "text/plain": [
       "0     59\n",
       "1     75\n",
       "2    115\n",
       "3    107\n",
       "Name: age, dtype: int64"
      ]
     },
     "execution_count": 18,
     "metadata": {},
     "output_type": "execute_result"
    }
   ],
   "source": [
    "y_pred"
   ]
  },
  {
   "cell_type": "code",
   "execution_count": 19,
   "id": "441d9324",
   "metadata": {
    "ExecuteTime": {
     "end_time": "2023-01-09T12:37:38.700985Z",
     "start_time": "2023-01-09T12:37:38.694293Z"
    }
   },
   "outputs": [],
   "source": [
    "def sum_carre_residus(y_true, y_pred):\n",
    "    erreur = np.sum((y_true - y_pred) ** 2)\n",
    "    return erreur\n",
    "\n",
    "def rmse(y_true, y_pred):\n",
    "    erreur = np.sum(y_true - y_pred)\n",
    "    return (np.sqrt(sum_carre_residus(y_true, y_pred)) / y_pred.size)\n",
    "\n",
    "def sum_error_abs(y_true, y_pred):\n",
    "    return abs(np.sum((y_true - y_pred)))\n",
    "\n",
    "def mae(y_true, y_pred):\n",
    "    return sum_error_abs(y_true, y_pred) / y_pred.size\n",
    "\n",
    "from sklearn.metrics import mean_squared_log_error\n"
   ]
  },
  {
   "cell_type": "code",
   "execution_count": null,
   "id": "2b16aa64",
   "metadata": {
    "ExecuteTime": {
     "end_time": "2023-01-06T22:00:09.158980Z",
     "start_time": "2023-01-06T22:00:09.149131Z"
    }
   },
   "outputs": [],
   "source": []
  },
  {
   "cell_type": "code",
   "execution_count": 20,
   "id": "36fa20e0",
   "metadata": {
    "ExecuteTime": {
     "end_time": "2023-01-09T12:37:38.709670Z",
     "start_time": "2023-01-09T12:37:38.703678Z"
    }
   },
   "outputs": [
    {
     "data": {
      "text/plain": [
       "16300"
      ]
     },
     "execution_count": 20,
     "metadata": {},
     "output_type": "execute_result"
    }
   ],
   "source": [
    "sum_carre_residus(y_true, y_pred)"
   ]
  },
  {
   "cell_type": "code",
   "execution_count": 21,
   "id": "5a527ba6",
   "metadata": {
    "ExecuteTime": {
     "end_time": "2023-01-09T12:37:38.718382Z",
     "start_time": "2023-01-09T12:37:38.712213Z"
    }
   },
   "outputs": [
    {
     "data": {
      "text/plain": [
       "31.917863337009262"
      ]
     },
     "execution_count": 21,
     "metadata": {},
     "output_type": "execute_result"
    }
   ],
   "source": [
    "rmse(y_true, y_pred)"
   ]
  },
  {
   "cell_type": "code",
   "execution_count": 22,
   "id": "e443d974",
   "metadata": {
    "ExecuteTime": {
     "end_time": "2023-01-09T12:37:38.726404Z",
     "start_time": "2023-01-09T12:37:38.720198Z"
    }
   },
   "outputs": [
    {
     "data": {
      "text/plain": [
       "254"
      ]
     },
     "execution_count": 22,
     "metadata": {},
     "output_type": "execute_result"
    }
   ],
   "source": [
    "sum_error_abs(y_true, y_pred)"
   ]
  },
  {
   "cell_type": "code",
   "execution_count": 23,
   "id": "0a7010b0",
   "metadata": {
    "ExecuteTime": {
     "end_time": "2023-01-09T12:37:38.736298Z",
     "start_time": "2023-01-09T12:37:38.730071Z"
    }
   },
   "outputs": [
    {
     "data": {
      "text/plain": [
       "63.5"
      ]
     },
     "execution_count": 23,
     "metadata": {},
     "output_type": "execute_result"
    }
   ],
   "source": [
    "mae(y_true, y_pred)"
   ]
  },
  {
   "cell_type": "markdown",
   "id": "59ce213c",
   "metadata": {},
   "source": [
    "## Step 2"
   ]
  },
  {
   "cell_type": "code",
   "execution_count": 24,
   "id": "20dfa31a",
   "metadata": {
    "ExecuteTime": {
     "end_time": "2023-01-09T12:37:38.743554Z",
     "start_time": "2023-01-09T12:37:38.738480Z"
    }
   },
   "outputs": [
    {
     "data": {
      "text/plain": [
       "-508"
      ]
     },
     "execution_count": 24,
     "metadata": {},
     "output_type": "execute_result"
    }
   ],
   "source": [
    "derivate_2 = np.sum(-2 * (y_true - y_pred))\n",
    "derivate_2"
   ]
  },
  {
   "cell_type": "code",
   "execution_count": 25,
   "id": "b716d5bc",
   "metadata": {
    "ExecuteTime": {
     "end_time": "2023-01-09T12:37:38.751610Z",
     "start_time": "2023-01-09T12:37:38.746334Z"
    }
   },
   "outputs": [
    {
     "data": {
      "text/plain": [
       "-50.800000000000004"
      ]
     },
     "execution_count": 25,
     "metadata": {},
     "output_type": "execute_result"
    }
   ],
   "source": [
    "step_2 = derivate_2 * eta\n",
    "step_2"
   ]
  },
  {
   "cell_type": "code",
   "execution_count": 26,
   "id": "2609fade",
   "metadata": {
    "ExecuteTime": {
     "end_time": "2023-01-09T12:37:38.759182Z",
     "start_time": "2023-01-09T12:37:38.754514Z"
    }
   },
   "outputs": [
    {
     "data": {
      "text/plain": [
       "85.80000000000001"
      ]
     },
     "execution_count": 26,
     "metadata": {},
     "output_type": "execute_result"
    }
   ],
   "source": [
    "intercepte_2 = intercepte_1 - step_2\n",
    "intercepte_2"
   ]
  },
  {
   "cell_type": "code",
   "execution_count": 27,
   "id": "f5229269",
   "metadata": {
    "ExecuteTime": {
     "end_time": "2023-01-09T12:37:38.768991Z",
     "start_time": "2023-01-09T12:37:38.762894Z"
    }
   },
   "outputs": [],
   "source": [
    "y_pred_2 = h(X_series, intercepte_2)"
   ]
  },
  {
   "cell_type": "code",
   "execution_count": 28,
   "id": "283c1e53",
   "metadata": {
    "ExecuteTime": {
     "end_time": "2023-01-09T12:37:38.778579Z",
     "start_time": "2023-01-09T12:37:38.771171Z"
    }
   },
   "outputs": [
    {
     "data": {
      "text/plain": [
       "16300"
      ]
     },
     "metadata": {},
     "output_type": "display_data"
    },
    {
     "data": {
      "text/plain": [
       "816.159999999999"
      ]
     },
     "metadata": {},
     "output_type": "display_data"
    }
   ],
   "source": [
    "display(sum_carre_residus(y_true, y_pred))\n",
    "display(sum_carre_residus(y_true, y_pred_2))"
   ]
  },
  {
   "cell_type": "markdown",
   "id": "837e4e06",
   "metadata": {},
   "source": [
    "## Step 3 "
   ]
  },
  {
   "cell_type": "code",
   "execution_count": 29,
   "id": "e8b756a0",
   "metadata": {
    "ExecuteTime": {
     "end_time": "2023-01-09T12:37:38.785874Z",
     "start_time": "2023-01-09T12:37:38.780698Z"
    }
   },
   "outputs": [
    {
     "data": {
      "text/plain": [
       "-101.59999999999991"
      ]
     },
     "execution_count": 29,
     "metadata": {},
     "output_type": "execute_result"
    }
   ],
   "source": [
    "derivate_3 = np.sum(-2 * (y_true - y_pred_2))\n",
    "derivate_3"
   ]
  },
  {
   "cell_type": "code",
   "execution_count": 30,
   "id": "6beeba1d",
   "metadata": {
    "ExecuteTime": {
     "end_time": "2023-01-09T12:37:38.795307Z",
     "start_time": "2023-01-09T12:37:38.789056Z"
    }
   },
   "outputs": [
    {
     "data": {
      "text/plain": [
       "-10.159999999999991"
      ]
     },
     "execution_count": 30,
     "metadata": {},
     "output_type": "execute_result"
    }
   ],
   "source": [
    "step_3 = derivate_3 * eta\n",
    "step_3"
   ]
  },
  {
   "cell_type": "code",
   "execution_count": 31,
   "id": "03f18464",
   "metadata": {
    "ExecuteTime": {
     "end_time": "2023-01-09T12:37:38.835423Z",
     "start_time": "2023-01-09T12:37:38.797704Z"
    }
   },
   "outputs": [
    {
     "data": {
      "text/plain": [
       "95.96000000000001"
      ]
     },
     "execution_count": 31,
     "metadata": {},
     "output_type": "execute_result"
    }
   ],
   "source": [
    "intercepte_3 = intercepte_2 - step_3\n",
    "intercepte_3"
   ]
  },
  {
   "cell_type": "code",
   "execution_count": 32,
   "id": "f13a844d",
   "metadata": {
    "ExecuteTime": {
     "end_time": "2023-01-09T12:37:38.862832Z",
     "start_time": "2023-01-09T12:37:38.859867Z"
    }
   },
   "outputs": [],
   "source": [
    "y_pred_3 = h(X_series, intercepte_3)"
   ]
  },
  {
   "cell_type": "code",
   "execution_count": 33,
   "id": "1f8fddc6",
   "metadata": {
    "ExecuteTime": {
     "end_time": "2023-01-09T12:37:38.883566Z",
     "start_time": "2023-01-09T12:37:38.864952Z"
    }
   },
   "outputs": [
    {
     "data": {
      "text/plain": [
       "16300"
      ]
     },
     "metadata": {},
     "output_type": "display_data"
    },
    {
     "data": {
      "text/plain": [
       "816.159999999999"
      ]
     },
     "metadata": {},
     "output_type": "display_data"
    },
    {
     "data": {
      "text/plain": [
       "196.80639999999983"
      ]
     },
     "metadata": {},
     "output_type": "display_data"
    }
   ],
   "source": [
    "display(sum_carre_residus(y_true, y_pred))\n",
    "display(sum_carre_residus(y_true, y_pred_2))\n",
    "display(sum_carre_residus(y_true, y_pred_3))"
   ]
  },
  {
   "cell_type": "markdown",
   "id": "53fe0521",
   "metadata": {},
   "source": [
    "## Step n"
   ]
  },
  {
   "cell_type": "code",
   "execution_count": 34,
   "id": "70fd9c68",
   "metadata": {
    "ExecuteTime": {
     "end_time": "2023-01-09T12:37:38.902543Z",
     "start_time": "2023-01-09T12:37:38.885510Z"
    }
   },
   "outputs": [],
   "source": [
    "erreurs = []\n",
    "intercepte_n = 30\n",
    "epoch = 10\n",
    "for epoch in range(epoch):\n",
    "    y_pred_n = h(X_series, intercepte_n)\n",
    "    derivate_n = np.sum(-2 * (y_true - y_pred_n))\n",
    "    step_n = derivate_n * eta\n",
    "    intercepte_n = intercepte_n - step_n\n",
    "    erreurs.append(sum_carre_residus(y_true, y_pred_n))\n",
    "\n"
   ]
  },
  {
   "cell_type": "code",
   "execution_count": 35,
   "id": "e14f506e",
   "metadata": {
    "ExecuteTime": {
     "end_time": "2023-01-09T12:37:38.909962Z",
     "start_time": "2023-01-09T12:37:38.904423Z"
    }
   },
   "outputs": [
    {
     "data": {
      "text/plain": [
       "[18940,\n",
       " 921.7599999999987,\n",
       " 201.0304000000002,\n",
       " 172.20121600000004,\n",
       " 171.04804864000005,\n",
       " 171.00192194559997,\n",
       " 171.00007687782409,\n",
       " 171.00000307511294,\n",
       " 171.00000012300458,\n",
       " 171.00000000492025]"
      ]
     },
     "execution_count": 35,
     "metadata": {},
     "output_type": "execute_result"
    }
   ],
   "source": [
    "erreurs"
   ]
  },
  {
   "cell_type": "markdown",
   "id": "2d9f8a63",
   "metadata": {},
   "source": [
    "### Forme de la loss"
   ]
  },
  {
   "cell_type": "code",
   "execution_count": 36,
   "id": "ca04a4be",
   "metadata": {
    "ExecuteTime": {
     "end_time": "2023-01-09T12:37:38.955775Z",
     "start_time": "2023-01-09T12:37:38.911465Z"
    }
   },
   "outputs": [],
   "source": [
    "erreurs_intercepts = []\n",
    "intercepte_demo_loss = 50\n",
    "epoch = 100\n",
    "for epoch in range(epoch):\n",
    "    y_pred_n = h(X_series, intercepte_demo_loss)\n",
    "    intercepte_demo_loss = intercepte_demo_loss + 1\n",
    "    erreurs_intercepts.append([sum_carre_residus(y_true, y_pred_n), intercepte_demo_loss])\n",
    "    \n"
   ]
  },
  {
   "cell_type": "code",
   "execution_count": 37,
   "id": "bdcc18c2",
   "metadata": {
    "ExecuteTime": {
     "end_time": "2023-01-09T12:37:38.962831Z",
     "start_time": "2023-01-09T12:37:38.957163Z"
    }
   },
   "outputs": [
    {
     "data": {
      "text/plain": [
       "(99, 150)"
      ]
     },
     "execution_count": 37,
     "metadata": {},
     "output_type": "execute_result"
    }
   ],
   "source": [
    "epoch, intercepte_demo_loss"
   ]
  },
  {
   "cell_type": "code",
   "execution_count": 38,
   "id": "531df888",
   "metadata": {
    "ExecuteTime": {
     "end_time": "2023-01-09T12:37:38.970255Z",
     "start_time": "2023-01-09T12:37:38.965712Z"
    }
   },
   "outputs": [
    {
     "data": {
      "text/plain": [
       "150"
      ]
     },
     "execution_count": 38,
     "metadata": {},
     "output_type": "execute_result"
    }
   ],
   "source": [
    "intercepte_demo_loss"
   ]
  },
  {
   "cell_type": "code",
   "execution_count": 39,
   "id": "a1c8cb18",
   "metadata": {
    "ExecuteTime": {
     "end_time": "2023-01-09T12:37:38.976576Z",
     "start_time": "2023-01-09T12:37:38.972559Z"
    }
   },
   "outputs": [],
   "source": [
    "erreurs_intercepts = pd.DataFrame(erreurs_intercepts, columns=[\"erreurs\", 'intercepts'])"
   ]
  },
  {
   "cell_type": "code",
   "execution_count": 40,
   "id": "f23eb7a8",
   "metadata": {
    "ExecuteTime": {
     "end_time": "2023-01-09T12:37:38.992085Z",
     "start_time": "2023-01-09T12:37:38.978679Z"
    }
   },
   "outputs": [
    {
     "data": {
      "text/html": [
       "<div>\n",
       "<style scoped>\n",
       "    .dataframe tbody tr th:only-of-type {\n",
       "        vertical-align: middle;\n",
       "    }\n",
       "\n",
       "    .dataframe tbody tr th {\n",
       "        vertical-align: top;\n",
       "    }\n",
       "\n",
       "    .dataframe thead th {\n",
       "        text-align: right;\n",
       "    }\n",
       "</style>\n",
       "<table border=\"1\" class=\"dataframe\">\n",
       "  <thead>\n",
       "    <tr style=\"text-align: right;\">\n",
       "      <th></th>\n",
       "      <th>erreurs</th>\n",
       "      <th>intercepts</th>\n",
       "    </tr>\n",
       "  </thead>\n",
       "  <tbody>\n",
       "    <tr>\n",
       "      <th>0</th>\n",
       "      <td>9580</td>\n",
       "      <td>51</td>\n",
       "    </tr>\n",
       "    <tr>\n",
       "      <th>1</th>\n",
       "      <td>9196</td>\n",
       "      <td>52</td>\n",
       "    </tr>\n",
       "    <tr>\n",
       "      <th>2</th>\n",
       "      <td>8820</td>\n",
       "      <td>53</td>\n",
       "    </tr>\n",
       "    <tr>\n",
       "      <th>3</th>\n",
       "      <td>8452</td>\n",
       "      <td>54</td>\n",
       "    </tr>\n",
       "    <tr>\n",
       "      <th>4</th>\n",
       "      <td>8092</td>\n",
       "      <td>55</td>\n",
       "    </tr>\n",
       "    <tr>\n",
       "      <th>...</th>\n",
       "      <td>...</td>\n",
       "      <td>...</td>\n",
       "    </tr>\n",
       "    <tr>\n",
       "      <th>95</th>\n",
       "      <td>8820</td>\n",
       "      <td>146</td>\n",
       "    </tr>\n",
       "    <tr>\n",
       "      <th>96</th>\n",
       "      <td>9196</td>\n",
       "      <td>147</td>\n",
       "    </tr>\n",
       "    <tr>\n",
       "      <th>97</th>\n",
       "      <td>9580</td>\n",
       "      <td>148</td>\n",
       "    </tr>\n",
       "    <tr>\n",
       "      <th>98</th>\n",
       "      <td>9972</td>\n",
       "      <td>149</td>\n",
       "    </tr>\n",
       "    <tr>\n",
       "      <th>99</th>\n",
       "      <td>10372</td>\n",
       "      <td>150</td>\n",
       "    </tr>\n",
       "  </tbody>\n",
       "</table>\n",
       "<p>100 rows × 2 columns</p>\n",
       "</div>"
      ],
      "text/plain": [
       "    erreurs  intercepts\n",
       "0      9580          51\n",
       "1      9196          52\n",
       "2      8820          53\n",
       "3      8452          54\n",
       "4      8092          55\n",
       "..      ...         ...\n",
       "95     8820         146\n",
       "96     9196         147\n",
       "97     9580         148\n",
       "98     9972         149\n",
       "99    10372         150\n",
       "\n",
       "[100 rows x 2 columns]"
      ]
     },
     "execution_count": 40,
     "metadata": {},
     "output_type": "execute_result"
    }
   ],
   "source": [
    "erreurs_intercepts"
   ]
  },
  {
   "cell_type": "code",
   "execution_count": 41,
   "id": "05502495",
   "metadata": {
    "ExecuteTime": {
     "end_time": "2023-01-09T12:37:39.220645Z",
     "start_time": "2023-01-09T12:37:38.994286Z"
    }
   },
   "outputs": [
    {
     "data": {
      "image/png": "[encoded data removed]",
      "text/plain": [
       "<Figure size 1500x1000 with 1 Axes>"
      ]
     },
     "metadata": {},
     "output_type": "display_data"
    }
   ],
   "source": [
    "fig, ((ax)) = plt.subplots(1,1, figsize=(15,10))\n",
    "sns.lineplot(data = erreurs_intercepts,x= \"intercepts\", y=\"erreurs\",ax=ax)\n",
    "#plt.plot(erreurs_intercepts[\"erreurs\"])\n",
    "ax.spines.top.set_visible(None)\n",
    "ax.spines.right.set_visible(None)\n",
    "ax.set_title('Forme de la loss SSE')\n",
    "ax.set_xlabel('intercepts')\n",
    "ax.set_ylabel('Somme des carrée des résidus')\n",
    "plt.show()"
   ]
  },
  {
   "cell_type": "code",
   "execution_count": 42,
   "id": "14578ceb",
   "metadata": {
    "ExecuteTime": {
     "end_time": "2023-01-09T12:37:39.230347Z",
     "start_time": "2023-01-09T12:37:39.222785Z"
    }
   },
   "outputs": [
    {
     "data": {
      "text/html": [
       "<div>\n",
       "<style scoped>\n",
       "    .dataframe tbody tr th:only-of-type {\n",
       "        vertical-align: middle;\n",
       "    }\n",
       "\n",
       "    .dataframe tbody tr th {\n",
       "        vertical-align: top;\n",
       "    }\n",
       "\n",
       "    .dataframe thead th {\n",
       "        text-align: right;\n",
       "    }\n",
       "</style>\n",
       "<table border=\"1\" class=\"dataframe\">\n",
       "  <thead>\n",
       "    <tr style=\"text-align: right;\">\n",
       "      <th></th>\n",
       "      <th>erreurs</th>\n",
       "      <th>intercepts</th>\n",
       "    </tr>\n",
       "  </thead>\n",
       "  <tbody>\n",
       "    <tr>\n",
       "      <th>49</th>\n",
       "      <td>172</td>\n",
       "      <td>100</td>\n",
       "    </tr>\n",
       "    <tr>\n",
       "      <th>48</th>\n",
       "      <td>172</td>\n",
       "      <td>99</td>\n",
       "    </tr>\n",
       "    <tr>\n",
       "      <th>47</th>\n",
       "      <td>180</td>\n",
       "      <td>98</td>\n",
       "    </tr>\n",
       "  </tbody>\n",
       "</table>\n",
       "</div>"
      ],
      "text/plain": [
       "    erreurs  intercepts\n",
       "49      172         100\n",
       "48      172          99\n",
       "47      180          98"
      ]
     },
     "execution_count": 42,
     "metadata": {},
     "output_type": "execute_result"
    }
   ],
   "source": [
    "erreurs_intercepts.sort_values(by=\"erreurs\", ascending=True).head(3)"
   ]
  },
  {
   "cell_type": "markdown",
   "id": "89753698",
   "metadata": {},
   "source": [
    "### Refacto"
   ]
  },
  {
   "cell_type": "code",
   "execution_count": 43,
   "id": "2a299993",
   "metadata": {
    "ExecuteTime": {
     "end_time": "2023-01-09T12:37:39.236898Z",
     "start_time": "2023-01-09T12:37:39.232577Z"
    }
   },
   "outputs": [],
   "source": [
    "def gradient_descent(epoch, intercepte_n):\n",
    "    erreurs = []\n",
    "    for epoch in range(epoch):\n",
    "        y_pred_n = h(X_series, intercepte_n)\n",
    "        derivate_n = np.sum(-2 * (y_true - y_pred_n))\n",
    "        step_n = derivate_n * eta\n",
    "        intercepte_n = intercepte_n - step_n\n",
    "        erreurs.append(sum_carre_residus(y_true, y_pred_n))\n",
    "    return intercepte_n, y_pred_n, erreurs\n"
   ]
  },
  {
   "cell_type": "code",
   "execution_count": 44,
   "id": "7316a182",
   "metadata": {
    "ExecuteTime": {
     "end_time": "2023-01-09T12:37:39.281733Z",
     "start_time": "2023-01-09T12:37:39.239292Z"
    }
   },
   "outputs": [],
   "source": [
    "intercepte_n, y_pred_n, erreurs = gradient_descent(50, 30)"
   ]
  },
  {
   "cell_type": "code",
   "execution_count": 45,
   "id": "472536f9",
   "metadata": {
    "ExecuteTime": {
     "end_time": "2023-01-09T12:37:39.289804Z",
     "start_time": "2023-01-09T12:37:39.283914Z"
    }
   },
   "outputs": [
    {
     "data": {
      "text/plain": [
       "98.5"
      ]
     },
     "execution_count": 45,
     "metadata": {},
     "output_type": "execute_result"
    }
   ],
   "source": [
    "intercepte_n"
   ]
  },
  {
   "cell_type": "code",
   "execution_count": 41,
   "id": "6a7c23a1",
   "metadata": {
    "ExecuteTime": {
     "end_time": "2023-01-09T12:37:39.420554Z",
     "start_time": "2023-01-09T12:37:39.292631Z"
    }
   },
   "outputs": [
    {
     "data": {
      "image/png": "[encoded data removed]",
      "text/plain": [
       "<Figure size 432x288 with 1 Axes>"
      ]
     },
     "metadata": {
      "needs_background": "light"
     },
     "output_type": "display_data"
    }
   ],
   "source": [
    "plt.plot(erreurs)\n",
    "plt.show()"
   ]
  },
  {
   "cell_type": "markdown",
   "id": "5da4e35d",
   "metadata": {
    "ExecuteTime": {
     "end_time": "2023-01-06T19:38:53.471505Z",
     "start_time": "2023-01-06T19:38:53.325460Z"
    }
   },
   "source": [
    "# Other example 1"
   ]
  },
  {
   "cell_type": "code",
   "execution_count": 42,
   "id": "af17117b",
   "metadata": {
    "ExecuteTime": {
     "end_time": "2023-01-09T12:37:39.441012Z",
     "start_time": "2023-01-09T12:37:39.422502Z"
    }
   },
   "outputs": [],
   "source": [
    "data = sns.load_dataset('mpg').dropna()"
   ]
  },
  {
   "cell_type": "code",
   "execution_count": 43,
   "id": "c8a7362d",
   "metadata": {
    "ExecuteTime": {
     "end_time": "2023-01-09T12:37:39.455842Z",
     "start_time": "2023-01-09T12:37:39.443046Z"
    }
   },
   "outputs": [
    {
     "data": {
      "text/html": [
       "<div>\n",
       "<style scoped>\n",
       "    .dataframe tbody tr th:only-of-type {\n",
       "        vertical-align: middle;\n",
       "    }\n",
       "\n",
       "    .dataframe tbody tr th {\n",
       "        vertical-align: top;\n",
       "    }\n",
       "\n",
       "    .dataframe thead th {\n",
       "        text-align: right;\n",
       "    }\n",
       "</style>\n",
       "<table border=\"1\" class=\"dataframe\">\n",
       "  <thead>\n",
       "    <tr style=\"text-align: right;\">\n",
       "      <th></th>\n",
       "      <th>mpg</th>\n",
       "      <th>horsepower</th>\n",
       "    </tr>\n",
       "  </thead>\n",
       "  <tbody>\n",
       "    <tr>\n",
       "      <th>0</th>\n",
       "      <td>18.0</td>\n",
       "      <td>130.0</td>\n",
       "    </tr>\n",
       "    <tr>\n",
       "      <th>1</th>\n",
       "      <td>15.0</td>\n",
       "      <td>165.0</td>\n",
       "    </tr>\n",
       "    <tr>\n",
       "      <th>2</th>\n",
       "      <td>18.0</td>\n",
       "      <td>150.0</td>\n",
       "    </tr>\n",
       "    <tr>\n",
       "      <th>3</th>\n",
       "      <td>16.0</td>\n",
       "      <td>150.0</td>\n",
       "    </tr>\n",
       "    <tr>\n",
       "      <th>4</th>\n",
       "      <td>17.0</td>\n",
       "      <td>140.0</td>\n",
       "    </tr>\n",
       "    <tr>\n",
       "      <th>...</th>\n",
       "      <td>...</td>\n",
       "      <td>...</td>\n",
       "    </tr>\n",
       "    <tr>\n",
       "      <th>393</th>\n",
       "      <td>27.0</td>\n",
       "      <td>86.0</td>\n",
       "    </tr>\n",
       "    <tr>\n",
       "      <th>394</th>\n",
       "      <td>44.0</td>\n",
       "      <td>52.0</td>\n",
       "    </tr>\n",
       "    <tr>\n",
       "      <th>395</th>\n",
       "      <td>32.0</td>\n",
       "      <td>84.0</td>\n",
       "    </tr>\n",
       "    <tr>\n",
       "      <th>396</th>\n",
       "      <td>28.0</td>\n",
       "      <td>79.0</td>\n",
       "    </tr>\n",
       "    <tr>\n",
       "      <th>397</th>\n",
       "      <td>31.0</td>\n",
       "      <td>82.0</td>\n",
       "    </tr>\n",
       "  </tbody>\n",
       "</table>\n",
       "<p>392 rows × 2 columns</p>\n",
       "</div>"
      ],
      "text/plain": [
       "      mpg  horsepower\n",
       "0    18.0       130.0\n",
       "1    15.0       165.0\n",
       "2    18.0       150.0\n",
       "3    16.0       150.0\n",
       "4    17.0       140.0\n",
       "..    ...         ...\n",
       "393  27.0        86.0\n",
       "394  44.0        52.0\n",
       "395  32.0        84.0\n",
       "396  28.0        79.0\n",
       "397  31.0        82.0\n",
       "\n",
       "[392 rows x 2 columns]"
      ]
     },
     "execution_count": 43,
     "metadata": {},
     "output_type": "execute_result"
    }
   ],
   "source": [
    "data[[\"mpg\", \"horsepower\"]]"
   ]
  },
  {
   "cell_type": "code",
   "execution_count": 44,
   "id": "e7cedde1",
   "metadata": {
    "ExecuteTime": {
     "end_time": "2023-01-09T12:37:39.631694Z",
     "start_time": "2023-01-09T12:37:39.458231Z"
    }
   },
   "outputs": [
    {
     "data": {
      "image/png": "[encoded data removed]",
      "text/plain": [
       "<Figure size 432x288 with 1 Axes>"
      ]
     },
     "metadata": {
      "needs_background": "light"
     },
     "output_type": "display_data"
    }
   ],
   "source": [
    "sns.scatterplot(data = data, x=\"horsepower\", y=\"mpg\", color=\"black\");\n",
    "axe = plt.gca()\n",
    "\n",
    "axe.set_title(\"Correlation entre : horsepower et mpg\")\n",
    "\n",
    "plt.show()"
   ]
  },
  {
   "cell_type": "code",
   "execution_count": 45,
   "id": "5d7486a6",
   "metadata": {
    "ExecuteTime": {
     "end_time": "2023-01-09T12:37:39.637621Z",
     "start_time": "2023-01-09T12:37:39.633815Z"
    }
   },
   "outputs": [],
   "source": [
    "X = data[[\"horsepower\"]]\n",
    "y = data[\"mpg\"]"
   ]
  },
  {
   "cell_type": "code",
   "execution_count": 46,
   "id": "9d536568",
   "metadata": {
    "ExecuteTime": {
     "end_time": "2023-01-09T12:37:39.642654Z",
     "start_time": "2023-01-09T12:37:39.639749Z"
    }
   },
   "outputs": [],
   "source": [
    "from sklearn.linear_model import LinearRegression\n",
    "\n",
    "# Instanciate Linear model\n",
    "model = LinearRegression()"
   ]
  },
  {
   "cell_type": "code",
   "execution_count": 47,
   "id": "38d4f7de",
   "metadata": {
    "ExecuteTime": {
     "end_time": "2023-01-09T12:37:39.652403Z",
     "start_time": "2023-01-09T12:37:39.644964Z"
    }
   },
   "outputs": [
    {
     "data": {
      "text/html": [
       "<style>#sk-container-id-2 {color: black;background-color: white;}#sk-container-id-2 pre{padding: 0;}#sk-container-id-2 div.sk-toggleable {background-color: white;}#sk-container-id-2 label.sk-toggleable__label {cursor: pointer;display: block;width: 100%;margin-bottom: 0;padding: 0.3em;box-sizing: border-box;text-align: center;}#sk-container-id-2 label.sk-toggleable__label-arrow:before {content: \"▸\";float: left;margin-right: 0.25em;color: #696969;}#sk-container-id-2 label.sk-toggleable__label-arrow:hover:before {color: black;}#sk-container-id-2 div.sk-estimator:hover label.sk-toggleable__label-arrow:before {color: black;}#sk-container-id-2 div.sk-toggleable__content {max-height: 0;max-width: 0;overflow: hidden;text-align: left;background-color: #f0f8ff;}#sk-container-id-2 div.sk-toggleable__content pre {margin: 0.2em;color: black;border-radius: 0.25em;background-color: #f0f8ff;}#sk-container-id-2 input.sk-toggleable__control:checked~div.sk-toggleable__content {max-height: 200px;max-width: 100%;overflow: auto;}#sk-container-id-2 input.sk-toggleable__control:checked~label.sk-toggleable__label-arrow:before {content: \"▾\";}#sk-container-id-2 div.sk-estimator input.sk-toggleable__control:checked~label.sk-toggleable__label {background-color: #d4ebff;}#sk-container-id-2 div.sk-label input.sk-toggleable__control:checked~label.sk-toggleable__label {background-color: #d4ebff;}#sk-container-id-2 input.sk-hidden--visually {border: 0;clip: rect(1px 1px 1px 1px);clip: rect(1px, 1px, 1px, 1px);height: 1px;margin: -1px;overflow: hidden;padding: 0;position: absolute;width: 1px;}#sk-container-id-2 div.sk-estimator {font-family: monospace;background-color: #f0f8ff;border: 1px dotted black;border-radius: 0.25em;box-sizing: border-box;margin-bottom: 0.5em;}#sk-container-id-2 div.sk-estimator:hover {background-color: #d4ebff;}#sk-container-id-2 div.sk-parallel-item::after {content: \"\";width: 100%;border-bottom: 1px solid gray;flex-grow: 1;}#sk-container-id-2 div.sk-label:hover label.sk-toggleable__label {background-color: #d4ebff;}#sk-container-id-2 div.sk-serial::before {content: \"\";position: absolute;border-left: 1px solid gray;box-sizing: border-box;top: 0;bottom: 0;left: 50%;z-index: 0;}#sk-container-id-2 div.sk-serial {display: flex;flex-direction: column;align-items: center;background-color: white;padding-right: 0.2em;padding-left: 0.2em;position: relative;}#sk-container-id-2 div.sk-item {position: relative;z-index: 1;}#sk-container-id-2 div.sk-parallel {display: flex;align-items: stretch;justify-content: center;background-color: white;position: relative;}#sk-container-id-2 div.sk-item::before, #sk-container-id-2 div.sk-parallel-item::before {content: \"\";position: absolute;border-left: 1px solid gray;box-sizing: border-box;top: 0;bottom: 0;left: 50%;z-index: -1;}#sk-container-id-2 div.sk-parallel-item {display: flex;flex-direction: column;z-index: 1;position: relative;background-color: white;}#sk-container-id-2 div.sk-parallel-item:first-child::after {align-self: flex-end;width: 50%;}#sk-container-id-2 div.sk-parallel-item:last-child::after {align-self: flex-start;width: 50%;}#sk-container-id-2 div.sk-parallel-item:only-child::after {width: 0;}#sk-container-id-2 div.sk-dashed-wrapped {border: 1px dashed gray;margin: 0 0.4em 0.5em 0.4em;box-sizing: border-box;padding-bottom: 0.4em;background-color: white;}#sk-container-id-2 div.sk-label label {font-family: monospace;font-weight: bold;display: inline-block;line-height: 1.2em;}#sk-container-id-2 div.sk-label-container {text-align: center;}#sk-container-id-2 div.sk-container {/* jupyter's `normalize.less` sets `[hidden] { display: none; }` but bootstrap.min.css set `[hidden] { display: none !important; }` so we also need the `!important` here to be able to override the default hidden behavior on the sphinx rendered scikit-learn.org. See: https://github.com/scikit-learn/scikit-learn/issues/21755 */display: inline-block !important;position: relative;}#sk-container-id-2 div.sk-text-repr-fallback {display: none;}</style><div id=\"sk-container-id-2\" class=\"sk-top-container\"><div class=\"sk-text-repr-fallback\"><pre>LinearRegression()</pre><b>In a Jupyter environment, please rerun this cell to show the HTML representation or trust the notebook. <br />On GitHub, the HTML representation is unable to render, please try loading this page with nbviewer.org.</b></div><div class=\"sk-container\" hidden><div class=\"sk-item\"><div class=\"sk-estimator sk-toggleable\"><input class=\"sk-toggleable__control sk-hidden--visually\" id=\"sk-estimator-id-2\" type=\"checkbox\" checked><label for=\"sk-estimator-id-2\" class=\"sk-toggleable__label sk-toggleable__label-arrow\">LinearRegression</label><div class=\"sk-toggleable__content\"><pre>LinearRegression()</pre></div></div></div></div></div>"
      ],
      "text/plain": [
       "LinearRegression()"
      ]
     },
     "execution_count": 47,
     "metadata": {},
     "output_type": "execute_result"
    }
   ],
   "source": [
    "model.fit(X,y)"
   ]
  },
  {
   "cell_type": "code",
   "execution_count": 48,
   "id": "803116a8",
   "metadata": {
    "ExecuteTime": {
     "end_time": "2023-01-09T12:37:39.661549Z",
     "start_time": "2023-01-09T12:37:39.654197Z"
    }
   },
   "outputs": [
    {
     "data": {
      "text/plain": [
       "2.4651482669227965e-15"
      ]
     },
     "execution_count": 48,
     "metadata": {},
     "output_type": "execute_result"
    }
   ],
   "source": [
    "mae(y, model.predict(X))"
   ]
  },
  {
   "cell_type": "code",
   "execution_count": 49,
   "id": "76864bed",
   "metadata": {
    "ExecuteTime": {
     "end_time": "2023-01-09T12:37:39.668447Z",
     "start_time": "2023-01-09T12:37:39.664239Z"
    }
   },
   "outputs": [
    {
     "name": "stdout",
     "output_type": "stream",
     "text": [
      "beta_0 intercept = 39.93586102117047\n",
      "beta_1 slope = -0.15784473335365365\n"
     ]
    }
   ],
   "source": [
    "print('beta_0 intercept =', model.intercept_)\n",
    "print('beta_1 slope =', model.coef_[0])"
   ]
  },
  {
   "cell_type": "code",
   "execution_count": 50,
   "id": "b121a362",
   "metadata": {
    "ExecuteTime": {
     "end_time": "2023-01-09T12:37:39.854355Z",
     "start_time": "2023-01-09T12:37:39.673248Z"
    }
   },
   "outputs": [
    {
     "data": {
      "image/png": "[encoded data removed]",
      "text/plain": [
       "<Figure size 432x288 with 1 Axes>"
      ]
     },
     "metadata": {
      "needs_background": "light"
     },
     "output_type": "display_data"
    }
   ],
   "source": [
    "ax = plt.gca()\n",
    "ax.axline((0, model.intercept_), slope = model.coef_[0], color='red', label='Droite de la regression lineaire')\n",
    "sns.scatterplot(data = data, x=\"horsepower\", y=\"mpg\", color=\"black\",ax=ax);\n"
   ]
  },
  {
   "cell_type": "code",
   "execution_count": 51,
   "id": "8fe91d0a",
   "metadata": {
    "ExecuteTime": {
     "end_time": "2023-01-09T12:37:40.123785Z",
     "start_time": "2023-01-09T12:37:39.856662Z"
    }
   },
   "outputs": [
    {
     "data": {
      "image/png": "[encoded data removed]",
      "text/plain": [
       "<Figure size 432x288 with 1 Axes>"
      ]
     },
     "metadata": {
      "needs_background": "light"
     },
     "output_type": "display_data"
    }
   ],
   "source": [
    "sns.regplot(data = data, x=\"horsepower\", y=\"mpg\", color=\"black\");"
   ]
  },
  {
   "cell_type": "code",
   "execution_count": 52,
   "id": "91c60dc4",
   "metadata": {
    "ExecuteTime": {
     "end_time": "2023-01-09T12:37:40.129831Z",
     "start_time": "2023-01-09T12:37:40.126017Z"
    }
   },
   "outputs": [],
   "source": [
    "b1_slop_update = model.coef_[0] * 1.0 # pente de la droite fixe.\n",
    "eta = 0.001 # taux d'apprentissage fixe.\n",
    "\n",
    "# Hypothesis function h\n",
    "def h_update(x,b0):\n",
    "    y_pred = b0 + b1_slop_update*x\n",
    "    return y_pred"
   ]
  },
  {
   "cell_type": "code",
   "execution_count": 53,
   "id": "1add3056",
   "metadata": {
    "ExecuteTime": {
     "end_time": "2023-01-09T12:37:40.135057Z",
     "start_time": "2023-01-09T12:37:40.132011Z"
    }
   },
   "outputs": [],
   "source": [
    "import random"
   ]
  },
  {
   "cell_type": "code",
   "execution_count": 54,
   "id": "3bf01bc5",
   "metadata": {
    "ExecuteTime": {
     "end_time": "2023-01-09T12:37:40.142716Z",
     "start_time": "2023-01-09T12:37:40.137395Z"
    }
   },
   "outputs": [
    {
     "data": {
      "text/plain": [
       "0     6\n",
       "1    10\n",
       "2    20\n",
       "3    18\n",
       "Name: age, dtype: int64"
      ]
     },
     "execution_count": 54,
     "metadata": {},
     "output_type": "execute_result"
    }
   ],
   "source": [
    "X_series"
   ]
  },
  {
   "cell_type": "code",
   "execution_count": 79,
   "id": "297f131c",
   "metadata": {
    "ExecuteTime": {
     "end_time": "2023-01-09T12:39:01.984786Z",
     "start_time": "2023-01-09T12:39:01.978473Z"
    }
   },
   "outputs": [],
   "source": [
    "def gradient_descent_update(epoch, intercepte_n, y_true, X_series):\n",
    "    erreurs = []\n",
    "    for epoch in range(epoch):\n",
    "\n",
    "        \n",
    "        y_pred_n = h_update(X_series, intercepte_n)\n",
    "        derivate_n = np.sum(-2 * (y_true - y_pred_n))    \n",
    "        step_n = derivate_n * eta\n",
    "        intercepte_n = intercepte_n - step_n\n",
    "    \n",
    "        erreurs.append(sum_carre_residus(y_true, y_pred_n))\n",
    "    return intercepte_n, erreurs, y_pred_n"
   ]
  },
  {
   "cell_type": "code",
   "execution_count": 80,
   "id": "d4f5714c",
   "metadata": {
    "ExecuteTime": {
     "end_time": "2023-01-09T12:39:02.772043Z",
     "start_time": "2023-01-09T12:39:02.767108Z"
    }
   },
   "outputs": [],
   "source": [
    "# Solver SGD : Stochastique descente gradient\n",
    "#def gradient_descent_update(epoch, intercepte_n, y_true, X_series):\n",
    "    #erreurs = []\n",
    "    #for epoch in range(10_000):\n",
    "\n",
    "        #index = random.choice(range(3))\n",
    "        \n",
    "        #y_pred_n = h_update(X_series[index], intercepte_n)\n",
    "        #derivate_n = np.sum(-2 * (y_true[index] - y_pred_n))    \n",
    "        #step_n = derivate_n * eta\n",
    "        #intercepte_n = intercepte_n - step_n\n",
    "    \n",
    "        #erreurs.append(sum_carre_residus(y_true, y_pred_n))\n",
    "    #return intercepte_n, erreurs, y_pred_n"
   ]
  },
  {
   "cell_type": "code",
   "execution_count": 81,
   "id": "fec80cd3",
   "metadata": {
    "ExecuteTime": {
     "end_time": "2023-01-09T12:39:03.404692Z",
     "start_time": "2023-01-09T12:39:03.305836Z"
    }
   },
   "outputs": [],
   "source": [
    "intercepte_n, erreurs, y_pred_n = gradient_descent_update(100, 0,data[\"mpg\"], data[\"horsepower\"] )"
   ]
  },
  {
   "cell_type": "code",
   "execution_count": 82,
   "id": "548abb68",
   "metadata": {
    "ExecuteTime": {
     "end_time": "2023-01-09T12:39:03.770209Z",
     "start_time": "2023-01-09T12:39:03.751835Z"
    }
   },
   "outputs": [
    {
     "data": {
      "text/plain": [
       "1.3881994190325053"
      ]
     },
     "execution_count": 82,
     "metadata": {},
     "output_type": "execute_result"
    }
   ],
   "source": [
    "mae(y_true, y_pred_n)"
   ]
  },
  {
   "cell_type": "code",
   "execution_count": 83,
   "id": "9b31d5e0",
   "metadata": {
    "ExecuteTime": {
     "end_time": "2023-01-09T12:39:04.196515Z",
     "start_time": "2023-01-09T12:39:04.190216Z"
    }
   },
   "outputs": [
    {
     "data": {
      "text/plain": [
       "39.93586102117047"
      ]
     },
     "execution_count": 83,
     "metadata": {},
     "output_type": "execute_result"
    }
   ],
   "source": [
    "intercepte_n"
   ]
  },
  {
   "cell_type": "code",
   "execution_count": 84,
   "id": "eda2cafa",
   "metadata": {
    "ExecuteTime": {
     "end_time": "2023-01-09T12:39:04.874144Z",
     "start_time": "2023-01-09T12:39:04.704091Z"
    }
   },
   "outputs": [
    {
     "data": {
      "image/png": "[encoded data removed]",
      "text/plain": [
       "<Figure size 432x288 with 1 Axes>"
      ]
     },
     "metadata": {
      "needs_background": "light"
     },
     "output_type": "display_data"
    }
   ],
   "source": [
    "plt.plot(erreurs)\n",
    "plt.show()"
   ]
  },
  {
   "cell_type": "code",
   "execution_count": 60,
   "id": "98a98ca0",
   "metadata": {
    "ExecuteTime": {
     "end_time": "2023-01-09T12:37:42.964308Z",
     "start_time": "2023-01-09T12:37:42.674831Z"
    }
   },
   "outputs": [
    {
     "data": {
      "image/png": "[encoded data removed]",
      "text/plain": [
       "<Figure size 1080x360 with 2 Axes>"
      ]
     },
     "metadata": {
      "needs_background": "light"
     },
     "output_type": "display_data"
    }
   ],
   "source": [
    "fig, ((ax1,ax2)) = plt.subplots(1, 2, figsize=(15,5))\n",
    "\n",
    "ax1.axline((0, model.intercept_), slope = model.coef_[0], color='red', label='sklearn')\n",
    "sns.scatterplot(data = data, x=\"horsepower\", y=\"mpg\", color=\"black\",ax=ax1);\n",
    "ax1.set_title(\"Droite calculée avec sklearn\")\n",
    "ax1.spines.top.set_visible(False)\n",
    "ax1.spines.right.set_visible(False)\n",
    "\n",
    "ax2.axline((0, intercepte_n), slope = b1_slop_update, color='red', label='Intercepte à la main')\n",
    "sns.scatterplot(data = data, x=\"horsepower\", y=\"mpg\", color=\"black\",ax=ax2);\n",
    "ax2.set_title(\"Droite calculée manuellement\")\n",
    "ax2.spines.top.set_visible(False)\n",
    "ax2.spines.right.set_visible(False)\n",
    "\n",
    "\n",
    "plt.show()"
   ]
  },
  {
   "cell_type": "markdown",
   "id": "99c995e6",
   "metadata": {
    "ExecuteTime": {
     "end_time": "2023-01-08T15:53:13.696561Z",
     "start_time": "2023-01-08T15:53:13.693993Z"
    }
   },
   "source": [
    "## Polynomiale features"
   ]
  },
  {
   "cell_type": "code",
   "execution_count": 61,
   "id": "69c5db0f",
   "metadata": {
    "ExecuteTime": {
     "end_time": "2023-01-09T12:37:42.968868Z",
     "start_time": "2023-01-09T12:37:42.966332Z"
    }
   },
   "outputs": [],
   "source": [
    "from sklearn.preprocessing import PolynomialFeatures"
   ]
  },
  {
   "cell_type": "code",
   "execution_count": 62,
   "id": "40d66663",
   "metadata": {
    "ExecuteTime": {
     "end_time": "2023-01-09T12:37:42.977135Z",
     "start_time": "2023-01-09T12:37:42.970929Z"
    }
   },
   "outputs": [
    {
     "data": {
      "text/html": [
       "<div>\n",
       "<style scoped>\n",
       "    .dataframe tbody tr th:only-of-type {\n",
       "        vertical-align: middle;\n",
       "    }\n",
       "\n",
       "    .dataframe tbody tr th {\n",
       "        vertical-align: top;\n",
       "    }\n",
       "\n",
       "    .dataframe thead th {\n",
       "        text-align: right;\n",
       "    }\n",
       "</style>\n",
       "<table border=\"1\" class=\"dataframe\">\n",
       "  <thead>\n",
       "    <tr style=\"text-align: right;\">\n",
       "      <th></th>\n",
       "      <th>horsepower</th>\n",
       "    </tr>\n",
       "  </thead>\n",
       "  <tbody>\n",
       "    <tr>\n",
       "      <th>0</th>\n",
       "      <td>130.0</td>\n",
       "    </tr>\n",
       "  </tbody>\n",
       "</table>\n",
       "</div>"
      ],
      "text/plain": [
       "   horsepower\n",
       "0       130.0"
      ]
     },
     "execution_count": 62,
     "metadata": {},
     "output_type": "execute_result"
    }
   ],
   "source": [
    "X.head(1)"
   ]
  },
  {
   "cell_type": "code",
   "execution_count": 63,
   "id": "d30fb38f",
   "metadata": {
    "ExecuteTime": {
     "end_time": "2023-01-09T12:37:42.985404Z",
     "start_time": "2023-01-09T12:37:42.979312Z"
    }
   },
   "outputs": [],
   "source": [
    "poly = PolynomialFeatures(degree=2,include_bias=True)\n",
    "\n",
    "X_poly = poly.fit_transform(X)"
   ]
  },
  {
   "cell_type": "code",
   "execution_count": 64,
   "id": "03eddb17",
   "metadata": {
    "ExecuteTime": {
     "end_time": "2023-01-09T12:37:42.995590Z",
     "start_time": "2023-01-09T12:37:42.987291Z"
    }
   },
   "outputs": [
    {
     "data": {
      "text/html": [
       "<div>\n",
       "<style scoped>\n",
       "    .dataframe tbody tr th:only-of-type {\n",
       "        vertical-align: middle;\n",
       "    }\n",
       "\n",
       "    .dataframe tbody tr th {\n",
       "        vertical-align: top;\n",
       "    }\n",
       "\n",
       "    .dataframe thead th {\n",
       "        text-align: right;\n",
       "    }\n",
       "</style>\n",
       "<table border=\"1\" class=\"dataframe\">\n",
       "  <thead>\n",
       "    <tr style=\"text-align: right;\">\n",
       "      <th></th>\n",
       "      <th>0</th>\n",
       "    </tr>\n",
       "  </thead>\n",
       "  <tbody>\n",
       "    <tr>\n",
       "      <th>0</th>\n",
       "      <td>1.0</td>\n",
       "    </tr>\n",
       "    <tr>\n",
       "      <th>1</th>\n",
       "      <td>130.0</td>\n",
       "    </tr>\n",
       "    <tr>\n",
       "      <th>2</th>\n",
       "      <td>16900.0</td>\n",
       "    </tr>\n",
       "  </tbody>\n",
       "</table>\n",
       "</div>"
      ],
      "text/plain": [
       "         0\n",
       "0      1.0\n",
       "1    130.0\n",
       "2  16900.0"
      ]
     },
     "execution_count": 64,
     "metadata": {},
     "output_type": "execute_result"
    }
   ],
   "source": [
    "pd.DataFrame(X_poly[0])"
   ]
  },
  {
   "cell_type": "code",
   "execution_count": 65,
   "id": "14d14990",
   "metadata": {
    "ExecuteTime": {
     "end_time": "2023-01-09T12:37:43.005892Z",
     "start_time": "2023-01-09T12:37:42.998625Z"
    }
   },
   "outputs": [
    {
     "data": {
      "text/html": [
       "<div>\n",
       "<style scoped>\n",
       "    .dataframe tbody tr th:only-of-type {\n",
       "        vertical-align: middle;\n",
       "    }\n",
       "\n",
       "    .dataframe tbody tr th {\n",
       "        vertical-align: top;\n",
       "    }\n",
       "\n",
       "    .dataframe thead th {\n",
       "        text-align: right;\n",
       "    }\n",
       "</style>\n",
       "<table border=\"1\" class=\"dataframe\">\n",
       "  <thead>\n",
       "    <tr style=\"text-align: right;\">\n",
       "      <th></th>\n",
       "      <th>0</th>\n",
       "      <th>1</th>\n",
       "      <th>2</th>\n",
       "    </tr>\n",
       "  </thead>\n",
       "  <tbody>\n",
       "    <tr>\n",
       "      <th>0</th>\n",
       "      <td>1.0</td>\n",
       "      <td>130.0</td>\n",
       "      <td>16900.0</td>\n",
       "    </tr>\n",
       "  </tbody>\n",
       "</table>\n",
       "</div>"
      ],
      "text/plain": [
       "     0      1        2\n",
       "0  1.0  130.0  16900.0"
      ]
     },
     "execution_count": 65,
     "metadata": {},
     "output_type": "execute_result"
    }
   ],
   "source": [
    "pd.DataFrame(X_poly).head(1)"
   ]
  },
  {
   "cell_type": "code",
   "execution_count": 66,
   "id": "73d2d89c",
   "metadata": {
    "ExecuteTime": {
     "end_time": "2023-01-09T12:37:43.010739Z",
     "start_time": "2023-01-09T12:37:43.008074Z"
    }
   },
   "outputs": [],
   "source": [
    "from sklearn.linear_model import LinearRegression"
   ]
  },
  {
   "cell_type": "code",
   "execution_count": 67,
   "id": "a6e04018",
   "metadata": {
    "ExecuteTime": {
     "end_time": "2023-01-09T12:37:43.021327Z",
     "start_time": "2023-01-09T12:37:43.012690Z"
    }
   },
   "outputs": [
    {
     "data": {
      "text/html": [
       "<style>#sk-container-id-3 {color: black;background-color: white;}#sk-container-id-3 pre{padding: 0;}#sk-container-id-3 div.sk-toggleable {background-color: white;}#sk-container-id-3 label.sk-toggleable__label {cursor: pointer;display: block;width: 100%;margin-bottom: 0;padding: 0.3em;box-sizing: border-box;text-align: center;}#sk-container-id-3 label.sk-toggleable__label-arrow:before {content: \"▸\";float: left;margin-right: 0.25em;color: #696969;}#sk-container-id-3 label.sk-toggleable__label-arrow:hover:before {color: black;}#sk-container-id-3 div.sk-estimator:hover label.sk-toggleable__label-arrow:before {color: black;}#sk-container-id-3 div.sk-toggleable__content {max-height: 0;max-width: 0;overflow: hidden;text-align: left;background-color: #f0f8ff;}#sk-container-id-3 div.sk-toggleable__content pre {margin: 0.2em;color: black;border-radius: 0.25em;background-color: #f0f8ff;}#sk-container-id-3 input.sk-toggleable__control:checked~div.sk-toggleable__content {max-height: 200px;max-width: 100%;overflow: auto;}#sk-container-id-3 input.sk-toggleable__control:checked~label.sk-toggleable__label-arrow:before {content: \"▾\";}#sk-container-id-3 div.sk-estimator input.sk-toggleable__control:checked~label.sk-toggleable__label {background-color: #d4ebff;}#sk-container-id-3 div.sk-label input.sk-toggleable__control:checked~label.sk-toggleable__label {background-color: #d4ebff;}#sk-container-id-3 input.sk-hidden--visually {border: 0;clip: rect(1px 1px 1px 1px);clip: rect(1px, 1px, 1px, 1px);height: 1px;margin: -1px;overflow: hidden;padding: 0;position: absolute;width: 1px;}#sk-container-id-3 div.sk-estimator {font-family: monospace;background-color: #f0f8ff;border: 1px dotted black;border-radius: 0.25em;box-sizing: border-box;margin-bottom: 0.5em;}#sk-container-id-3 div.sk-estimator:hover {background-color: #d4ebff;}#sk-container-id-3 div.sk-parallel-item::after {content: \"\";width: 100%;border-bottom: 1px solid gray;flex-grow: 1;}#sk-container-id-3 div.sk-label:hover label.sk-toggleable__label {background-color: #d4ebff;}#sk-container-id-3 div.sk-serial::before {content: \"\";position: absolute;border-left: 1px solid gray;box-sizing: border-box;top: 0;bottom: 0;left: 50%;z-index: 0;}#sk-container-id-3 div.sk-serial {display: flex;flex-direction: column;align-items: center;background-color: white;padding-right: 0.2em;padding-left: 0.2em;position: relative;}#sk-container-id-3 div.sk-item {position: relative;z-index: 1;}#sk-container-id-3 div.sk-parallel {display: flex;align-items: stretch;justify-content: center;background-color: white;position: relative;}#sk-container-id-3 div.sk-item::before, #sk-container-id-3 div.sk-parallel-item::before {content: \"\";position: absolute;border-left: 1px solid gray;box-sizing: border-box;top: 0;bottom: 0;left: 50%;z-index: -1;}#sk-container-id-3 div.sk-parallel-item {display: flex;flex-direction: column;z-index: 1;position: relative;background-color: white;}#sk-container-id-3 div.sk-parallel-item:first-child::after {align-self: flex-end;width: 50%;}#sk-container-id-3 div.sk-parallel-item:last-child::after {align-self: flex-start;width: 50%;}#sk-container-id-3 div.sk-parallel-item:only-child::after {width: 0;}#sk-container-id-3 div.sk-dashed-wrapped {border: 1px dashed gray;margin: 0 0.4em 0.5em 0.4em;box-sizing: border-box;padding-bottom: 0.4em;background-color: white;}#sk-container-id-3 div.sk-label label {font-family: monospace;font-weight: bold;display: inline-block;line-height: 1.2em;}#sk-container-id-3 div.sk-label-container {text-align: center;}#sk-container-id-3 div.sk-container {/* jupyter's `normalize.less` sets `[hidden] { display: none; }` but bootstrap.min.css set `[hidden] { display: none !important; }` so we also need the `!important` here to be able to override the default hidden behavior on the sphinx rendered scikit-learn.org. See: https://github.com/scikit-learn/scikit-learn/issues/21755 */display: inline-block !important;position: relative;}#sk-container-id-3 div.sk-text-repr-fallback {display: none;}</style><div id=\"sk-container-id-3\" class=\"sk-top-container\"><div class=\"sk-text-repr-fallback\"><pre>LinearRegression()</pre><b>In a Jupyter environment, please rerun this cell to show the HTML representation or trust the notebook. <br />On GitHub, the HTML representation is unable to render, please try loading this page with nbviewer.org.</b></div><div class=\"sk-container\" hidden><div class=\"sk-item\"><div class=\"sk-estimator sk-toggleable\"><input class=\"sk-toggleable__control sk-hidden--visually\" id=\"sk-estimator-id-3\" type=\"checkbox\" checked><label for=\"sk-estimator-id-3\" class=\"sk-toggleable__label sk-toggleable__label-arrow\">LinearRegression</label><div class=\"sk-toggleable__content\"><pre>LinearRegression()</pre></div></div></div></div></div>"
      ],
      "text/plain": [
       "LinearRegression()"
      ]
     },
     "execution_count": 67,
     "metadata": {},
     "output_type": "execute_result"
    }
   ],
   "source": [
    "lr = LinearRegression()\n",
    "lr.fit(X_poly,y)"
   ]
  },
  {
   "cell_type": "code",
   "execution_count": 68,
   "id": "6630c906",
   "metadata": {
    "ExecuteTime": {
     "end_time": "2023-01-09T12:37:43.026340Z",
     "start_time": "2023-01-09T12:37:43.023133Z"
    }
   },
   "outputs": [],
   "source": [
    "data_poly = pd.DataFrame(X_poly, columns=[\"cst\",\"hp\", \"hpp\"])"
   ]
  },
  {
   "cell_type": "code",
   "execution_count": 69,
   "id": "bdfefcca",
   "metadata": {
    "ExecuteTime": {
     "end_time": "2023-01-09T12:37:43.035116Z",
     "start_time": "2023-01-09T12:37:43.028328Z"
    }
   },
   "outputs": [],
   "source": [
    "data_poly[\"y\"] = y"
   ]
  },
  {
   "cell_type": "code",
   "execution_count": 70,
   "id": "62e2268c",
   "metadata": {
    "ExecuteTime": {
     "end_time": "2023-01-09T12:37:43.054989Z",
     "start_time": "2023-01-09T12:37:43.037818Z"
    }
   },
   "outputs": [
    {
     "data": {
      "text/html": [
       "<div>\n",
       "<style scoped>\n",
       "    .dataframe tbody tr th:only-of-type {\n",
       "        vertical-align: middle;\n",
       "    }\n",
       "\n",
       "    .dataframe tbody tr th {\n",
       "        vertical-align: top;\n",
       "    }\n",
       "\n",
       "    .dataframe thead th {\n",
       "        text-align: right;\n",
       "    }\n",
       "</style>\n",
       "<table border=\"1\" class=\"dataframe\">\n",
       "  <thead>\n",
       "    <tr style=\"text-align: right;\">\n",
       "      <th></th>\n",
       "      <th>cst</th>\n",
       "      <th>hp</th>\n",
       "      <th>hpp</th>\n",
       "      <th>y</th>\n",
       "    </tr>\n",
       "  </thead>\n",
       "  <tbody>\n",
       "    <tr>\n",
       "      <th>0</th>\n",
       "      <td>1.0</td>\n",
       "      <td>130.0</td>\n",
       "      <td>16900.0</td>\n",
       "      <td>18.0</td>\n",
       "    </tr>\n",
       "    <tr>\n",
       "      <th>1</th>\n",
       "      <td>1.0</td>\n",
       "      <td>165.0</td>\n",
       "      <td>27225.0</td>\n",
       "      <td>15.0</td>\n",
       "    </tr>\n",
       "    <tr>\n",
       "      <th>2</th>\n",
       "      <td>1.0</td>\n",
       "      <td>150.0</td>\n",
       "      <td>22500.0</td>\n",
       "      <td>18.0</td>\n",
       "    </tr>\n",
       "    <tr>\n",
       "      <th>3</th>\n",
       "      <td>1.0</td>\n",
       "      <td>150.0</td>\n",
       "      <td>22500.0</td>\n",
       "      <td>16.0</td>\n",
       "    </tr>\n",
       "    <tr>\n",
       "      <th>4</th>\n",
       "      <td>1.0</td>\n",
       "      <td>140.0</td>\n",
       "      <td>19600.0</td>\n",
       "      <td>17.0</td>\n",
       "    </tr>\n",
       "    <tr>\n",
       "      <th>...</th>\n",
       "      <td>...</td>\n",
       "      <td>...</td>\n",
       "      <td>...</td>\n",
       "      <td>...</td>\n",
       "    </tr>\n",
       "    <tr>\n",
       "      <th>387</th>\n",
       "      <td>1.0</td>\n",
       "      <td>86.0</td>\n",
       "      <td>7396.0</td>\n",
       "      <td>38.0</td>\n",
       "    </tr>\n",
       "    <tr>\n",
       "      <th>388</th>\n",
       "      <td>1.0</td>\n",
       "      <td>52.0</td>\n",
       "      <td>2704.0</td>\n",
       "      <td>26.0</td>\n",
       "    </tr>\n",
       "    <tr>\n",
       "      <th>389</th>\n",
       "      <td>1.0</td>\n",
       "      <td>84.0</td>\n",
       "      <td>7056.0</td>\n",
       "      <td>22.0</td>\n",
       "    </tr>\n",
       "    <tr>\n",
       "      <th>390</th>\n",
       "      <td>1.0</td>\n",
       "      <td>79.0</td>\n",
       "      <td>6241.0</td>\n",
       "      <td>32.0</td>\n",
       "    </tr>\n",
       "    <tr>\n",
       "      <th>391</th>\n",
       "      <td>1.0</td>\n",
       "      <td>82.0</td>\n",
       "      <td>6724.0</td>\n",
       "      <td>36.0</td>\n",
       "    </tr>\n",
       "  </tbody>\n",
       "</table>\n",
       "<p>392 rows × 4 columns</p>\n",
       "</div>"
      ],
      "text/plain": [
       "     cst     hp      hpp     y\n",
       "0    1.0  130.0  16900.0  18.0\n",
       "1    1.0  165.0  27225.0  15.0\n",
       "2    1.0  150.0  22500.0  18.0\n",
       "3    1.0  150.0  22500.0  16.0\n",
       "4    1.0  140.0  19600.0  17.0\n",
       "..   ...    ...      ...   ...\n",
       "387  1.0   86.0   7396.0  38.0\n",
       "388  1.0   52.0   2704.0  26.0\n",
       "389  1.0   84.0   7056.0  22.0\n",
       "390  1.0   79.0   6241.0  32.0\n",
       "391  1.0   82.0   6724.0  36.0\n",
       "\n",
       "[392 rows x 4 columns]"
      ]
     },
     "execution_count": 70,
     "metadata": {},
     "output_type": "execute_result"
    }
   ],
   "source": [
    "data_poly"
   ]
  },
  {
   "cell_type": "code",
   "execution_count": 71,
   "id": "54cb6f61",
   "metadata": {
    "ExecuteTime": {
     "end_time": "2023-01-09T12:37:43.062960Z",
     "start_time": "2023-01-09T12:37:43.056897Z"
    }
   },
   "outputs": [],
   "source": [
    "y_poly_pred = lr.predict(X_poly)"
   ]
  },
  {
   "cell_type": "code",
   "execution_count": 72,
   "id": "aabcda11",
   "metadata": {
    "ExecuteTime": {
     "end_time": "2023-01-09T12:37:43.070818Z",
     "start_time": "2023-01-09T12:37:43.066422Z"
    }
   },
   "outputs": [],
   "source": [
    "X_vs_y_poly_pred = X"
   ]
  },
  {
   "cell_type": "code",
   "execution_count": 73,
   "id": "54fba8ee",
   "metadata": {
    "ExecuteTime": {
     "end_time": "2023-01-09T12:37:43.077151Z",
     "start_time": "2023-01-09T12:37:43.073227Z"
    },
    "scrolled": true
   },
   "outputs": [],
   "source": [
    "X_vs_y_poly_pred[\"y_poly_pred\"] = y_poly_pred"
   ]
  },
  {
   "cell_type": "code",
   "execution_count": 74,
   "id": "68b683f8",
   "metadata": {
    "ExecuteTime": {
     "end_time": "2023-01-09T12:37:43.082357Z",
     "start_time": "2023-01-09T12:37:43.079069Z"
    }
   },
   "outputs": [],
   "source": [
    "X_vs_y_poly_pred[\"y_true\"] = y"
   ]
  },
  {
   "cell_type": "code",
   "execution_count": 75,
   "id": "c16190bc",
   "metadata": {
    "ExecuteTime": {
     "end_time": "2023-01-09T12:37:43.088348Z",
     "start_time": "2023-01-09T12:37:43.084660Z"
    }
   },
   "outputs": [],
   "source": [
    "X_vs_y_poly_pred.sort_values(by=\"horsepower\", inplace=True)"
   ]
  },
  {
   "cell_type": "code",
   "execution_count": 85,
   "id": "cf8630c0",
   "metadata": {
    "ExecuteTime": {
     "end_time": "2023-01-09T12:48:53.655069Z",
     "start_time": "2023-01-09T12:48:53.117059Z"
    }
   },
   "outputs": [
    {
     "data": {
      "image/png": "[encoded data removed]",
      "text/plain": [
       "<Figure size 1440x1080 with 4 Axes>"
      ]
     },
     "metadata": {
      "needs_background": "light"
     },
     "output_type": "display_data"
    }
   ],
   "source": [
    "fig, ((ax1,ax2), (ax3,ax4)) = plt.subplots(2, 2, figsize=(20,15))\n",
    "\n",
    "ax1.axline((0, model.intercept_), slope = model.coef_[0], color='red', label='sklearn')\n",
    "sns.scatterplot(data = data, x=\"horsepower\", y=\"mpg\", color=\"black\",ax=ax1);\n",
    "ax1.set_title(\"Droite calculée avec sklearn\")\n",
    "ax1.spines.top.set_visible(False)\n",
    "ax1.spines.right.set_visible(False)\n",
    "\n",
    "ax2.axline((0, intercepte_n), slope = b1_slop_update, color='red', label='Intercepte à la main')\n",
    "sns.scatterplot(data = data, x=\"horsepower\", y=\"mpg\", color=\"black\",ax=ax2);\n",
    "ax2.set_title(\"Droite calculée manuellement\")\n",
    "ax2.spines.top.set_visible(False)\n",
    "ax2.spines.right.set_visible(False)\n",
    "\n",
    "sns.scatterplot(data = data, x=\"horsepower\", y=\"mpg\", color=\"black\",ax=ax3);\n",
    "ax3.set_title(\"Droite calculée manuellement avec PolynomialFeatures\")\n",
    "ax3.spines.top.set_visible(False)\n",
    "ax3.spines.right.set_visible(False)\n",
    "ax3.plot(X_vs_y_poly_pred[\"horsepower\"], X_vs_y_poly_pred[\"y_poly_pred\"], c=\"red\")\n",
    "\n",
    "ax4.set_visible(None)\n",
    "plt.show()"
   ]
  },
  {
   "cell_type": "code",
   "execution_count": 77,
   "id": "b9627777",
   "metadata": {
    "ExecuteTime": {
     "end_time": "2023-01-09T12:37:43.675763Z",
     "start_time": "2023-01-09T12:37:43.663196Z"
    }
   },
   "outputs": [
    {
     "data": {
      "text/html": [
       "<div>\n",
       "<style scoped>\n",
       "    .dataframe tbody tr th:only-of-type {\n",
       "        vertical-align: middle;\n",
       "    }\n",
       "\n",
       "    .dataframe tbody tr th {\n",
       "        vertical-align: top;\n",
       "    }\n",
       "\n",
       "    .dataframe thead th {\n",
       "        text-align: right;\n",
       "    }\n",
       "</style>\n",
       "<table border=\"1\" class=\"dataframe\">\n",
       "  <thead>\n",
       "    <tr style=\"text-align: right;\">\n",
       "      <th></th>\n",
       "      <th>horsepower</th>\n",
       "      <th>y_poly_pred</th>\n",
       "      <th>y_true</th>\n",
       "    </tr>\n",
       "  </thead>\n",
       "  <tbody>\n",
       "    <tr>\n",
       "      <th>19</th>\n",
       "      <td>46.0</td>\n",
       "      <td>38.059191</td>\n",
       "      <td>26.0</td>\n",
       "    </tr>\n",
       "    <tr>\n",
       "      <th>102</th>\n",
       "      <td>46.0</td>\n",
       "      <td>38.059191</td>\n",
       "      <td>26.0</td>\n",
       "    </tr>\n",
       "    <tr>\n",
       "      <th>326</th>\n",
       "      <td>48.0</td>\n",
       "      <td>37.358153</td>\n",
       "      <td>43.4</td>\n",
       "    </tr>\n",
       "    <tr>\n",
       "      <th>325</th>\n",
       "      <td>48.0</td>\n",
       "      <td>37.358153</td>\n",
       "      <td>44.3</td>\n",
       "    </tr>\n",
       "    <tr>\n",
       "      <th>244</th>\n",
       "      <td>48.0</td>\n",
       "      <td>37.358153</td>\n",
       "      <td>43.1</td>\n",
       "    </tr>\n",
       "    <tr>\n",
       "      <th>...</th>\n",
       "      <td>...</td>\n",
       "      <td>...</td>\n",
       "      <td>...</td>\n",
       "    </tr>\n",
       "    <tr>\n",
       "      <th>6</th>\n",
       "      <td>220.0</td>\n",
       "      <td>13.896328</td>\n",
       "      <td>14.0</td>\n",
       "    </tr>\n",
       "    <tr>\n",
       "      <th>8</th>\n",
       "      <td>225.0</td>\n",
       "      <td>14.303323</td>\n",
       "      <td>14.0</td>\n",
       "    </tr>\n",
       "    <tr>\n",
       "      <th>95</th>\n",
       "      <td>225.0</td>\n",
       "      <td>14.303323</td>\n",
       "      <td>12.0</td>\n",
       "    </tr>\n",
       "    <tr>\n",
       "      <th>13</th>\n",
       "      <td>225.0</td>\n",
       "      <td>14.303323</td>\n",
       "      <td>14.0</td>\n",
       "    </tr>\n",
       "    <tr>\n",
       "      <th>116</th>\n",
       "      <td>230.0</td>\n",
       "      <td>14.771845</td>\n",
       "      <td>16.0</td>\n",
       "    </tr>\n",
       "  </tbody>\n",
       "</table>\n",
       "<p>392 rows × 3 columns</p>\n",
       "</div>"
      ],
      "text/plain": [
       "     horsepower  y_poly_pred  y_true\n",
       "19         46.0    38.059191    26.0\n",
       "102        46.0    38.059191    26.0\n",
       "326        48.0    37.358153    43.4\n",
       "325        48.0    37.358153    44.3\n",
       "244        48.0    37.358153    43.1\n",
       "..          ...          ...     ...\n",
       "6         220.0    13.896328    14.0\n",
       "8         225.0    14.303323    14.0\n",
       "95        225.0    14.303323    12.0\n",
       "13        225.0    14.303323    14.0\n",
       "116       230.0    14.771845    16.0\n",
       "\n",
       "[392 rows x 3 columns]"
      ]
     },
     "execution_count": 77,
     "metadata": {},
     "output_type": "execute_result"
    }
   ],
   "source": [
    "X"
   ]
  },
  {
   "cell_type": "code",
   "execution_count": 78,
   "id": "8616123e",
   "metadata": {
    "ExecuteTime": {
     "end_time": "2023-01-09T12:37:43.997891Z",
     "start_time": "2023-01-09T12:37:43.678226Z"
    }
   },
   "outputs": [
    {
     "data": {
      "image/png": "[encoded data removed]",
      "text/plain": [
       "<Figure size 432x288 with 1 Axes>"
      ]
     },
     "metadata": {
      "needs_background": "light"
     },
     "output_type": "display_data"
    }
   ],
   "source": [
    "sns.regplot(data=X, x=\"horsepower\", y= \"y_true\",logx=True );"
   ]
  },
  {
   "cell_type": "markdown",
   "id": "79487f0c",
   "metadata": {
    "ExecuteTime": {
     "end_time": "2023-01-09T11:26:28.679347Z",
     "start_time": "2023-01-09T11:26:28.671164Z"
    }
   },
   "source": [
    "**Résumé**\n",
    "\n",
    "**Descente Gradient** : \n",
    "* taux d'apprentissage (eta)\n",
    "* loss (mse, mae...)\n",
    "* Nombre d'itération (ou epoch)\n",
    "* solver (momentum, SGD...)\n",
    "\n",
    "**Feature engineering (poly)**"
   ]
  },
  {
   "cell_type": "code",
   "execution_count": null,
   "id": "fd8a300e",
   "metadata": {},
   "outputs": [],
   "source": []
  }
 ],
 "metadata": {
  "hide_input": false,
  "kernelspec": {
   "display_name": "Python 3 (ipykernel)",
   "language": "python",
   "name": "python3"
  },
  "language_info": {
   "codemirror_mode": {
    "name": "ipython",
    "version": 3
   },
   "file_extension": ".py",
   "mimetype": "text/x-python",
   "name": "python",
   "nbconvert_exporter": "python",
   "pygments_lexer": "ipython3",
   "version": "3.8.12"
  },
  "toc": {
   "base_numbering": 1,
   "nav_menu": {},
   "number_sections": true,
   "sideBar": true,
   "skip_h1_title": false,
   "title_cell": "Table of Contents",
   "title_sidebar": "Contents",
   "toc_cell": false,
   "toc_position": {},
   "toc_section_display": true,
   "toc_window_display": true
  }
 },
 "nbformat": 4,
 "nbformat_minor": 5
}
