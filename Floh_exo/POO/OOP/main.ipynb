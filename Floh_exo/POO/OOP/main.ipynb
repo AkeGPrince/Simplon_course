{
 "cells": [
  {
   "attachments": {},
   "cell_type": "markdown",
   "metadata": {},
   "source": [
    "# Créer une class"
   ]
  },
  {
   "cell_type": "code",
   "execution_count": 2,
   "metadata": {},
   "outputs": [],
   "source": [
    "\n",
    "class Voiture:\n",
    "    nombre_de_roues = 4 # ceci est un attribut de classe\n",
    "\n",
    "    def __init__(self, couleur, marque, modele):\n",
    "        self.couleur = couleur # ceci est un attribut d'instance\n",
    "        self.marque = marque # ceci est un attribut d'instance\n",
    "        self.modele = modele # ceci est un attribut d'instance\n",
    "\n",
    "    def afficher_caracteristiques(self): # ceci est une méthode d'instance\n",
    "        return f\"Cette voiture est une {self.marque} {self.modele} de couleur {self.couleur}\"\n",
    "    \n",
    "    def changer_couleur(self, nouvelle_couleur): # ceci est une méthode d'instance\n",
    "        self.couleur = nouvelle_couleur\n",
    "        return f\"Ma nouvelle couleur est {self.couleur}\"\n",
    "    \n",
    "    @classmethod\n",
    "    def afficher_nombre_de_roues(cls): # ceci est une méthode de classe\n",
    "        return f\"Toutes les voitures ont {cls.nombre_de_roues} roues\"\n",
    "    \n",
    "    @staticmethod\n",
    "    def dire_bonjour(): # ceci est une méthode de classe\n",
    "        return \"Bonjour !\"\n",
    "\n"
   ]
  },
  {
   "attachments": {},
   "cell_type": "markdown",
   "metadata": {},
   "source": [
    "## Instanciation de la class Voiture"
   ]
  },
  {
   "cell_type": "code",
   "execution_count": 3,
   "metadata": {},
   "outputs": [],
   "source": [
    "ma_voiture = Voiture(\"rouge\", \"Ford\", \"Mustang\")"
   ]
  },
  {
   "attachments": {},
   "cell_type": "markdown",
   "metadata": {},
   "source": [
    "## Appel d'une méthode d'instance"
   ]
  },
  {
   "cell_type": "code",
   "execution_count": 4,
   "metadata": {},
   "outputs": [
    {
     "name": "stdout",
     "output_type": "stream",
     "text": [
      "Cette voiture est une Ford Mustang de couleur rouge\n"
     ]
    }
   ],
   "source": [
    "print(ma_voiture.afficher_caracteristiques()) "
   ]
  },
  {
   "attachments": {},
   "cell_type": "markdown",
   "metadata": {},
   "source": [
    "## Appel d'une méthode de class"
   ]
  },
  {
   "cell_type": "code",
   "execution_count": 5,
   "metadata": {},
   "outputs": [
    {
     "name": "stdout",
     "output_type": "stream",
     "text": [
      "Toutes les voitures ont 4 roues\n"
     ]
    }
   ],
   "source": [
    "print(Voiture.afficher_nombre_de_roues())"
   ]
  },
  {
   "cell_type": "code",
   "execution_count": 6,
   "metadata": {},
   "outputs": [
    {
     "name": "stdout",
     "output_type": "stream",
     "text": [
      "Bonjour !\n"
     ]
    }
   ],
   "source": [
    "print(Voiture.dire_bonjour()) "
   ]
  },
  {
   "cell_type": "code",
   "execution_count": 25,
   "metadata": {},
   "outputs": [
    {
     "ename": "TypeError",
     "evalue": "changer_couleur() missing 1 required positional argument: 'nouvelle_couleur'",
     "output_type": "error",
     "traceback": [
      "\u001b[0;31m---------------------------------------------------------------------------\u001b[0m",
      "\u001b[0;31mTypeError\u001b[0m                                 Traceback (most recent call last)",
      "Cell \u001b[0;32mIn[25], line 1\u001b[0m\n\u001b[0;32m----> 1\u001b[0m Voiture\u001b[39m.\u001b[39;49mchanger_couleur(\u001b[39m'\u001b[39;49m\u001b[39mbleu\u001b[39;49m\u001b[39m'\u001b[39;49m)\n",
      "\u001b[0;31mTypeError\u001b[0m: changer_couleur() missing 1 required positional argument: 'nouvelle_couleur'"
     ]
    }
   ],
   "source": [
    "Voiture.changer_couleur('bleu')"
   ]
  },
  {
   "attachments": {},
   "cell_type": "markdown",
   "metadata": {},
   "source": [
    "## Changer la couleur des voitures"
   ]
  },
  {
   "cell_type": "code",
   "execution_count": 7,
   "metadata": {},
   "outputs": [
    {
     "name": "stdout",
     "output_type": "stream",
     "text": [
      "Cette voiture est une Ford Mustang de couleur bleu\n"
     ]
    }
   ],
   "source": [
    "ma_voiture.changer_couleur('bleu')\n",
    "print(ma_voiture.afficher_caracteristiques())"
   ]
  },
  {
   "attachments": {},
   "cell_type": "markdown",
   "metadata": {},
   "source": [
    "# Héritage de class"
   ]
  },
  {
   "cell_type": "code",
   "execution_count": 24,
   "metadata": {},
   "outputs": [],
   "source": [
    "class VoitureElectrique(Voiture):\n",
    "    def __init__(self, couleur, marque, modele, autonomie):\n",
    "        super().__init__(couleur, marque, modele) # appelle le constructeur de la classe parente\n",
    "        self.autonomie = autonomie # ceci est un attribut d'instance spécifique à la classe enfant\n",
    "        \n",
    "    def afficher_caracteristiques(self):\n",
    "        return f\"Cette voiture est une {self.marque} {self.modele} de couleur {self.couleur} avec {self.autonomie}Mw d'autonomie\""
   ]
  },
  {
   "cell_type": "code",
   "execution_count": 10,
   "metadata": {},
   "outputs": [
    {
     "name": "stdout",
     "output_type": "stream",
     "text": [
      "Cette voiture est une Ford Mustang de couleur rouge\n",
      "Cette voiture est une Lamborghini Electric de couleur rouge avec 400Mw d'autonomie\n"
     ]
    }
   ],
   "source": [
    "ma_voiture2 = Voiture(\"rouge\", \"Ford\", \"Mustang\")\n",
    "print(ma_voiture2.afficher_caracteristiques()) # affiche \"Cette voiture est une Ford Mustang de couleur rouge\"\n",
    "\n",
    "ma_voiture3 = VoitureElectrique(\"rouge\", \"Lamborghini\", \"Electric\", 400)\n",
    "print(ma_voiture3.afficher_caracteristiques()) # affiche \"Cette voiture est une Ford Mustang de couleur rouge\""
   ]
  },
  {
   "cell_type": "code",
   "execution_count": 11,
   "metadata": {},
   "outputs": [
    {
     "name": "stdout",
     "output_type": "stream",
     "text": [
      "Cette voiture est une Lamborghini Electric de couleur blanc avec 400Mw d'autonomie\n"
     ]
    }
   ],
   "source": [
    "ma_voiture3.changer_couleur('blanc')\n",
    "print(ma_voiture3.afficher_caracteristiques())"
   ]
  },
  {
   "attachments": {},
   "cell_type": "markdown",
   "metadata": {},
   "source": [
    "# Importer fichier d'un autre dossier"
   ]
  },
  {
   "cell_type": "code",
   "execution_count": 12,
   "metadata": {},
   "outputs": [],
   "source": [
    "# communication avec le fichier test.py dans le dossier data\n",
    "from data import test"
   ]
  },
  {
   "cell_type": "code",
   "execution_count": 14,
   "metadata": {},
   "outputs": [
    {
     "name": "stdout",
     "output_type": "stream",
     "text": [
      "hello world\n"
     ]
    }
   ],
   "source": [
    "# methode hello dans le test.py\n",
    "test.hello()"
   ]
  }
 ],
 "metadata": {
  "kernelspec": {
   "display_name": "simplon",
   "language": "python",
   "name": "python3"
  },
  "language_info": {
   "codemirror_mode": {
    "name": "ipython",
    "version": 3
   },
   "file_extension": ".py",
   "mimetype": "text/x-python",
   "name": "python",
   "nbconvert_exporter": "python",
   "pygments_lexer": "ipython3",
   "version": "3.8.12"
  },
  "orig_nbformat": 4,
  "vscode": {
   "interpreter": {
    "hash": "503123401f496096e0f028585efad06d42166f80d999c13f687c901dac905c09"
   }
  }
 },
 "nbformat": 4,
 "nbformat_minor": 2
}
