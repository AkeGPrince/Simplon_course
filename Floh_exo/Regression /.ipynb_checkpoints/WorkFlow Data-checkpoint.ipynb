{
 "cells": [
  {
   "cell_type": "markdown",
   "id": "e4d7c948",
   "metadata": {},
   "source": [
    "PROJECT WORKFLOW :\n",
    "\n",
    "1.Trouver la Base de données\n",
    "\n",
    "2.Transformer la BD en DataFrame\n",
    "\n",
    "3.Comprendre la base de données:\n",
    "\n",
    "  - head(): affiche les premières lignes de l'ensemble de la base \n",
    "  - describe(): donne les statistiques par colonne de la base \n",
    "  - info() : renseigne sur les types de données et sur les valeurs manquantes\n",
    "  - isna().sum(): donne le total de veleurs manquantes s'il y a \n",
    "  - isna().any(): par colonne renvoie valeur bool pour les valeurs manquantes\n",
    "  \n",
    "4.Visualisation de la base:\n",
    "\n",
    "  - corr(): tableau de correlation entre les colones \n",
    "   sns.heatmap(base_de_données.corr(),annot=True, linewidth=.5): graphique de la correlation\n",
    "   \n",
    "5.Definir la target & la(les) feature(s): X = features, y=target\n",
    "\n",
    "6.Repartir la base en deux groupes : train_split(test-30%, train-70%)\n",
    "\n",
    "7.Scaling & normalisation des données d'entrainement : X_train\n",
    "\n",
    "  - minmaxscler ou  standardscaler : features numeriques\n",
    "  - OneHotEncoder: features catégorielles (toutes variables non numeriques)\n",
    "  - fit().transform()\n",
    "  \n",
    "7.Model: choix du modèle = LineaireRegression, LogistiqueRegression ou autre\n",
    "\n",
    "8.Entrainement du modèle: .fit(X_train,y_train)\n",
    "\n",
    "9.Evaluation du modèle: .score(X_test, y_test)\n",
    "\n",
    "10.Condition de distribution normale des erreurs:\n",
    "\n",
    " - residus = y_pred - y_test\n",
    " - sns.displot(residus,kde=True) : \n",
    "         - si loi normale respecté passer à la cross validation \n",
    "         - sinon : voir en fonction de la target pour passer ou pas à la cross validation \n",
    "10.Cross validation : .cross_val_score(X_train)\n",
    "\n",
    "11.Generalisation du modèle si .cross_val_score(X_train) == .score(X_test, y_test)\n",
    "\n",
    "12.Entrainemet sur l'ensemble de la base de données: .fit(X,y)\n",
    "\n",
    "13.Enregistrement du modèle : pickle.dump(modèle, open(\"modèle.pkl\", \"wb\"))"
   ]
  },
  {
   "cell_type": "code",
   "execution_count": null,
   "id": "dbc4f76b",
   "metadata": {},
   "outputs": [],
   "source": []
  }
 ],
 "metadata": {
  "kernelspec": {
   "display_name": "Python 3 (ipykernel)",
   "language": "python",
   "name": "python3"
  },
  "language_info": {
   "codemirror_mode": {
    "name": "ipython",
    "version": 3
   },
   "file_extension": ".py",
   "mimetype": "text/x-python",
   "name": "python",
   "nbconvert_exporter": "python",
   "pygments_lexer": "ipython3",
   "version": "3.8.12"
  },
  "toc": {
   "base_numbering": 1,
   "nav_menu": {},
   "number_sections": true,
   "sideBar": true,
   "skip_h1_title": false,
   "title_cell": "Table of Contents",
   "title_sidebar": "Contents",
   "toc_cell": false,
   "toc_position": {},
   "toc_section_display": true,
   "toc_window_display": false
  },
  "vscode": {
   "interpreter": {
    "hash": "69454cb770b9b1a44bc9b7ea7e213ae22bbca4b415ea2d43f62f9f07ff66e466"
   }
  }
 },
 "nbformat": 4,
 "nbformat_minor": 5
}
