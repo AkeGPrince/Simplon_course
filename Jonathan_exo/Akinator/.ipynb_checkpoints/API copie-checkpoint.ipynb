{
 "cells": [
  {
   "cell_type": "code",
   "execution_count": 1,
   "id": "73e23566",
   "metadata": {},
   "outputs": [],
   "source": [
    "import pandas as pd\n",
    "import requests\n",
    "from bs4 import BeautifulSoup as bs\n",
    "import json"
   ]
  },
  {
   "cell_type": "code",
   "execution_count": 2,
   "id": "a3112fd8",
   "metadata": {},
   "outputs": [
    {
     "data": {
      "text/plain": [
       "0              Joz84\n",
       "1       ConstanceR33\n",
       "2             RemyNW\n",
       "3        Camille9999\n",
       "4          Skyspaper\n",
       "5         MirshkoSta\n",
       "6             Iouize\n",
       "7        Lauriane-TN\n",
       "8          MickaWilk\n",
       "9            hadisql\n",
       "10          Mafflexo\n",
       "11         thomandur\n",
       "12           goubzer\n",
       "13          Altagrac\n",
       "14         Baffoigne\n",
       "15    MugicaLaurendi\n",
       "16            Nan000\n",
       "17        simplonlro\n",
       "18       J-Pouzoulet\n",
       "19        AkeGPrince\n",
       "20       Superhughhh\n",
       "21         Janna2020\n",
       "Name: github name, dtype: object"
      ]
     },
     "execution_count": 2,
     "metadata": {},
     "output_type": "execute_result"
    }
   ],
   "source": [
    "data_akinator = pd.read_csv('akinator.csv')\n",
    "data_akinator\n",
    "github_name = {}\n",
    "github = data_akinator[\"github name\"]\n",
    "github\n"
   ]
  },
  {
   "cell_type": "code",
   "execution_count": 3,
   "id": "85186e7d",
   "metadata": {},
   "outputs": [
    {
     "data": {
      "text/plain": [
       "{'Joz84': 0,\n",
       " 'ConstanceR33': 0,\n",
       " 'RemyNW': 0,\n",
       " 'Camille9999': 0,\n",
       " 'Skyspaper': 0,\n",
       " 'MirshkoSta': 0,\n",
       " 'Iouize': 0,\n",
       " 'Lauriane-TN': 0,\n",
       " 'MickaWilk': 0,\n",
       " 'hadisql': 0,\n",
       " 'Mafflexo': 0,\n",
       " 'thomandur': 0,\n",
       " 'goubzer': 0,\n",
       " 'Altagrac': 0,\n",
       " 'Baffoigne': 0,\n",
       " 'MugicaLaurendi': 0,\n",
       " 'Nan000': 0,\n",
       " 'simplonlro': 0,\n",
       " 'J-Pouzoulet': 0,\n",
       " 'AkeGPrince': 0,\n",
       " 'Superhughhh': 0,\n",
       " 'Janna2020': 0}"
      ]
     },
     "execution_count": 3,
     "metadata": {},
     "output_type": "execute_result"
    }
   ],
   "source": [
    "for i in range(len(github)):\n",
    "    github_name[github[i]] = 0\n",
    "github_name\n"
   ]
  },
  {
   "cell_type": "code",
   "execution_count": 4,
   "id": "8893c6fb",
   "metadata": {
    "scrolled": false
   },
   "outputs": [],
   "source": [
    "for i in range(len(github)):\n",
    "    github_name[github[i]] = json.loads((requests.get(f\"https://api.github.com/users/{github[i]}\")).text)['name']"
   ]
  },
  {
   "cell_type": "code",
   "execution_count": 5,
   "id": "064b2c28",
   "metadata": {},
   "outputs": [
    {
     "data": {
      "text/plain": [
       "{'Joz84': 'Jonathan Serafini',\n",
       " 'ConstanceR33': 'Constance Rogeon',\n",
       " 'RemyNW': 'Nowe Remy',\n",
       " 'Camille9999': 'Camille Hoareau',\n",
       " 'Skyspaper': 'Marie Lizot',\n",
       " 'MirshkoSta': 'Django Langella',\n",
       " 'Iouize': 'Louise Delauney',\n",
       " 'Lauriane-TN': 'Lauriane NATHOU',\n",
       " 'MickaWilk': 'Wilk Michaël',\n",
       " 'hadisql': 'Hadi Sqalli',\n",
       " 'Mafflexo': 'Matthieu Meunier',\n",
       " 'thomandur': 'Thomandur',\n",
       " 'goubzer': None,\n",
       " 'Altagrac': 'Esperance ASNGAR',\n",
       " 'Baffoigne': None,\n",
       " 'MugicaLaurendi': 'Mugica Laurendi',\n",
       " 'Nan000': 'Nariné Asatrian',\n",
       " 'simplonlro': 'Leona Rose',\n",
       " 'J-Pouzoulet': 'Jerome Pouzoulet',\n",
       " 'AkeGPrince': 'Hemon',\n",
       " 'Superhughhh': 'Odekerken Hugues',\n",
       " 'Janna2020': 'Chouki Gueddar'}"
      ]
     },
     "execution_count": 5,
     "metadata": {},
     "output_type": "execute_result"
    }
   ],
   "source": [
    "github_name"
   ]
  }
 ],
 "metadata": {
  "kernelspec": {
   "display_name": "Python 3 (ipykernel)",
   "language": "python",
   "name": "python3"
  },
  "language_info": {
   "codemirror_mode": {
    "name": "ipython",
    "version": 3
   },
   "file_extension": ".py",
   "mimetype": "text/x-python",
   "name": "python",
   "nbconvert_exporter": "python",
   "pygments_lexer": "ipython3",
   "version": "3.8.12"
  },
  "toc": {
   "base_numbering": 1,
   "nav_menu": {},
   "number_sections": true,
   "sideBar": true,
   "skip_h1_title": false,
   "title_cell": "Table of Contents",
   "title_sidebar": "Contents",
   "toc_cell": false,
   "toc_position": {},
   "toc_section_display": true,
   "toc_window_display": false
  },
  "vscode": {
   "interpreter": {
    "hash": "69454cb770b9b1a44bc9b7ea7e213ae22bbca4b415ea2d43f62f9f07ff66e466"
   }
  }
 },
 "nbformat": 4,
 "nbformat_minor": 5
}
