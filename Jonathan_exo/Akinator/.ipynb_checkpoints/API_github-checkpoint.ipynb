{
 "cells": [
  {
   "cell_type": "code",
   "execution_count": 19,
   "id": "73e23566",
   "metadata": {},
   "outputs": [],
   "source": [
    "import pandas as pd\n",
    "import requests\n",
    "from bs4 import BeautifulSoup as bs\n",
    "import json\n",
    "\n"
   ]
  },
  {
   "cell_type": "code",
   "execution_count": 20,
   "id": "a3112fd8",
   "metadata": {},
   "outputs": [
    {
     "data": {
      "text/plain": [
       "0              Joz84\n",
       "1       ConstanceR33\n",
       "2             RemyNW\n",
       "3        Camille9999\n",
       "4          Skyspaper\n",
       "5         MirshkoSta\n",
       "6             Iouize\n",
       "7        Lauriane-TN\n",
       "8          MickaWilk\n",
       "9            hadisql\n",
       "10          Mafflexo\n",
       "11         thomandur\n",
       "12           goubzer\n",
       "13          Altagrac\n",
       "14         Baffoigne\n",
       "15    MugicaLaurendi\n",
       "16            Nan000\n",
       "17        simplonlro\n",
       "18       J-Pouzoulet\n",
       "19        AkeGPrince\n",
       "20       Superhughhh\n",
       "21         Janna2020\n",
       "Name: github name, dtype: object"
      ]
     },
     "execution_count": 20,
     "metadata": {},
     "output_type": "execute_result"
    }
   ],
   "source": [
    "data_akinator = pd.read_csv('akinator.csv')\n",
    "real_name = {}\n",
    "github_nickname = data_akinator[\"github name\"]\n",
    "github_nickname"
   ]
  },
  {
   "cell_type": "code",
   "execution_count": 15,
   "id": "8893c6fb",
   "metadata": {
    "scrolled": true
   },
   "outputs": [],
   "source": [
    "for i in range(len(github_nickname)):\n",
    "    url = f\"https://api.github.com/users/{github_nickname[i]}\"\n",
    "    response = requests.get(url).json()\n",
    "    #dict_response = json.loads(response.text)\n",
    "    github_name = response[\"name\"] #dict_response['name']\n",
    "    real_name[github_nickname[i]] = github_name\n",
    "    "
   ]
  },
  {
   "cell_type": "code",
   "execution_count": 10,
   "id": "2a0ceaa6",
   "metadata": {},
   "outputs": [
    {
     "name": "stdout",
     "output_type": "stream",
     "text": [
      "{'Joz84': 'Jonathan Serafini', 'ConstanceR33': 'Constance Rogeon', 'RemyNW': 'Nowe Remy', 'Camille9999': 'Camille Hoareau', 'Skyspaper': 'Marie Lizot', 'MirshkoSta': 'Django Langella', 'Iouize': 'Louise Delauney', 'Lauriane-TN': 'Lauriane NATHOU', 'MickaWilk': 'Wilk Michaël', 'hadisql': 'Hadi Sqalli', 'Mafflexo': 'Matthieu Meunier', 'thomandur': 'Thomandur', 'goubzer': None, 'Altagrac': 'Esperance ASNGAR', 'Baffoigne': None, 'MugicaLaurendi': 'Mugica Laurendi', 'Nan000': 'Nariné Asatrian', 'simplonlro': 'Leona Rose', 'J-Pouzoulet': 'Jerome Pouzoulet', 'AkeGPrince': 'Hemon', 'Superhughhh': 'Odekerken Hugues', 'Janna2020': 'Chouki Gueddar'}\n"
     ]
    }
   ],
   "source": [
    "print(real_name)"
   ]
  }
 ],
 "metadata": {
  "kernelspec": {
   "display_name": "Python 3 (ipykernel)",
   "language": "python",
   "name": "python3"
  },
  "language_info": {
   "codemirror_mode": {
    "name": "ipython",
    "version": 3
   },
   "file_extension": ".py",
   "mimetype": "text/x-python",
   "name": "python",
   "nbconvert_exporter": "python",
   "pygments_lexer": "ipython3",
   "version": "3.8.12"
  },
  "toc": {
   "base_numbering": 1,
   "nav_menu": {},
   "number_sections": true,
   "sideBar": true,
   "skip_h1_title": false,
   "title_cell": "Table of Contents",
   "title_sidebar": "Contents",
   "toc_cell": false,
   "toc_position": {},
   "toc_section_display": true,
   "toc_window_display": false
  }
 },
 "nbformat": 4,
 "nbformat_minor": 5
}
