{
 "cells": [
  {
   "cell_type": "code",
   "execution_count": 1,
   "id": "2770eb11",
   "metadata": {},
   "outputs": [],
   "source": [
    "#Importer les bibliothèques nécessaires\n",
    "import random\n",
    "import json\n",
    "import pandas as pd \n",
    "import requests as req\n"
   ]
  },
  {
   "cell_type": "code",
   "execution_count": 2,
   "id": "81610e22",
   "metadata": {},
   "outputs": [],
   "source": [
    "#Récupérer le fichier csv via panda et récupérer une liste pour \"Animal totem\"\n",
    "\n",
    "reader = pd.read_csv(\"akinator.csv\")\n",
    "doc_akinator = reader[\"Animal totem\"]"
   ]
  },
  {
   "cell_type": "code",
   "execution_count": 3,
   "id": "e187ac07",
   "metadata": {
    "scrolled": true
   },
   "outputs": [
    {
     "name": "stdout",
     "output_type": "stream",
     "text": [
      "https://pixabay.com/get/g304e2805236fd7ef6d7d92ac1724f9037413a2b1f7ef2231d313b45856bff450d43606993e25b3742eec91cdf36a9ac8ef55b8cb5c699bf5c91d0cc7aeb16e08_1280.jpg\n",
      "https://pixabay.com/get/gf7ad2eff03ad5f3c34185e2c2ff48b221f84d78cfddb160888f618dec34401e22755c54398554213cb2da31025daa3f5ac113160e30e29241b1c4d78bbd0be59_1280.jpg\n",
      "https://pixabay.com/get/g0f1dbb4492d9ec6cf28df6135307bb261747e411b550445e16a057165657d37dc75b2ca494c469fba65b6985b8d74dfc9b3870527ec9e8a44b827e3b2de38878_1280.jpg\n",
      "https://pixabay.com/get/g39d1b655de08f4e4955e10493eaa660cd8d115a898227103674bc754e42669d1170ea679218801d985a4bde09b2cde1090e53d553a33aca7cbd9518084a4e431_1280.jpg\n",
      "https://pixabay.com/get/g6025060c97a64e29a8bd73d81bbd71dde01a651062d81e11c4a644999b81c0e2dfa9336d3e378a9e7985a4e59c24d80c633d0dc57cc2ed199488aadef264ac62_1280.jpg\n",
      "https://pixabay.com/get/gc23eb3cd91d23bfe35058550006423d4253f8600f3f602fc6a5c58f888909d3992a316b1c1f9cdedb43e1aa77b6c585ac9bce811730c5573f421fe515e8e43a5_1280.jpg\n",
      "https://pixabay.com/get/gcbc09b97748a5e31349a43ec97f9e2d2db0125240b4fe0df4141607b0315e195f9e38f08a2895657be29afed2f3b641b9ff9529f06bbb730451109b84651b6e8_1280.jpg\n",
      "https://pixabay.com/get/g9550fe33bd5da705df4b41db697d089b0dc215420db026213da4e1f146576c93a8d2f6a7d28ade6adf01ae6b03086c239a7b95cd3fd4769250bfd1dbb3405d0c_1280.jpg\n",
      "https://pixabay.com/get/gaece703e39b4a00652cd7516c2a8a4c67eba822753c5b3cb16c0b55e1df6fd9963631b51e4637637aa7580878b102fc4d011dbb7be374754a6d887da902cf13b_1280.jpg\n",
      "https://pixabay.com/get/g7b763a5a9aefa9f2418fd56c1b50b66fd03934df4df3765b85c376a46d2c5e58f35dd70c9ba26a4ea09305783e4488dcbc8558970b8792d6fdb1a63fbfdbe7bf_1280.jpg\n",
      "https://pixabay.com/get/gab7901eab0a92cee82bf6e091b9276f60c6d9b962ead716255b941e8efba15ca38671a169baa4a769d7938eb8e31ea42f419ebd5646b815bb689c5a4a9aa84a8_1280.jpg\n",
      "https://pixabay.com/get/g42135cf8b3ba53bf898d4796b2371b6f07e5f0e1c99aa3da11639ad70cfe84e798a64ca2d994093e22a15337fd2844d81f38d722bca7a834c0aa65de45052546_1280.jpg\n",
      "https://pixabay.com/get/g8fdb11001834cb68ee0aa45cfe2d9d053d799a0bec30978845429f6be9e7cc73d8156cb61b8dfd3c64eb8b9b6a3e2212c82722151a8e05501893fd170d950d15_1280.jpg\n",
      "https://pixabay.com/get/g8293a51e255b13d1c06d4c4dd0f944701b29534bbff54b6e466526f435a07a337f2e4f89907f6da82774ba44e940a7d150508035d38ee4d2fe7cef8489f183ad_1280.jpg\n",
      "https://pixabay.com/get/g9006cc34fc6fb87e15ad6e2986c470ebdab7ec977abf1e01ca89515736d8e6f63240ea86caeae91188be0cf380f1269680130909be21ffdd035e4af55e60daa0_1280.jpg\n",
      "https://pixabay.com/get/gc3ff38da8573c1ed377ad2e3dd9cec18c804b9a5e90cf2f4a27f865ca2490384b04d1b22e7bb1e83d8c102689dbe107f633f0c7f20a8e7dd2dd44d3ed4506646_1280.jpg\n",
      "https://pixabay.com/get/g7fbacf53d9f3cc4e033069414c0d673496c106243aa349243b243ec25655e366c1d99f5a18472585f8d463e3219cd66b005fec4175a1ef5d6ec30f5a744e2ec3_1280.jpg\n",
      "https://pixabay.com/get/gc3092ffd1e7742a79773cc167afbd42326838abc1737b54f1f0e23046834d8eef64f64b3b2562c64df8a86e4ac36eef37f3995753de30dd8a7c827c745e1f556_1280.jpg\n",
      "https://pixabay.com/get/g121e3006d058cc3f676458b0f863c635127be3cf701a203e021182c2c333a6a1ec65d81f7240611cf50eff02b32267e1ac593770ca448658d118297d624e463f_1280.jpg\n",
      "https://pixabay.com/get/g957a12dd89ed4aa602306ec1da3dfcc4ef4b9c216ffba15a2543121adc5dba7394c0f6a3e1b76ea60a4ee80ee0d7ca458cb287c285479b5c3be466e5ab4d6e96_1280.jpg\n",
      "https://pixabay.com/get/gf6ff43031a7e4baa950eaa4be46a99f75c6c28e6968e364f71a1558f765f8d551a3ae6c649768447a334adc2abe604f1893ee711e2e1cabf56d515fb5327778f_1280.jpg\n",
      "https://pixabay.com/get/g7250f8c2afb0faf06b2917c1ab3f4a6344e69183c8b6ca0fccae079a41fd9ed6a6b377e4c1b397ce7f88bd1dfdf361e50f8e869787dd32f9e8f4c6f53077e1e9_1280.jpg\n",
      "{'Elephant': 'https://pixabay.com/get/g8fdb11001834cb68ee0aa45cfe2d9d053d799a0bec30978845429f6be9e7cc73d8156cb61b8dfd3c64eb8b9b6a3e2212c82722151a8e05501893fd170d950d15_1280.jpg', 'Hibou': 'https://pixabay.com/get/gf7ad2eff03ad5f3c34185e2c2ff48b221f84d78cfddb160888f618dec34401e22755c54398554213cb2da31025daa3f5ac113160e30e29241b1c4d78bbd0be59_1280.jpg', 'Belette': 'https://pixabay.com/get/g0f1dbb4492d9ec6cf28df6135307bb261747e411b550445e16a057165657d37dc75b2ca494c469fba65b6985b8d74dfc9b3870527ec9e8a44b827e3b2de38878_1280.jpg', 'Loup': 'https://pixabay.com/get/gf6ff43031a7e4baa950eaa4be46a99f75c6c28e6968e364f71a1558f765f8d551a3ae6c649768447a334adc2abe604f1893ee711e2e1cabf56d515fb5327778f_1280.jpg', 'Panda roux': 'https://pixabay.com/get/gc23eb3cd91d23bfe35058550006423d4253f8600f3f602fc6a5c58f888909d3992a316b1c1f9cdedb43e1aa77b6c585ac9bce811730c5573f421fe515e8e43a5_1280.jpg', 'Raton laveur': 'https://pixabay.com/get/gcbc09b97748a5e31349a43ec97f9e2d2db0125240b4fe0df4141607b0315e195f9e38f08a2895657be29afed2f3b641b9ff9529f06bbb730451109b84651b6e8_1280.jpg', 'Tortue': 'https://pixabay.com/get/g9550fe33bd5da705df4b41db697d089b0dc215420db026213da4e1f146576c93a8d2f6a7d28ade6adf01ae6b03086c239a7b95cd3fd4769250bfd1dbb3405d0c_1280.jpg', 'Scarabée': 'https://pixabay.com/get/g7b763a5a9aefa9f2418fd56c1b50b66fd03934df4df3765b85c376a46d2c5e58f35dd70c9ba26a4ea09305783e4488dcbc8558970b8792d6fdb1a63fbfdbe7bf_1280.jpg', 'Chouette': 'https://pixabay.com/get/gab7901eab0a92cee82bf6e091b9276f60c6d9b962ead716255b941e8efba15ca38671a169baa4a769d7938eb8e31ea42f419ebd5646b815bb689c5a4a9aa84a8_1280.jpg', 'Caméléon': 'https://pixabay.com/get/g42135cf8b3ba53bf898d4796b2371b6f07e5f0e1c99aa3da11639ad70cfe84e798a64ca2d994093e22a15337fd2844d81f38d722bca7a834c0aa65de45052546_1280.jpg', 'Hippopotame': 'https://pixabay.com/get/g8293a51e255b13d1c06d4c4dd0f944701b29534bbff54b6e466526f435a07a337f2e4f89907f6da82774ba44e940a7d150508035d38ee4d2fe7cef8489f183ad_1280.jpg', 'Renard': 'https://pixabay.com/get/g9006cc34fc6fb87e15ad6e2986c470ebdab7ec977abf1e01ca89515736d8e6f63240ea86caeae91188be0cf380f1269680130909be21ffdd035e4af55e60daa0_1280.jpg', 'Ours': 'https://pixabay.com/get/gc3ff38da8573c1ed377ad2e3dd9cec18c804b9a5e90cf2f4a27f865ca2490384b04d1b22e7bb1e83d8c102689dbe107f633f0c7f20a8e7dd2dd44d3ed4506646_1280.jpg', 'Perruche': 'https://pixabay.com/get/g7fbacf53d9f3cc4e033069414c0d673496c106243aa349243b243ec25655e366c1d99f5a18472585f8d463e3219cd66b005fec4175a1ef5d6ec30f5a744e2ec3_1280.jpg', 'Lionne': 'https://pixabay.com/get/gc3092ffd1e7742a79773cc167afbd42326838abc1737b54f1f0e23046834d8eef64f64b3b2562c64df8a86e4ac36eef37f3995753de30dd8a7c827c745e1f556_1280.jpg', 'Lynx': 'https://pixabay.com/get/g121e3006d058cc3f676458b0f863c635127be3cf701a203e021182c2c333a6a1ec65d81f7240611cf50eff02b32267e1ac593770ca448658d118297d624e463f_1280.jpg', 'Crocodile': 'https://pixabay.com/get/g957a12dd89ed4aa602306ec1da3dfcc4ef4b9c216ffba15a2543121adc5dba7394c0f6a3e1b76ea60a4ee80ee0d7ca458cb287c285479b5c3be466e5ab4d6e96_1280.jpg', 'Girafe': 'https://pixabay.com/get/g7250f8c2afb0faf06b2917c1ab3f4a6344e69183c8b6ca0fccae079a41fd9ed6a6b377e4c1b397ce7f88bd1dfdf361e50f8e869787dd32f9e8f4c6f53077e1e9_1280.jpg'}\n"
     ]
    }
   ],
   "source": [
    "#Création d'un dictionnaire vide pour le remplir avec une boucle \n",
    "#Récupérer les donnnées(images) avec une requete \n",
    "#Transformer \n",
    "animal_totem={}\n",
    "for i in range(len(doc_akinator)):\n",
    "    my_key = \"30684129-2827575f589de953888ce43e8\" #stocker dans une variable ma API key\n",
    "    url = f\"https://pixabay.com/api/?key={my_key}&lang=fr&q={doc_akinator[i]}&image_type=photo&pretty=true\"\n",
    "    response = req.get(url).json()\n",
    "    animal_pictures = random.choice(response[\"hits\"])\n",
    "    random_pics = animal_pictures[\"largeImageURL\"]\n",
    "    print(random_pics)\n",
    "    animal_totem[doc_akinator[i]] = random_pics\n",
    "print(animal_totem)"
   ]
  },
  {
   "cell_type": "code",
   "execution_count": null,
   "id": "7a828a98",
   "metadata": {},
   "outputs": [],
   "source": [
    "#Création d'un dictionnaire vide pour le remplir avec une boucle \n",
    "#Récupérer les donnnées(images) avec une requete \n",
    "#Transformer \n",
    "animal_totem={}\n",
    "for i in range(len(doc_akinator)):\n",
    "    my_key = \"30684129-2827575f589de953888ce43e8\" #stocker dans une variable ma API key\n",
    "    url = f\"https://pixabay.com/api/?key={my_key}&lang=fr&q={doc_akinator[i]}&image_type=photo&pretty=true\"\n",
    "    response = req.get(url).json()\n",
    "    animal_pictures = response[\"hits\"][2][\"largeImageURL\"]\n",
    "    animal_totem[doc_akinator[i]] = animal_pictures\n",
    "print(animal_totem)"
   ]
  },
  {
   "cell_type": "code",
   "execution_count": null,
   "id": "4fd07c65",
   "metadata": {},
   "outputs": [],
   "source": []
  }
 ],
 "metadata": {
  "kernelspec": {
   "display_name": "Python 3 (ipykernel)",
   "language": "python",
   "name": "python3"
  },
  "language_info": {
   "codemirror_mode": {
    "name": "ipython",
    "version": 3
   },
   "file_extension": ".py",
   "mimetype": "text/x-python",
   "name": "python",
   "nbconvert_exporter": "python",
   "pygments_lexer": "ipython3",
   "version": "3.8.12"
  },
  "toc": {
   "base_numbering": 1,
   "nav_menu": {},
   "number_sections": true,
   "sideBar": true,
   "skip_h1_title": false,
   "title_cell": "Table of Contents",
   "title_sidebar": "Contents",
   "toc_cell": false,
   "toc_position": {},
   "toc_section_display": true,
   "toc_window_display": false
  }
 },
 "nbformat": 4,
 "nbformat_minor": 5
}
