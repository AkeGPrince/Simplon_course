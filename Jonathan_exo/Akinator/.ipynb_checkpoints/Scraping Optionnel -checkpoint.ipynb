{
 "cells": [
  {
   "cell_type": "markdown",
   "id": "f2994b54",
   "metadata": {},
   "source": [
    "# Exercice optionnel sur le scraping:\n",
    "\"Scraping en cascade\"\n",
    "- Scraper la page suivante: https://www.charlesbordet.com/fr/blog/\n",
    "- Récupérer la liste des articles\n",
    "- Pour chaque articles retrouver l'url vers la page dédiée à cet article (par exemple pour le 1er article l'adresse est : https://www.charlesbordet.com/fr/reactive-shiny/)\n",
    "- Une fois arrivé sur cette page récupérer le sommaire\n",
    "- Produire une liste d'articles comprenant \n",
    "    - Le titre\n",
    "    - La description\n",
    "    - Le tps de lecture\n",
    "    - (Et surtout) le sommaire \n"
   ]
  },
  {
   "cell_type": "code",
   "execution_count": 117,
   "id": "7eac979b",
   "metadata": {},
   "outputs": [
    {
     "name": "stdout",
     "output_type": "stream",
     "text": [
      "<a href=\"/fr/reactive-shiny/\" rel=\"permalink\">Le guide complet pour comprendre la rÃ©activitÃ© en Shiny\n",
      "</a>\n",
      "/fr/reactive-shiny/\n",
      "https://www.charlesbordet.com//fr/reactive-shiny/\n",
      "<a href=\"/fr/comment-upgrader-R-4-0-0-sur-debian/\" rel=\"permalink\">Comment upgrader R 4.0.0 sur Debian\n",
      "</a>\n",
      "/fr/comment-upgrader-R-4-0-0-sur-debian/\n",
      "https://www.charlesbordet.com//fr/comment-upgrader-R-4-0-0-sur-debian/\n",
      "<a href=\"/fr/guide-shiny-aws/\" rel=\"permalink\">Le guide ultime pour dÃ©ployer une application Shiny sur AWS\n",
      "</a>\n",
      "/fr/guide-shiny-aws/\n",
      "https://www.charlesbordet.com//fr/guide-shiny-aws/\n",
      "<a href=\"/fr/useR-2019-report/\" rel=\"permalink\">useR!2019: Retours sur la confÃ©rence useR de lâannÃ©e\n",
      "</a>\n",
      "/fr/useR-2019-report/\n",
      "https://www.charlesbordet.com//fr/useR-2019-report/\n",
      "<a href=\"/fr/useR-2019-toulouse/\" rel=\"permalink\">user! 2019 : Quâattendre et comment se prÃ©parer pour la confÃ©rence ?\n",
      "</a>\n",
      "/fr/useR-2019-toulouse/\n",
      "https://www.charlesbordet.com//fr/useR-2019-toulouse/\n",
      "<a href=\"/fr/faire-beaux-graphiques-ggplot2/\" rel=\"permalink\">Comment faire de beaux graphiques avec R et ggplot2\n",
      "</a>\n",
      "/fr/faire-beaux-graphiques-ggplot2/\n",
      "https://www.charlesbordet.com//fr/faire-beaux-graphiques-ggplot2/\n",
      "<a href=\"/fr/gradient-descent/\" rel=\"permalink\">Comprendre la descente de gradient en 3 Ã©tapes et 12 dessins\n",
      "</a>\n",
      "/fr/gradient-descent/\n",
      "https://www.charlesbordet.com//fr/gradient-descent/\n",
      "<a href=\"/fr/extract-pdf/\" rel=\"permalink\">Comment extraire et analyser les donnÃ©es de fichiers PDF en R\n",
      "</a>\n",
      "/fr/extract-pdf/\n",
      "https://www.charlesbordet.com//fr/extract-pdf/\n",
      "<a href=\"/fr/comment-predire-ltv-pour-startup-saas/\" rel=\"permalink\">Startup SaaS : Comment prÃ©dire la LTV dâun nouvel utilisateur ?\n",
      "</a>\n",
      "/fr/comment-predire-ltv-pour-startup-saas/\n",
      "https://www.charlesbordet.com//fr/comment-predire-ltv-pour-startup-saas/\n",
      "<a href=\"/fr/linear-algebra/\" rel=\"permalink\">LâAlgÃ¨bre LinÃ©aire pour la Data Science : Pourquoi ?\n",
      "</a>\n",
      "/fr/linear-algebra/\n",
      "https://www.charlesbordet.com//fr/linear-algebra/\n"
     ]
    },
    {
     "data": {
      "text/plain": [
       "'Lâ\\x80\\x99AlgÃ¨bre LinÃ©aire pour la Data Science : Pourquoi ?\\n'"
      ]
     },
     "execution_count": 117,
     "metadata": {},
     "output_type": "execute_result"
    }
   ],
   "source": [
    "import requests as req\n",
    "from bs4 import BeautifulSoup\n",
    "import pandas as pd \n",
    "\n",
    "\n",
    "articles_url = f\"https://www.charlesbordet.com/\"\n",
    "url = f\"https://www.charlesbordet.com/fr/blog/#\"\n",
    "content = req.get(url)\n",
    "page = BeautifulSoup(content.text, \"html.parser\")\n",
    "zone = page.find(class_=\"archive\")\n",
    "articles = []\n",
    "\n",
    "for i in range(len(zone.find_all(\"a\"))):\n",
    "    balise = zone.find_all(\"a\")[i]\n",
    "    print(balise)\n",
    "    link = balise['href']\n",
    "    print(link)\n",
    "    articles_url = f\"https://www.charlesbordet.com/\" + link\n",
    "    print(articles_url)\n",
    "    articles.append(articles_url)\n",
    "articles\n",
    "\n",
    "for i in range(len(zone.find_all(\"a\"))):\n",
    "    balise_2 = zone.find_all(\"a\")[i]\n",
    "    articles_name = balise_2.text\n",
    "articles_name"
   ]
  },
  {
   "cell_type": "code",
   "execution_count": 154,
   "id": "a52db7e2",
   "metadata": {},
   "outputs": [
    {
     "data": {
      "text/plain": [
       "<h2 class=\"archive__item-title\" itemprop=\"headline\">\n",
       "<a href=\"/fr/reactive-shiny/\" rel=\"permalink\">Le guide complet pour comprendre la rÃ©activitÃ© en Shiny\n",
       "</a>\n",
       "</h2>"
      ]
     },
     "execution_count": 154,
     "metadata": {},
     "output_type": "execute_result"
    }
   ],
   "source": [
    "articles = []\n",
    "titles = []\n",
    "descriptions = []\n",
    "reading_time = []\n",
    "zone.find(\"h2\")"
   ]
  },
  {
   "cell_type": "code",
   "execution_count": 130,
   "id": "992624d0",
   "metadata": {},
   "outputs": [
    {
     "name": "stdout",
     "output_type": "stream",
     "text": [
      "La chêvre hébétée bêla sur un agneau de façon éphémère, où se croyait-elle ?\n"
     ]
    }
   ],
   "source": [
    "test3 = \"La chêvre hébétée bêla sur un agneau de façon éphémère, où se croyait-elle ?\"\n",
    "#test3\n",
    "\n",
    "print(test3)\n",
    " \n",
    "#print(test3.encode('latin-1')) # Précision de l'encodage, ici latin 1\n"
   ]
  },
  {
   "cell_type": "code",
   "execution_count": null,
   "id": "68652ac2",
   "metadata": {},
   "outputs": [],
   "source": []
  }
 ],
 "metadata": {
  "kernelspec": {
   "display_name": "Python 3 (ipykernel)",
   "language": "python",
   "name": "python3"
  },
  "language_info": {
   "codemirror_mode": {
    "name": "ipython",
    "version": 3
   },
   "file_extension": ".py",
   "mimetype": "text/x-python",
   "name": "python",
   "nbconvert_exporter": "python",
   "pygments_lexer": "ipython3",
   "version": "3.8.12"
  },
  "toc": {
   "base_numbering": 1,
   "nav_menu": {},
   "number_sections": true,
   "sideBar": true,
   "skip_h1_title": false,
   "title_cell": "Table of Contents",
   "title_sidebar": "Contents",
   "toc_cell": false,
   "toc_position": {},
   "toc_section_display": true,
   "toc_window_display": false
  }
 },
 "nbformat": 4,
 "nbformat_minor": 5
}
