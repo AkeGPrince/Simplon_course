{
 "cells": [
  {
   "cell_type": "code",
   "execution_count": null,
   "id": "282292a5",
   "metadata": {},
   "outputs": [],
   "source": [
    "from bs4 import BeautifulSoup\n",
    "import pandas as pd\n",
    "import lxml\n",
    "from bs4 import BeautifulSoup\n",
    "import requests as req\n",
    "\n",
    "#read CSV\n",
    "akinator_data = pd.read_csv('akinator_IA3.csv')\n",
    "\n",
    "#make a list of movie \n",
    "movie_list = akinator_data[\"Film préféré\"]\n",
    "print(type(movie_list))\n",
    "#make a dictionnary with {'movie1' : 0, ... , 'movieX' : 0 }\n",
    "movie_dict = {}\n",
    "for i in range(len(movie_list)):\n",
    "    movie_dict[movie_list[i]] = 0\n",
    "movie_dict"
   ]
  },
  {
   "cell_type": "code",
   "execution_count": null,
   "id": "2dd1f5bc",
   "metadata": {},
   "outputs": [],
   "source": [
    "from bs4 import BeautifulSoup\n",
    "import pandas as pd\n",
    "import lxml\n",
    "import requests as req\n",
    "\n",
    "#read CSV\n",
    "akinator_data = pd.read_csv('akinator_IA3.csv')\n",
    "\n",
    "#make a list of movie \n",
    "movie_list = akinator_data[\"Film préféré\"]\n",
    "\n",
    "#make a dictionnary with {'movie1' : 0, ... , 'movieX' : 0 }\n",
    "movie_dict = {}\n",
    "for i in range(len(movie_list)):\n",
    "    movie_dict[movie_list[i]] = 0\n",
    "\n",
    "\n",
    "#make a loop at the lenght of the movie_list so that movie title can be called using the index (e.g. i)\n",
    "for i in range(len(movie_list)):\n",
    "    \n",
    "    #create a string with the url that contain the movie tiltle (movie_list[i])\n",
    "    adress = f'https://www.imdb.com/find?q={movie_list[i]}ref_=nv_sr_sm'\n",
    "    \n",
    "    #downlaod the page with the adress using 'get' function form the requests apckage\n",
    "    web = req.get(adress)\n",
    "    \n",
    "    #make the bs4 object (e.g. soup)\n",
    "    soup = BeautifulSoup(web.content, 'lxml')\n",
    "    \n",
    "    #search for the class tag 'ipc-....li' in soup and return an object for it (e.g. soup1)\n",
    "    soup1 = soup.find(class_= 'ipc-metadata-list-summary-item__li')\n",
    "    \n",
    "    #get_text info in soup1 = the year of the movie\n",
    "    year = soup1.get_text()\n",
    "    \n",
    "    #store the year in the movie_dictionary\n",
    "    movie_dict[movie_list[i]] = year\n",
    "    \n",
    "print(movie_dict)"
   ]
  },
  {
   "cell_type": "markdown",
   "id": "81ef99db",
   "metadata": {},
   "source": [
    "# Correction LiveCode"
   ]
  },
  {
   "cell_type": "code",
   "execution_count": null,
   "id": "2b0474e5",
   "metadata": {},
   "outputs": [],
   "source": [
    "from bs4 import BeautifulSoup\n",
    "import pandas as pd\n",
    "import requests\n",
    "\n",
    "akinator = pd.read_csv(\"akinatorIA3v3.csv\")\n",
    "films = akinator['Film préféré'].tolist()\n",
    "movienames = {}\n",
    "\n",
    "for film in films:\n",
    "    url = f'https://www.imdb.com/find?q=%7Bfilm%7D'\n",
    "    page = requests.get(url)\n",
    "    soup = BeautifulSoup(page.content, 'html.parser')\n",
    "    years = soup.find(class=\"ipc-metadata-list-summary-item__li\").text\n",
    "    movie_names[film] = int(years)\n",
    "\n",
    "print(movie_names)\n",
    "\n",
    "# Objectifs :\n",
    "\n",
    "### Ouvrir le fichier csv\n",
    "### Initialiser un dict vide\n",
    "### Récupérer la colonne/Identifier la colonne : \"Film préféré\"\n",
    "### Stocker les données dans une list\n",
    "### Pour chaque nom de film présent dans la list\n",
    "    ### Créer l'URL de la page du film sur imdb\n",
    "    ### Télécharger la page\n",
    "    ### Identifier l'année du premier résultat\n",
    "    ### Convertir le résultat en integer\n",
    "    ### On stock le couple nom: année dans le dictionnaire"
   ]
  }
 ],
 "metadata": {
  "kernelspec": {
   "display_name": "Python 3 (ipykernel)",
   "language": "python",
   "name": "python3"
  },
  "language_info": {
   "codemirror_mode": {
    "name": "ipython",
    "version": 3
   },
   "file_extension": ".py",
   "mimetype": "text/x-python",
   "name": "python",
   "nbconvert_exporter": "python",
   "pygments_lexer": "ipython3",
   "version": "3.8.12"
  },
  "toc": {
   "base_numbering": 1,
   "nav_menu": {},
   "number_sections": true,
   "sideBar": true,
   "skip_h1_title": false,
   "title_cell": "Table of Contents",
   "title_sidebar": "Contents",
   "toc_cell": false,
   "toc_position": {},
   "toc_section_display": true,
   "toc_window_display": false
  }
 },
 "nbformat": 4,
 "nbformat_minor": 5
}
