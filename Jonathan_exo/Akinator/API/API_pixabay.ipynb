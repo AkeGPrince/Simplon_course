{
 "cells": [
  {
   "cell_type": "code",
   "execution_count": null,
   "id": "2770eb11",
   "metadata": {},
   "outputs": [],
   "source": [
    "#Importer les bibliothèques nécessaires\n",
    "import random\n",
    "import json\n",
    "import pandas as pd \n",
    "import requests as req\n"
   ]
  },
  {
   "cell_type": "code",
   "execution_count": null,
   "id": "81610e22",
   "metadata": {},
   "outputs": [],
   "source": [
    "#Récupérer le fichier csv via panda et récupérer une liste pour \"Animal totem\"\n",
    "\n",
    "reader = pd.read_csv(\"akinator.csv\")\n",
    "doc_akinator = reader[\"Animal totem\"]"
   ]
  },
  {
   "cell_type": "code",
   "execution_count": null,
   "id": "e187ac07",
   "metadata": {
    "scrolled": true
   },
   "outputs": [],
   "source": [
    "#Création d'un dictionnaire vide pour le remplir avec une boucle \n",
    "#Récupérer les donnnées(images) avec une requete \n",
    "#Transformer \n",
    "animal_totem={}\n",
    "for i in range(len(doc_akinator)):\n",
    "    # my_key = \"xxxxx xxxxx xxxxxxx xxx\" #stocker dans une variable ma API key\n",
    "    url = f\"https://pixabay.com/api/?key={my_key}&lang=fr&q={doc_akinator[i]}&image_type=photo&pretty=true\"\n",
    "    response = req.get(url).json()\n",
    "    animal_pictures = random.choice(response[\"hits\"])\n",
    "    random_pics = animal_pictures[\"largeImageURL\"]\n",
    "    print(random_pics)\n",
    "    animal_totem[doc_akinator[i]] = random_pics\n",
    "print(animal_totem)"
   ]
  },
  {
   "cell_type": "code",
   "execution_count": null,
   "id": "7a828a98",
   "metadata": {},
   "outputs": [],
   "source": [
    "#Création d'un dictionnaire vide pour le remplir avec une boucle \n",
    "#Récupérer les donnnées(images) avec une requete \n",
    "#Transformer \n",
    "animal_totem={}\n",
    "for i in range(len(doc_akinator)):\n",
    "    my_key = \"30684129-2827575f589de953888ce43e8\" #stocker dans une variable ma API key\n",
    "    url = f\"https://pixabay.com/api/?key={my_key}&lang=fr&q={doc_akinator[i]}&image_type=photo&pretty=true\"\n",
    "    response = req.get(url).json()\n",
    "    animal_pictures = response[\"hits\"][2][\"largeImageURL\"]\n",
    "    animal_totem[doc_akinator[i]] = animal_pictures\n",
    "print(animal_totem)"
   ]
  },
  {
   "cell_type": "code",
   "execution_count": null,
   "id": "4fd07c65",
   "metadata": {},
   "outputs": [],
   "source": []
  }
 ],
 "metadata": {
  "kernelspec": {
   "display_name": "Python 3 (ipykernel)",
   "language": "python",
   "name": "python3"
  },
  "language_info": {
   "codemirror_mode": {
    "name": "ipython",
    "version": 3
   },
   "file_extension": ".py",
   "mimetype": "text/x-python",
   "name": "python",
   "nbconvert_exporter": "python",
   "pygments_lexer": "ipython3",
   "version": "3.8.12"
  },
  "toc": {
   "base_numbering": 1,
   "nav_menu": {},
   "number_sections": true,
   "sideBar": true,
   "skip_h1_title": false,
   "title_cell": "Table of Contents",
   "title_sidebar": "Contents",
   "toc_cell": false,
   "toc_position": {},
   "toc_section_display": true,
   "toc_window_display": false
  }
 },
 "nbformat": 4,
 "nbformat_minor": 5
}
