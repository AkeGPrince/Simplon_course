{
 "cells": [
  {
   "cell_type": "markdown",
   "id": "10870b14",
   "metadata": {},
   "source": [
    "## Exercice: Akinator scraping:\n",
    "- télécharger la base de données au format CSV \n",
    "- Ecrire une fonction python qui:\n",
    "    - Ouvre le fichier CSV\n",
    "    - Récupère la colonne \"films préférés\"\n",
    "    - Pour chaque film retrouve l'année de parution sur le site https://www.imdb.com/, via un scraping écrit avec beautifulsoup.\n",
    "    - Retourne un disctionnaire avec pour clés les nom des films et pour valeurs les années au format integer "
   ]
  },
  {
   "cell_type": "code",
   "execution_count": null,
   "id": "2a756ed6",
   "metadata": {},
   "outputs": [],
   "source": [
    "\n",
    "import requests\n",
    "from bs4 import BeautifulSoup\n",
    "import pandas as pd\n",
    "\n",
    "reader = csv.DictReader(open(r\"akinator_IA3.csv\"))\n",
    "for raw in reader:\n",
    "    print(raw['Film préféré'])\n",
    "\n",
    "    page = requests.get(f\"https://www.imdb.com/title/tt0111161/?\")\n",
    "    soup = BeautifulSoup(page.content, 'html.parser')\n",
    "    titre = soup.find(class_=\"sc-8c396aa2-2 itZqyK\")\n",
    "    print(titre.get_text())\n",
    "\n",
    "\n",
    "\n",
    "\n",
    "\n"
   ]
  },
  {
   "cell_type": "code",
   "execution_count": null,
   "id": "433d4407",
   "metadata": {},
   "outputs": [],
   "source": [
    "import csv\n",
    "import requests\n",
    "from bs4 import BeautifulSoup\n",
    "import pandas as pd\n",
    "reader = csv.DictReader(open(r\"akinator_IA3.csv\"))\n",
    "print(type(reader))\n",
    "\n",
    "\n",
    "\n",
    "\n"
   ]
  },
  {
   "cell_type": "code",
   "execution_count": null,
   "id": "92ec9ebb",
   "metadata": {},
   "outputs": [],
   "source": [
    "import pandas\n",
    "import requests\n",
    "from bs4 import BeautifulSoup\n",
    "sortie = pandas.read_csv('akinator_IA3.csv', usecols=['Film préféré'])\n",
    "print(sortie)\n",
    "pages = requests.get(\"https://www.imdb.com/title/tt0111161/?ref_=nv_sr_srsg_0\")\n",
    "titres = BeautifulSoup(pages.content, \"html.parser\")\n",
    "date = titres.find('title')\n",
    "date = list(date.children)\n",
    "date = \"\".join(date)\n",
    "date.split(\" \")\n",
    "\n",
    "#date.get_text()\n"
   ]
  },
  {
   "cell_type": "code",
   "execution_count": null,
   "id": "d529188b",
   "metadata": {},
   "outputs": [],
   "source": [
    "import pandas\n",
    "import requests\n",
    "from bs4 import BeautifulSoup\n",
    "sortie = pandas.read_csv('akinator_IA3.csv', usecols=['Film préféré'])\n",
    "print(sortie.values.tolist())\n",
    "for i in sortie.values.tolist():\n",
    "    print(i)\n",
    "    page = requests.get(f\"https://www.imdb.com/find?q={str(i)}\")\n",
    "    soup = BeautifulSoup(page.content, 'html.parser')\n",
    "    try:\n",
    "        print(soup.find(class_=\"ipc-metadata-list-summary-item__li\").get_text())\n",
    "    except:\n",
    "        print(\"film pas trouvé\")\n",
    "#pages = requests.get(\"https://www.imdb.com/title/tt0169547/?ref_=nv_sr_srsg_0\")\n",
    "#titres = BeautifulSoup(pages.content, \"html.parser\")\n",
    "#date = titres.find('title')\n",
    "#date = list(date.children)\n",
    "#date = \"\".join(date)\n",
    "#date = date.split(\" \")\n",
    "#date = date[2]\n",
    "#date"
   ]
  }
 ],
 "metadata": {
  "kernelspec": {
   "display_name": "Python 3 (ipykernel)",
   "language": "python",
   "name": "python3"
  },
  "language_info": {
   "codemirror_mode": {
    "name": "ipython",
    "version": 3
   },
   "file_extension": ".py",
   "mimetype": "text/x-python",
   "name": "python",
   "nbconvert_exporter": "python",
   "pygments_lexer": "ipython3",
   "version": "3.8.12"
  },
  "toc": {
   "base_numbering": 1,
   "nav_menu": {},
   "number_sections": true,
   "sideBar": true,
   "skip_h1_title": false,
   "title_cell": "Table of Contents",
   "title_sidebar": "Contents",
   "toc_cell": false,
   "toc_position": {},
   "toc_section_display": true,
   "toc_window_display": false
  }
 },
 "nbformat": 4,
 "nbformat_minor": 5
}
