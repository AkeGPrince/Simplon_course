{
 "cells": [
  {
   "cell_type": "markdown",
   "id": "b379e2b4",
   "metadata": {
    "heading_collapsed": true
   },
   "source": [
    "# Renvoyer les lettres ou chiffre unique"
   ]
  },
  {
   "cell_type": "code",
   "execution_count": null,
   "id": "21f7ae38",
   "metadata": {
    "hidden": true
   },
   "outputs": [],
   "source": [
    "def unik_in_order(inp):\n",
    "    lst = []\n",
    "    for letter in inp:\n",
    "        if letter not in lst:\n",
    "            lst.append(letter)\n",
    "        else:\n",
    "            continue\n",
    "    return lst\n",
    "\n",
    "r = unik_in_order('AABBcDccDeAABB')\n",
    "print(\"\".join(r))\n",
    "\n",
    "# creer une liste avec l'input\n",
    "# si la lettre n'existe pas append\n",
    "# sinon pass\n"
   ]
  },
  {
   "cell_type": "markdown",
   "id": "1c6ff507",
   "metadata": {
    "hidden": true
   },
   "source": [
    "Compter les voyelles:"
   ]
  },
  {
   "cell_type": "code",
   "execution_count": null,
   "id": "834ff859",
   "metadata": {
    "hidden": true
   },
   "outputs": [],
   "source": [
    "inp = input('phrase')\n",
    "count = 0 \n",
    "vowel = set('aeiou')\n",
    "for letter in inp:\n",
    "    if letter in vowel:\n",
    "        count += 1\n",
    "print(count)\n",
    "\n",
    "    "
   ]
  },
  {
   "cell_type": "markdown",
   "id": "a2a05fdf",
   "metadata": {
    "heading_collapsed": true
   },
   "source": [
    "# Enlever les voyelles d'une string"
   ]
  },
  {
   "cell_type": "markdown",
   "id": "5b22b0af",
   "metadata": {
    "heading_collapsed": true,
    "hidden": true
   },
   "source": [
    "## mon code "
   ]
  },
  {
   "cell_type": "code",
   "execution_count": null,
   "id": "6f09ff63",
   "metadata": {
    "hidden": true
   },
   "outputs": [],
   "source": [
    "Mon code:\n",
    "\n",
    "def disemvowel(string_):\n",
    "    lst = []\n",
    "    vowels = set('aeoui')\n",
    "    for letter in string_:\n",
    "        if letter in vowels:\n",
    "            continue\n",
    "        else:\n",
    "            lst.append(letter)\n",
    "    return \"\".join(lst)\n",
    "\n",
    "disemvowel(\"Salut mon ami\")"
   ]
  },
  {
   "cell_type": "markdown",
   "id": "a675ee2f",
   "metadata": {
    "heading_collapsed": true,
    "hidden": true
   },
   "source": [
    "## CodeWars code"
   ]
  },
  {
   "cell_type": "code",
   "execution_count": null,
   "id": "cb10af90",
   "metadata": {
    "hidden": true
   },
   "outputs": [],
   "source": [
    "def disemvowel(string):\n",
    "    return \"\".join(c for c in string if c.lower() not in \"aeiou\")"
   ]
  },
  {
   "cell_type": "code",
   "execution_count": null,
   "id": "d3571223",
   "metadata": {
    "hidden": true
   },
   "outputs": [],
   "source": [
    "def disemvowel(s):\n",
    "    for i in \"aeiouAEIOU\":\n",
    "        s = s.replace(i,'')\n",
    "    return s"
   ]
  },
  {
   "cell_type": "markdown",
   "id": "5ee09792",
   "metadata": {},
   "source": [
    "# Square Every Digit"
   ]
  },
  {
   "cell_type": "code",
   "execution_count": null,
   "id": "39e0680d",
   "metadata": {},
   "outputs": [],
   "source": [
    "def square_digits(num):\n",
    "    digit = list(num)\n",
    "    \n",
    "    pass\n",
    "\n",
    "#crrer une list d'int avec l'input\n",
    "#separer chaque int\n",
    "#square them\n",
    "#add them\n",
    "\n",
    "number = '1234'\n",
    "#digit = int(number)\n",
    "#digit = digit.split()\n",
    "#digit\n",
    "map(int,number)\n",
    "[1, 2, 3, 4, 5]"
   ]
  },
  {
   "cell_type": "code",
   "execution_count": null,
   "id": "11c6fbfe",
   "metadata": {},
   "outputs": [],
   "source": [
    "org_list = [9, 1, 1, 9]\n",
    "fin_list = []\n",
    "\n",
    "for num in org_list:\n",
    "    fin_list.append(num**2)\n",
    "for i in fin_list:\n",
    "    print(i, end=\"\")\n",
    "    \n",
    "       \n",
    "\n",
    "print(fin_list)"
   ]
  },
  {
   "cell_type": "code",
   "execution_count": null,
   "id": "688433ad",
   "metadata": {},
   "outputs": [],
   "source": [
    "# Python3 program to convert a list\n",
    "# of integers into a single integer\n",
    "  \n",
    "# creating a list\n",
    "lst = [12, 15, 17]\n",
    "  \n",
    "# iterating each element\n",
    "for i in lst:\n",
    "    print(i, end=\"\")"
   ]
  },
  {
   "cell_type": "code",
   "execution_count": null,
   "id": "880ca5f5",
   "metadata": {},
   "outputs": [],
   "source": [
    "string_list = ['100', '140', '8' ,'209', '50' '92', '3']\n",
    "print(string_list)\n",
    "\n",
    "int_list = list(map(int, string_list))\n",
    "print(int_list)"
   ]
  },
  {
   "cell_type": "code",
   "execution_count": null,
   "id": "0fd3c5c4",
   "metadata": {},
   "outputs": [],
   "source": [
    "num2 = str(numbers)\n",
    "num3 = []\n",
    "for num in numbers:\n",
    "        print(num2)\n",
    "        num3.append(num2)\n",
    "        print(num3)\n",
    "print(num3)"
   ]
  },
  {
   "cell_type": "code",
   "execution_count": 4,
   "id": "c81dc7b5",
   "metadata": {},
   "outputs": [
    {
     "name": "stdout",
     "output_type": "stream",
     "text": [
      "811181\n"
     ]
    }
   ],
   "source": [
    "# Python3 program to convert a list\n",
    "# of integers into a single integer\n",
    "def convert(list):\n",
    "      \n",
    "    # Converting integer list to string list\n",
    "    s = [str(i**2) for i in list]\n",
    "      \n",
    "    # Join list items using join()\n",
    "    res = int(\"\".join(s))\n",
    "      \n",
    "    return(res)\n",
    "  \n",
    "# Driver code\n",
    "list = [9, 1, 1, 9]\n",
    "print(convert(list))"
   ]
  },
  {
   "cell_type": "code",
   "execution_count": null,
   "id": "3feddd98",
   "metadata": {},
   "outputs": [],
   "source": [
    "a = 221250211057090182010487030990\n",
    "y = a \n",
    "print(hex(y))"
   ]
  },
  {
   "cell_type": "code",
   "execution_count": null,
   "id": "24d2a0a4",
   "metadata": {},
   "outputs": [],
   "source": [
    "a = [1,4,2,7,1,9,0,3,4,6,6,6,8,3]\n",
    "#Nous voulons filtrer les valeurs de cette\n",
    "#liste et ne garder que ceux dont la valeur\n",
    "#est supérieure à 5:\n",
    "\n",
    "def square_digits(list):\n",
    "    res = [x**2 for x in list]\n",
    "    return res\n",
    "\n",
    "square_digits(a)\n",
    "\n",
    "\n",
    "\n",
    "\n",
    "    "
   ]
  }
 ],
 "metadata": {
  "kernelspec": {
   "display_name": "Python 3 (ipykernel)",
   "language": "python",
   "name": "python3"
  },
  "language_info": {
   "codemirror_mode": {
    "name": "ipython",
    "version": 3
   },
   "file_extension": ".py",
   "mimetype": "text/x-python",
   "name": "python",
   "nbconvert_exporter": "python",
   "pygments_lexer": "ipython3",
   "version": "3.8.12"
  },
  "toc": {
   "base_numbering": 1,
   "nav_menu": {},
   "number_sections": true,
   "sideBar": true,
   "skip_h1_title": false,
   "title_cell": "Table of Contents",
   "title_sidebar": "Contents",
   "toc_cell": false,
   "toc_position": {},
   "toc_section_display": true,
   "toc_window_display": false
  }
 },
 "nbformat": 4,
 "nbformat_minor": 5
}
