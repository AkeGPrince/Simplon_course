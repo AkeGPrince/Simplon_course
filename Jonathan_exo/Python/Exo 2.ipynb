{
 "cells": [
  {
   "cell_type": "markdown",
   "id": "b3a10174",
   "metadata": {},
   "source": [
    "# Day 2: Boolean and methods"
   ]
  },
  {
   "cell_type": "markdown",
   "id": "ebf58056",
   "metadata": {},
   "source": [
    "## EXO1\n",
    "Display the game answers with this syntax : use:"
   ]
  },
  {
   "cell_type": "code",
   "execution_count": null,
   "id": "34a933c4",
   "metadata": {},
   "outputs": [],
   "source": [
    "game_answers = [ \"yes\",  \"yes\", \"no\", \"yes\" ]\n",
    "counter = 0\n",
    "\n",
    "for answer in game_answers:\n",
    "    count += 1\n",
    "    print(f'> question {counter} - {answer}')\n",
    "\n"
   ]
  },
  {
   "cell_type": "markdown",
   "id": "9d32bc78",
   "metadata": {},
   "source": [
    "## EXO2\n",
    "Display the game answers with this syntax if the answer is yes : Use:"
   ]
  },
  {
   "cell_type": "code",
   "execution_count": null,
   "id": "fd824348",
   "metadata": {},
   "outputs": [],
   "source": [
    "game_answers = [ \"yes\",  \"yes\", \"no\", \"yes\" ]\n",
    "for i, answer in enumerate(game_answers):\n",
    "    if answer == \"yes\":\n",
    "        print(f'> question {i} - {answer}')\n"
   ]
  },
  {
   "cell_type": "markdown",
   "id": "0f9938b3",
   "metadata": {},
   "source": [
    "## EXO 3\n",
    "Display the number of yes in game answers : use:"
   ]
  },
  {
   "cell_type": "code",
   "execution_count": null,
   "id": "fef37a15",
   "metadata": {},
   "outputs": [],
   "source": [
    "game_answers = [ \"yes\",  \"yes\", \"no\", \"yes\" ]\n",
    "def counting_answers(answers):\n",
    "    return answers.count(\"yes\")\n",
    "counting_answers(game_answers)"
   ]
  },
  {
   "cell_type": "markdown",
   "id": "ba518218",
   "metadata": {},
   "source": [
    "## EXO 4 Annexe\n",
    "Display the vegetables and its associated color Use:"
   ]
  },
  {
   "cell_type": "code",
   "execution_count": null,
   "id": "bd0b058b",
   "metadata": {
    "scrolled": true
   },
   "outputs": [],
   "source": [
    "vegetables = [\"Carotte\", \"Poireau\", \"Courgette\"]\n",
    "colors = [\"Orange\", \"Blanche\", \"Verte\"]\n",
    "def color_of_vegetable(color, vegetable):\n",
    "    \n",
    "    for vegetable,color in zip(vegetables, colors):\n",
    "        print(f\"Le légume nommé {vegetable} est de couleur {color}\")\n",
    "        \n",
    "        \n",
    "color_of_vegetable(vegetables, colors)\n"
   ]
  },
  {
   "cell_type": "markdown",
   "id": "7e5172b2",
   "metadata": {},
   "source": [
    "## EXO 4\n",
    "Display the matching between Game answers and Pauline's answers Use:"
   ]
  },
  {
   "cell_type": "code",
   "execution_count": null,
   "id": "8fee4406",
   "metadata": {},
   "outputs": [],
   "source": [
    "game_answers = [ \"yes\",  \"yes\", \"no\", \"yes\" ]\n",
    "pauline_answers = [ \"yes\",  \"yes\", \"no\", \"no\" ]\n",
    "def display_matching(answers, user_answers):\n",
    "    print(f\" Game | Pauline\")\n",
    "    for answer, user_answer in zip(answers, user_answers):\n",
    "        print(f\" {answer} | {user_answer}\")\n",
    "    return None\n",
    "    \n",
    "display_matching(game_answers, pauline_answers)\n"
   ]
  },
  {
   "cell_type": "markdown",
   "id": "965428cf",
   "metadata": {},
   "source": [
    "## EXO 5\n",
    "Display the matching between Game answers and Pauline's answers just if Game answer and Pauline's answer are the same. "
   ]
  },
  {
   "cell_type": "code",
   "execution_count": null,
   "id": "0871f87e",
   "metadata": {},
   "outputs": [],
   "source": [
    "game_answers = [ \"yes\",  \"yes\", \"no\", \"yes\" ]\n",
    "pauline_answers = [ \"yes\",  \"yes\", \"no\", \"no\" ]\n",
    "def display_matching(answers, user_answers):\n",
    "    print(f\" Game | Pauline\")\n",
    "    for answer, user_answer in zip(answers, user_answers):\n",
    "        if (answer == user_answer ):\n",
    "            print(f\" {answer} | {user_answer}\")\n",
    "    return None\n",
    "    \n",
    "display_matching(game_answers, pauline_answers)"
   ]
  },
  {
   "cell_type": "code",
   "execution_count": 1,
   "id": "db38acd7",
   "metadata": {},
   "outputs": [
    {
     "name": "stdout",
     "output_type": "stream",
     "text": [
      " Game | Pauline\n",
      " yes | yes\n",
      " yes | yes\n",
      " no | no\n"
     ]
    }
   ],
   "source": [
    "game_answers = [ \"yes\",  \"yes\", \"no\", \"non\" ]\n",
    "pauline_answers = [ \"yes\",  \"yes\", \"no\", \"no\" ]\n",
    "def display_matching(answers, user_answers):\n",
    "    print(f\" Game | Pauline\")\n",
    "    for i in range(len(answers)):\n",
    "        if answers[i] == user_answers[i]:\n",
    "            print (f\" {answers[i]} | {user_answers[i]}\")\n",
    "    return None\n",
    "    \n",
    "display_matching(game_answers, pauline_answers)"
   ]
  },
  {
   "cell_type": "markdown",
   "id": "91ebe516",
   "metadata": {},
   "source": [
    "## EXO 6\n",
    "Display the number of matchings between Game answers and Pauline's answers Use:"
   ]
  },
  {
   "cell_type": "code",
   "execution_count": null,
   "id": "508e85a7",
   "metadata": {},
   "outputs": [],
   "source": [
    "game_answers = [ \"yes\",  \"yes\", \"no\", \"yes\" ]\n",
    "pauline_answers = [ \"yes\",  \"yes\", \"no\", \"no\" ]\n",
    "\n",
    "def display_matching(answers, user_answers):\n",
    "\n",
    "    \n",
    "    return [f\" {answer} | {user_answer}\" for answer,user_answer in zip(answers, user_answers) if answer == user_answer]\n",
    "    return [f\" {answers[i]} | {user_answers[i]}\" for i in range(len(answers)) if answers[i] == user_answers[i]]\n",
    "\n",
    "print(counting_matching(game_answers, pauline_answers))\n",
    "\n",
    "\n",
    "\n",
    "\n",
    "\n",
    "\n"
   ]
  },
  {
   "cell_type": "markdown",
   "id": "9f882907",
   "metadata": {},
   "source": [
    "## EXO 6\n",
    "Display the number of matchings between Game answers and Pauline's answers Use:"
   ]
  },
  {
   "cell_type": "code",
   "execution_count": null,
   "id": "4ade78bf",
   "metadata": {},
   "outputs": [],
   "source": [
    "game_answers = [ \"yes\",  \"yes\", \"no\", \"yes\" ]\n",
    "pauline_answers = [ \"yes\",  \"yes\", \"no\", \"no\" ]\n",
    "\n",
    "def counting_matching(answer, user_answer):\n",
    "    counter = 0\n",
    "    for i in range(len(answer)):\n",
    "        if answer[i] == user_answer[i]:\n",
    "            counter += 1\n",
    "    return counter\n",
    "            \n",
    "counting_matching(game_answers, pauline_answers)"
   ]
  },
  {
   "cell_type": "code",
   "execution_count": null,
   "id": "26352c14",
   "metadata": {},
   "outputs": [],
   "source": []
  }
 ],
 "metadata": {
  "kernelspec": {
   "display_name": "Python 3 (ipykernel)",
   "language": "python",
   "name": "python3"
  },
  "language_info": {
   "codemirror_mode": {
    "name": "ipython",
    "version": 3
   },
   "file_extension": ".py",
   "mimetype": "text/x-python",
   "name": "python",
   "nbconvert_exporter": "python",
   "pygments_lexer": "ipython3",
   "version": "3.8.12"
  },
  "toc": {
   "base_numbering": 1,
   "nav_menu": {},
   "number_sections": true,
   "sideBar": true,
   "skip_h1_title": false,
   "title_cell": "Table of Contents",
   "title_sidebar": "Contents",
   "toc_cell": false,
   "toc_position": {},
   "toc_section_display": true,
   "toc_window_display": false
  }
 },
 "nbformat": 4,
 "nbformat_minor": 5
}
