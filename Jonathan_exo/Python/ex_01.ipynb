{
 "cells": [
  {
   "cell_type": "markdown",
   "id": "b2876007",
   "metadata": {
    "heading_collapsed": true
   },
   "source": [
    "# Exo 1 "
   ]
  },
  {
   "cell_type": "raw",
   "id": "f8006583",
   "metadata": {
    "hidden": true
   },
   "source": [
    "Put a list of questions to your user and store his answers in a array. Example: \n",
    "    \n",
    "> Does it have clear eyes?\n",
    " yes\n",
    "> Is this a male?\n",
    " no\n",
    "> Is he vegan?\n",
    " no\n",
    "> Is he from Aquitaine?\n",
    " no\n",
    "> Yours answers: [yes, no, no, no]\n"
   ]
  },
  {
   "cell_type": "code",
   "execution_count": null,
   "id": "e1220c10",
   "metadata": {
    "hidden": true
   },
   "outputs": [],
   "source": [
    "list_questions = [input(\"Does it have clear eyes?\"), input(\"Is this a male?\"),\n",
    "                  input(\"Is he vegan?\"), input(\"Is he from Aquitaine?\")]\n",
    "answers = []\n",
    "\n",
    "\n",
    "for question in list_questions:\n",
    "    \n",
    "    answers.append(question)\n",
    "    \n",
    "print(answers)\n",
    "    "
   ]
  },
  {
   "cell_type": "code",
   "execution_count": null,
   "id": "d7626134",
   "metadata": {
    "hidden": true
   },
   "outputs": [],
   "source": [
    "list_questions = [\"Does it have clear eyes?\", \"Is this a male?\",\n",
    "                  \"Is he vegan?\", \"Is he from Aquitaine?\"]\n",
    "answers = []\n",
    "\n",
    "\n",
    "for question in list_questions:\n",
    "    \n",
    "    answer = input(question)\n",
    "    answers.append(answer)\n",
    "    \n",
    "print(answers)"
   ]
  },
  {
   "cell_type": "markdown",
   "id": "11143d35",
   "metadata": {
    "heading_collapsed": true
   },
   "source": [
    "# Exo 2"
   ]
  },
  {
   "cell_type": "raw",
   "id": "2d661084",
   "metadata": {
    "hidden": true
   },
   "source": [
    "Display a todo list, suggest the delete user an accomplished task and display the updated todo list Example:\n",
    "> Your todo List\n",
    "> [\"course\", \"menage\", \"lessive\"]\n",
    "> What task have you accomplished?\n",
    "menage\n",
    "> Your updated todo list : [\"course\", \"lessive\"]"
   ]
  },
  {
   "cell_type": "code",
   "execution_count": null,
   "id": "b8988029",
   "metadata": {
    "hidden": true
   },
   "outputs": [],
   "source": [
    "to_do_list = [\"course\", \"menage\", \"lessive\"]\n",
    "print (to_do_list)\n",
    "task = input('What task have you accomplished? ')\n",
    "if task not in to_do_list:\n",
    "    print('Try again')\n",
    "else: \n",
    "    to_do_list.remove(task)\n",
    "\n",
    "print('Your updated todo list : ', to_do_list)"
   ]
  },
  {
   "cell_type": "markdown",
   "id": "62c8028a",
   "metadata": {
    "heading_collapsed": true
   },
   "source": [
    "# Exo 3"
   ]
  },
  {
   "cell_type": "raw",
   "id": "e0bb574f",
   "metadata": {
    "hidden": true
   },
   "source": [
    "You display the user's calendar. you suggest adding a booking Example:\n",
    "> Your agenda :\n",
    "> { \"15/03/2019\" => \"coding skills\", \"18/03/2019\" => \"Hollidays\"}\n",
    "> Add date of booking: (format: \"dd/mm/yyyy\"):\n",
    "20/03/2020\n",
    "> add description of booking:\n",
    "end of hollidays\n",
    "\n",
    "> Your agenda :\n",
    "> { \"15/03/2019\" => \"coding skills\",\n",
    " \"18/03/2019\" => \"Hollidays\",\n",
    " \"20/03/2020\" => \"end of hollidays\"\n",
    "}"
   ]
  },
  {
   "cell_type": "code",
   "execution_count": null,
   "id": "82822e7f",
   "metadata": {
    "hidden": true
   },
   "outputs": [],
   "source": [
    "agenda = {\"15/03/2019\" : \"coding skills\", \"18/03/2019\" : \"Hollidays\"}\n",
    "print(\">Your agenda\")\n",
    "print(\">\", agenda)\n",
    "date_agenda = input('>Add date of booking: (format: \"dd/mm/yyyy\"): ')\n",
    "description_agenda = input(\">Add description of booking:\")\n",
    "agenda[date_agenda] = description_agenda\n",
    "print( \"> Your agenda : \\n\", agenda)"
   ]
  },
  {
   "cell_type": "markdown",
   "id": "adc17460",
   "metadata": {
    "heading_collapsed": true
   },
   "source": [
    "# Exo 4"
   ]
  },
  {
   "cell_type": "raw",
   "id": "00a72b39",
   "metadata": {
    "hidden": true
   },
   "source": [
    "You display the last user's order.\n",
    "you suggest updating a order status from pending to payed. Example:\n",
    "> Your order is :\n",
    "> { \"date\" => \"12/03/2019\",\n",
    "\"description\" => \"Achat de courgettes en ligne\"\n",
    "\"status\" => \"pending\"\n",
    "}\n",
    "> Change the status\n",
    "payed\n",
    "> { \"date\" => \"12/03/2019\",\n",
    "\"description\" => \"Achat de courgettes en ligne\"\n",
    "\"status\" => \"payed\"\n",
    "}"
   ]
  },
  {
   "cell_type": "code",
   "execution_count": null,
   "id": "7f787e4c",
   "metadata": {
    "hidden": true
   },
   "outputs": [],
   "source": [
    "order = { \"date\" : \"12/03/2019\",\n",
    "         \"description\" : \"Achat de courgettes en ligne\",\n",
    "         \"status\" : \"pending\"}\n",
    "print(\"your order is: \", order)\n",
    "\n",
    "status = input(\"Change the status\")\n",
    "print(status)\n",
    "\n",
    "order.update({\"status\" : status})\n",
    "print(order)\n",
    "\n"
   ]
  },
  {
   "cell_type": "markdown",
   "id": "a6217893",
   "metadata": {
    "heading_collapsed": true
   },
   "source": [
    "# Exo 5"
   ]
  },
  {
   "cell_type": "raw",
   "id": "57ce67b7",
   "metadata": {
    "hidden": true
   },
   "source": [
    "Exo 1 but you must use each method. Example:\n",
    "\n",
    ">  Does it have clear eyes?\n",
    "yes\n",
    ">  Is this a male?\n",
    "no\n",
    ">  Is he vegan?\n",
    "no\n",
    ">  Is he from Aquitaine?\n",
    "no\n",
    "> Yours answers :\n",
    "[yes, no, no, no]\n",
    "help: you need this array in your code :\n",
    "\n",
    "questions = [\n",
    " \"Does it have clear eyes?\",\n",
    " \"Is this a male?\",\n",
    " \"Is he vegan?\",\n",
    " \"Is he from Aquitaine?\"\n",
    "]"
   ]
  },
  {
   "cell_type": "code",
   "execution_count": null,
   "id": "27ddf23b",
   "metadata": {
    "hidden": true
   },
   "outputs": [],
   "source": [
    "questions = [\"Does it have clear eyes? \",\n",
    "             \"Is this a male? \",\n",
    "             \"Is he vegan? \",\n",
    "             \"Is he from Aquitaine? \"\n",
    "            ]\n",
    "\n",
    "i = 0\n",
    "answers = []\n",
    "while i < len(questions):\n",
    "    inp_users = input(questions[i])\n",
    "    answers.append(inp_users)\n",
    "    i += 1\n",
    "    \n",
    "print(answers)"
   ]
  },
  {
   "cell_type": "markdown",
   "id": "ac0a98d4",
   "metadata": {
    "heading_collapsed": true
   },
   "source": [
    "# Exo 6"
   ]
  },
  {
   "cell_type": "raw",
   "id": "87b6058f",
   "metadata": {
    "hidden": true
   },
   "source": [
    "Find the number of letters in a sentence (space and punctuation excluded) Example:\n",
    "\n",
    "> write sentence\n",
    "To be or not to be, that is the question!\n",
    "> Your sentence has 41 characters\n"
   ]
  },
  {
   "cell_type": "code",
   "execution_count": 7,
   "id": "a61de9cf",
   "metadata": {
    "hidden": true
   },
   "outputs": [
    {
     "name": "stdout",
     "output_type": "stream",
     "text": [
      "Enter a sentence: to be (\"\" e\n",
      "5\n"
     ]
    }
   ],
   "source": [
    "import re \n",
    "sentences = input('Enter a sentence: ')\n",
    "out = re.sub(r'[\\W]','',sentences)\n",
    "\n",
    "print(len(out))"
   ]
  },
  {
   "cell_type": "code",
   "execution_count": 6,
   "id": "5509a6fe",
   "metadata": {
    "hidden": true
   },
   "outputs": [
    {
     "name": "stdout",
     "output_type": "stream",
     "text": [
      "30\n"
     ]
    },
    {
     "ename": "TypeError",
     "evalue": "object of type 'generator' has no len()",
     "output_type": "error",
     "traceback": [
      "\u001b[0;31m---------------------------------------------------------------------------\u001b[0m",
      "\u001b[0;31mTypeError\u001b[0m                                 Traceback (most recent call last)",
      "Cell \u001b[0;32mIn [6], line 25\u001b[0m\n\u001b[1;32m     22\u001b[0m \u001b[38;5;28;01mdef\u001b[39;00m \u001b[38;5;21mletter_number\u001b[39m(string):\n\u001b[1;32m     23\u001b[0m     \u001b[38;5;28;01mreturn\u001b[39;00m \u001b[38;5;28mlen\u001b[39m(x \u001b[38;5;28;01mfor\u001b[39;00m x \u001b[38;5;129;01min\u001b[39;00m string \u001b[38;5;28;01mif\u001b[39;00m x\u001b[38;5;241m.\u001b[39misalpha())\n\u001b[0;32m---> 25\u001b[0m \u001b[38;5;28mprint\u001b[39m(letter_number(s))\n",
      "Cell \u001b[0;32mIn [6], line 23\u001b[0m, in \u001b[0;36mletter_number\u001b[0;34m(string)\u001b[0m\n\u001b[1;32m     22\u001b[0m \u001b[38;5;28;01mdef\u001b[39;00m \u001b[38;5;21mletter_number\u001b[39m(string):\n\u001b[0;32m---> 23\u001b[0m     \u001b[38;5;28;01mreturn\u001b[39;00m \u001b[38;5;28;43mlen\u001b[39;49m\u001b[43m(\u001b[49m\u001b[43mx\u001b[49m\u001b[43m \u001b[49m\u001b[38;5;28;43;01mfor\u001b[39;49;00m\u001b[43m \u001b[49m\u001b[43mx\u001b[49m\u001b[43m \u001b[49m\u001b[38;5;129;43;01min\u001b[39;49;00m\u001b[43m \u001b[49m\u001b[43mstring\u001b[49m\u001b[43m \u001b[49m\u001b[38;5;28;43;01mif\u001b[39;49;00m\u001b[43m \u001b[49m\u001b[43mx\u001b[49m\u001b[38;5;241;43m.\u001b[39;49m\u001b[43misalpha\u001b[49m\u001b[43m(\u001b[49m\u001b[43m)\u001b[49m\u001b[43m)\u001b[49m\n",
      "\u001b[0;31mTypeError\u001b[0m: object of type 'generator' has no len()"
     ]
    }
   ],
   "source": [
    "s = \"To be or not to be, that is the question!\"\n",
    "#j'initialise un compteur \n",
    "#pour chaque lettre \n",
    "#si le caractère est une lettre \n",
    "#j'aggrandi le compteur de 1 \n",
    "#afficher le compteur à la fin\n",
    "\n",
    "count_s = 0 \n",
    "for letter in s:\n",
    "    if letter.isalpha():\n",
    "        count_s +=1\n",
    "print(count_s)\n",
    "\n",
    "def letter_number(string):\n",
    "    count_s = 0 \n",
    "    for letter in s:\n",
    "        if letter.isalpha():\n",
    "            count_s +=1\n",
    "    return count_s\n",
    "\n",
    "\n",
    "def letter_number(string):\n",
    "    return len(x for x in string if x.isalpha())\n",
    "\n",
    "print(letter_number(s))\n"
   ]
  },
  {
   "cell_type": "markdown",
   "id": "803c6190",
   "metadata": {},
   "source": [
    "# Exo 7"
   ]
  },
  {
   "cell_type": "code",
   "execution_count": null,
   "id": "60383734",
   "metadata": {
    "scrolled": true
   },
   "outputs": [],
   "source": [
    "sentences = input('Enter a sentence: ')\n",
    "answers = sentences.split()\n",
    "#print(answers)\n",
    "acronym = []\n",
    "for word in answers:\n",
    "    acronym.append(word.title()[0])\n",
    "print(\"Your acronym :\" + \"\".join(acronym))"
   ]
  },
  {
   "cell_type": "code",
   "execution_count": null,
   "id": "55133d92",
   "metadata": {},
   "outputs": [],
   "source": [
    "def unik_in_order(inp):\n",
    "    lst = []\n",
    "    i = 0\n",
    "    for letter in inp:\n",
    "            lst.append(letter)\n",
    "            for occurence in letter:\n",
    "                if occurence == letter(i):\n",
    "                    t = lst.pop(i)\n",
    "                    \n",
    "    return lst\n",
    "\n",
    "r = unik_in_order('AABBcDccDe')\n",
    "print(r)"
   ]
  },
  {
   "cell_type": "code",
   "execution_count": null,
   "id": "ad3d36e0",
   "metadata": {},
   "outputs": [],
   "source": [
    "mylist = [1,7,7,7,3,9,9,9,7,9,10,0]   \n",
    "print (sorted(set([i for i in mylist if mylist.count(i)>2])))"
   ]
  },
  {
   "cell_type": "code",
   "execution_count": null,
   "id": "7658d20c",
   "metadata": {},
   "outputs": [],
   "source": [
    "l = [\"a\",\"b\",\"b\"]\n",
    "print([[x,l.count(x)] for x in set(l)])"
   ]
  }
 ],
 "metadata": {
  "kernelspec": {
   "display_name": "Python 3 (ipykernel)",
   "language": "python",
   "name": "python3"
  },
  "language_info": {
   "codemirror_mode": {
    "name": "ipython",
    "version": 3
   },
   "file_extension": ".py",
   "mimetype": "text/x-python",
   "name": "python",
   "nbconvert_exporter": "python",
   "pygments_lexer": "ipython3",
   "version": "3.8.12"
  },
  "toc": {
   "base_numbering": 1,
   "nav_menu": {},
   "number_sections": true,
   "sideBar": true,
   "skip_h1_title": false,
   "title_cell": "Table of Contents",
   "title_sidebar": "Contents",
   "toc_cell": false,
   "toc_position": {},
   "toc_section_display": true,
   "toc_window_display": false
  }
 },
 "nbformat": 4,
 "nbformat_minor": 5
}
