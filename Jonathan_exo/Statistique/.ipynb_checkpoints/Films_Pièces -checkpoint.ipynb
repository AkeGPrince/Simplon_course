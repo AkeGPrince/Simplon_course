{
 "cells": [
  {
   "cell_type": "code",
   "execution_count": 5,
   "id": "4f14d396",
   "metadata": {},
   "outputs": [],
   "source": [
    "import pandas as pd \n",
    "import matplotlib.pyplot as plt\n",
    "import numpy as np\n"
   ]
  },
  {
   "cell_type": "code",
   "execution_count": null,
   "id": "0be4783b",
   "metadata": {},
   "outputs": [],
   "source": [
    "df = pd.read_csv(\"Akinator_.csv\")"
   ]
  },
  {
   "cell_type": "code",
   "execution_count": null,
   "id": "5afdcea4",
   "metadata": {},
   "outputs": [],
   "source": [
    "# Je converti tout en String \n",
    "# Je change les virgules par des points\n",
    "# Je converti en FLoat"
   ]
  },
  {
   "cell_type": "code",
   "execution_count": null,
   "id": "708829e2",
   "metadata": {},
   "outputs": [],
   "source": [
    "cols = df.columns[1:].to_list()"
   ]
  },
  {
   "cell_type": "code",
   "execution_count": null,
   "id": "36a87993",
   "metadata": {},
   "outputs": [],
   "source": [
    "df = df[cols].applymap(str)\n",
    "df_tot = df.unstack().str.replace(\",\", \".\")"
   ]
  },
  {
   "cell_type": "code",
   "execution_count": null,
   "id": "7f0429e3",
   "metadata": {},
   "outputs": [],
   "source": [
    "df_tot = df_tot.astype(float)"
   ]
  },
  {
   "cell_type": "code",
   "execution_count": null,
   "id": "4cb6ea8c",
   "metadata": {},
   "outputs": [],
   "source": [
    "df_tot.isna().nunique()"
   ]
  },
  {
   "cell_type": "code",
   "execution_count": null,
   "id": "a27c1ead",
   "metadata": {},
   "outputs": [],
   "source": [
    "df_tot = pd.DataFrame(df_tot)"
   ]
  },
  {
   "cell_type": "code",
   "execution_count": null,
   "id": "a9e92d44",
   "metadata": {},
   "outputs": [],
   "source": [
    "df_tot"
   ]
  },
  {
   "cell_type": "code",
   "execution_count": null,
   "id": "272c291a",
   "metadata": {},
   "outputs": [],
   "source": [
    "plt.hist(df_tot)"
   ]
  },
  {
   "cell_type": "code",
   "execution_count": null,
   "id": "6913b336",
   "metadata": {},
   "outputs": [],
   "source": [
    "df_tot.sum() / len(df_tot) \n",
    "#Or \n",
    "df_tot.mean()"
   ]
  },
  {
   "cell_type": "code",
   "execution_count": null,
   "id": "18095838",
   "metadata": {},
   "outputs": [],
   "source": [
    "df_tot.std()"
   ]
  },
  {
   "cell_type": "code",
   "execution_count": null,
   "id": "50de7d76",
   "metadata": {},
   "outputs": [],
   "source": [
    "np.sqrt(((df_tot - df_tot.mean())**2).sum()/(len(df_tot)- 1))"
   ]
  },
  {
   "cell_type": "raw",
   "id": "a4a21b45",
   "metadata": {},
   "source": [
    "Les lancés sont centrés autour de 3,97cm +- 112 cm\n",
    "dans un intervalle de confiance de 95%"
   ]
  },
  {
   "cell_type": "raw",
   "id": "e4a74510",
   "metadata": {},
   "source": [
    "Theoreme central au limites "
   ]
  },
  {
   "cell_type": "raw",
   "id": "d0e17933",
   "metadata": {},
   "source": [
    "3.97 +- 55.6/ racine(N) * 2 à 95%"
   ]
  },
  {
   "cell_type": "code",
   "execution_count": null,
   "id": "726744dc",
   "metadata": {},
   "outputs": [],
   "source": [
    "sn = df_tot.std() / np.sqrt(210) # 210 = len(df_tot)\n",
    "sn"
   ]
  },
  {
   "cell_type": "code",
   "execution_count": null,
   "id": "ae2323f3",
   "metadata": {},
   "outputs": [],
   "source": [
    "sn * 2"
   ]
  },
  {
   "cell_type": "raw",
   "id": "77a9644c",
   "metadata": {},
   "source": [
    "3.97 +- 7.67 à 95% d'intervalle de confiance "
   ]
  },
  {
   "cell_type": "code",
   "execution_count": 6,
   "id": "cf3e367f",
   "metadata": {},
   "outputs": [
    {
     "data": {
      "text/html": [
       "<div>\n",
       "<style scoped>\n",
       "    .dataframe tbody tr th:only-of-type {\n",
       "        vertical-align: middle;\n",
       "    }\n",
       "\n",
       "    .dataframe tbody tr th {\n",
       "        vertical-align: top;\n",
       "    }\n",
       "\n",
       "    .dataframe thead th {\n",
       "        text-align: right;\n",
       "    }\n",
       "</style>\n",
       "<table border=\"1\" class=\"dataframe\">\n",
       "  <thead>\n",
       "    <tr style=\"text-align: right;\">\n",
       "      <th></th>\n",
       "      <th>0</th>\n",
       "    </tr>\n",
       "  </thead>\n",
       "  <tbody>\n",
       "    <tr>\n",
       "      <th>0</th>\n",
       "      <td>1995</td>\n",
       "    </tr>\n",
       "    <tr>\n",
       "      <th>1</th>\n",
       "      <td>1999</td>\n",
       "    </tr>\n",
       "    <tr>\n",
       "      <th>2</th>\n",
       "      <td>1971</td>\n",
       "    </tr>\n",
       "    <tr>\n",
       "      <th>3</th>\n",
       "      <td>2003</td>\n",
       "    </tr>\n",
       "    <tr>\n",
       "      <th>4</th>\n",
       "      <td>1991</td>\n",
       "    </tr>\n",
       "    <tr>\n",
       "      <th>5</th>\n",
       "      <td>2005</td>\n",
       "    </tr>\n",
       "    <tr>\n",
       "      <th>6</th>\n",
       "      <td>1985</td>\n",
       "    </tr>\n",
       "    <tr>\n",
       "      <th>7</th>\n",
       "      <td>2001</td>\n",
       "    </tr>\n",
       "    <tr>\n",
       "      <th>8</th>\n",
       "      <td>2010</td>\n",
       "    </tr>\n",
       "    <tr>\n",
       "      <th>9</th>\n",
       "      <td>1999</td>\n",
       "    </tr>\n",
       "    <tr>\n",
       "      <th>10</th>\n",
       "      <td>2001</td>\n",
       "    </tr>\n",
       "    <tr>\n",
       "      <th>11</th>\n",
       "      <td>2006</td>\n",
       "    </tr>\n",
       "    <tr>\n",
       "      <th>12</th>\n",
       "      <td>2010</td>\n",
       "    </tr>\n",
       "    <tr>\n",
       "      <th>13</th>\n",
       "      <td>1994</td>\n",
       "    </tr>\n",
       "    <tr>\n",
       "      <th>14</th>\n",
       "      <td>2000</td>\n",
       "    </tr>\n",
       "    <tr>\n",
       "      <th>15</th>\n",
       "      <td>2000</td>\n",
       "    </tr>\n",
       "    <tr>\n",
       "      <th>16</th>\n",
       "      <td>2004</td>\n",
       "    </tr>\n",
       "    <tr>\n",
       "      <th>17</th>\n",
       "      <td>2022</td>\n",
       "    </tr>\n",
       "    <tr>\n",
       "      <th>18</th>\n",
       "      <td>1992</td>\n",
       "    </tr>\n",
       "    <tr>\n",
       "      <th>19</th>\n",
       "      <td>1994</td>\n",
       "    </tr>\n",
       "    <tr>\n",
       "      <th>20</th>\n",
       "      <td>1997</td>\n",
       "    </tr>\n",
       "    <tr>\n",
       "      <th>21</th>\n",
       "      <td>1983</td>\n",
       "    </tr>\n",
       "  </tbody>\n",
       "</table>\n",
       "</div>"
      ],
      "text/plain": [
       "       0\n",
       "0   1995\n",
       "1   1999\n",
       "2   1971\n",
       "3   2003\n",
       "4   1991\n",
       "5   2005\n",
       "6   1985\n",
       "7   2001\n",
       "8   2010\n",
       "9   1999\n",
       "10  2001\n",
       "11  2006\n",
       "12  2010\n",
       "13  1994\n",
       "14  2000\n",
       "15  2000\n",
       "16  2004\n",
       "17  2022\n",
       "18  1992\n",
       "19  1994\n",
       "20  1997\n",
       "21  1983"
      ]
     },
     "execution_count": 6,
     "metadata": {},
     "output_type": "execute_result"
    }
   ],
   "source": [
    "d = {'The Usual suspects': 1995,\n",
    "    'Matrix': 1999,\n",
    "    'Orange Mecanique': 1971,\n",
    "    'Pirates des Caraïbes : La Malédiction du Black Pearl': 2003,\n",
    "    'Le Silence des Agneaux': 1991,\n",
    "    'Star Wars: Revenge of the Sith': 2005,\n",
    "    'Retour vers le futur': 1985,\n",
    "    \"Le Seigneur des anneaux : La Communauté de l'anneau\": 2001,\n",
    "    'Inception': 2010,\n",
    "    'American Beauty': 1999,\n",
    "    'Harry Potter': 2001,\n",
    "    'Dikkenek': 2006,\n",
    "    'Raiponce': 2010,\n",
    "    'The lion king': 1994,\n",
    "    'Scary Movie': 2000,\n",
    "    'Gladiator': 2000,\n",
    "    \"L'Effet Papillon\": 2004,\n",
    "    'Everything Everywhere all at once': 2022,\n",
    "    'Porco Rosso': 1992,\n",
    "    'Les évadés ': 1994,\n",
    "    'La verite si je mens': 1997,\n",
    "    'scarface': 1983}\n",
    "\n",
    "date = list(d.values())\n",
    "\n",
    "df = pd.DataFrame(date)\n",
    "df\n",
    "\n",
    "\n",
    "\n",
    "\n",
    "\n",
    "\n"
   ]
  },
  {
   "cell_type": "code",
   "execution_count": 7,
   "id": "6eb91467",
   "metadata": {},
   "outputs": [
    {
     "data": {
      "text/plain": [
       "(array([1., 0., 2., 1., 4., 7., 4., 2., 0., 1.]),\n",
       " array([1971. , 1976.1, 1981.2, 1986.3, 1991.4, 1996.5, 2001.6, 2006.7,\n",
       "        2011.8, 2016.9, 2022. ]),\n",
       " <BarContainer object of 10 artists>)"
      ]
     },
     "execution_count": 7,
     "metadata": {},
     "output_type": "execute_result"
    },
    {
     "data": {
      "image/png": "[encoded data removed]",
      "text/plain": [
       "<Figure size 640x480 with 1 Axes>"
      ]
     },
     "metadata": {},
     "output_type": "display_data"
    }
   ],
   "source": [
    "plt.hist(df)"
   ]
  },
  {
   "cell_type": "code",
   "execution_count": 8,
   "id": "d55884f8",
   "metadata": {},
   "outputs": [
    {
     "data": {
      "text/plain": [
       "0    1998.272727\n",
       "dtype: float64"
      ]
     },
     "execution_count": 8,
     "metadata": {},
     "output_type": "execute_result"
    }
   ],
   "source": [
    "df.mean()"
   ]
  },
  {
   "cell_type": "code",
   "execution_count": 19,
   "id": "dc4dc671",
   "metadata": {
    "scrolled": true
   },
   "outputs": [
    {
     "data": {
      "text/plain": [
       "0    10.49799\n",
       "dtype: float64"
      ]
     },
     "execution_count": 19,
     "metadata": {},
     "output_type": "execute_result"
    }
   ],
   "source": [
    "df.std() "
   ]
  },
  {
   "cell_type": "raw",
   "id": "628d09f8",
   "metadata": {},
   "source": [
    "La date de production des films sont centrés autour de 1998 +- 21 ans \n",
    "dans une intervalle de confiance de 95%"
   ]
  },
  {
   "cell_type": "code",
   "execution_count": 11,
   "id": "40c55d35",
   "metadata": {},
   "outputs": [
    {
     "data": {
      "text/plain": [
       "22"
      ]
     },
     "execution_count": 11,
     "metadata": {},
     "output_type": "execute_result"
    }
   ],
   "source": [
    "len(df)"
   ]
  },
  {
   "cell_type": "code",
   "execution_count": 21,
   "id": "87a68cbe",
   "metadata": {},
   "outputs": [
    {
     "data": {
      "text/plain": [
       "0    4.476358\n",
       "dtype: float64"
      ]
     },
     "execution_count": 21,
     "metadata": {},
     "output_type": "execute_result"
    }
   ],
   "source": [
    "prod_date = df.std() / np.sqrt(22) \n",
    "prod_date * 2"
   ]
  },
  {
   "cell_type": "raw",
   "id": "7b3c389d",
   "metadata": {},
   "source": [
    "La date de production des films sont centrés autour de 1998 +-  5ans \n",
    "dans une intervalle de confiance de 95%"
   ]
  },
  {
   "cell_type": "code",
   "execution_count": 22,
   "id": "e9f7012d",
   "metadata": {},
   "outputs": [
    {
     "data": {
      "text/plain": [
       "0    6.714537\n",
       "dtype: float64"
      ]
     },
     "execution_count": 22,
     "metadata": {},
     "output_type": "execute_result"
    }
   ],
   "source": [
    "prod_date = df.std() / np.sqrt(22) \n",
    "prod_date * 3"
   ]
  },
  {
   "cell_type": "code",
   "execution_count": null,
   "id": "c4a9bdf7",
   "metadata": {},
   "outputs": [],
   "source": [
    "La date de production des films sont centrés autour de 1998 +-  7ans \n",
    "dans une intervalle de confiance de 95%"
   ]
  }
 ],
 "metadata": {
  "kernelspec": {
   "display_name": "Python 3 (ipykernel)",
   "language": "python",
   "name": "python3"
  },
  "language_info": {
   "codemirror_mode": {
    "name": "ipython",
    "version": 3
   },
   "file_extension": ".py",
   "mimetype": "text/x-python",
   "name": "python",
   "nbconvert_exporter": "python",
   "pygments_lexer": "ipython3",
   "version": "3.8.12"
  },
  "toc": {
   "base_numbering": 1,
   "nav_menu": {},
   "number_sections": true,
   "sideBar": true,
   "skip_h1_title": false,
   "title_cell": "Table of Contents",
   "title_sidebar": "Contents",
   "toc_cell": false,
   "toc_position": {},
   "toc_section_display": true,
   "toc_window_display": false
  }
 },
 "nbformat": 4,
 "nbformat_minor": 5
}
