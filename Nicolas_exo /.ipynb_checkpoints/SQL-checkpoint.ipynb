{
 "cells": [
  {
   "cell_type": "raw",
   "id": "51c09918",
   "metadata": {},
   "source": [
    "12.\n",
    "For every match where 'GER' scored, show matchid, match date and the number of goals scored by 'GER'"
   ]
  },
  {
   "cell_type": "raw",
   "id": "fbdca830",
   "metadata": {},
   "source": [
    "SELECT matchid, mdate , COUNT(gtime)\n",
    "  FROM game INNER JOIN goal ON game.id=goal.matchid\n",
    "    WHERE teamid = 'GER'\n",
    "      GROUP BY matchid, mdate"
   ]
  },
  {
   "cell_type": "raw",
   "id": "e97f6840",
   "metadata": {},
   "source": [
    "13.\n",
    "List every match with the goals scored by each team as shown. This will use \"CASE WHEN\" which has not been explained in any previous exercises.\n",
    "mdate\tteam1\tscore1\tteam2\tscore2\n",
    "1 July 2012\tESP\t4\tITA\t0\n",
    "10 June 2012\tESP\t1\tITA\t1\n",
    "10 June 2012\tIRL\t1\tCRO\t3\n",
    "...\n",
    "Notice in the query given every goal is listed. If it was a team1 goal then a 1 appears in score1, otherwise there is a 0. You could SUM this column to get a count of the goals scored by team1. Sort your result by mdate, matchid, team1 and team2."
   ]
  },
  {
   "cell_type": "raw",
   "id": "004e712f",
   "metadata": {},
   "source": [
    "SELECT mdate, team1,\n",
    "  SUM(CASE WHEN teamid=team1 THEN 1 ELSE 0 END) AS score1,\n",
    "team2,\n",
    "  SUM(CASE WHEN teamid=team2 THEN 1 ELSE 0 END) AS score2\n",
    "  FROM game LEFT JOIN goal ON matchid = id\n",
    "GROUP BY mdate, matchid, team1, team2\n"
   ]
  },
  {
   "cell_type": "code",
   "execution_count": null,
   "id": "1c29ebeb",
   "metadata": {},
   "outputs": [],
   "source": []
  }
 ],
 "metadata": {
  "kernelspec": {
   "display_name": "Python 3 (ipykernel)",
   "language": "python",
   "name": "python3"
  },
  "language_info": {
   "codemirror_mode": {
    "name": "ipython",
    "version": 3
   },
   "file_extension": ".py",
   "mimetype": "text/x-python",
   "name": "python",
   "nbconvert_exporter": "python",
   "pygments_lexer": "ipython3",
   "version": "3.8.12"
  },
  "toc": {
   "base_numbering": 1,
   "nav_menu": {},
   "number_sections": true,
   "sideBar": true,
   "skip_h1_title": false,
   "title_cell": "Table of Contents",
   "title_sidebar": "Contents",
   "toc_cell": false,
   "toc_position": {},
   "toc_section_display": true,
   "toc_window_display": false
  }
 },
 "nbformat": 4,
 "nbformat_minor": 5
}
