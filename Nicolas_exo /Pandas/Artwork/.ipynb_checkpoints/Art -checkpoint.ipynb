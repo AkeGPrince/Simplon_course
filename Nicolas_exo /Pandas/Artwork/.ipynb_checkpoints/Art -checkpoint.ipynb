{
 "cells": [
  {
   "cell_type": "markdown",
   "id": "e572725d",
   "metadata": {},
   "source": [
    "# Consignes \n",
    "Question 1 : Please review the quality of the data, describe the data you are working on and present any issues\n",
    "\t- To do for artworks.csv\n",
    "\n",
    "Question 2 : Draw a graph that would help us to understand more clearly the dataset\n",
    "\n",
    "Question 3 : Let suppose you are a data scientist. You might consider cluster this dataset to get for example different clusters.\n",
    "Which relevant transformations / data cleaning operations would you do before ?\n",
    "\n",
    "Indications:\n",
    "1. Are all the columns useful ?\n",
    "2. What you are going to do on elements from artists table is called feature engineering:\n",
    "\t- get actual age or death age\n",
    "\t- is the artist alived : create a new column and sets 1 if it'is alived otherwise 0.\n",
    "\t- if possible, calculate the volumes of the artwork\n",
    "\t- Count number of elements inside 'Name_caller' and print the result inside a new column\n",
    "\n",
    "\n",
    "3. On artworks table:\n",
    "\t- Acquisition date : transformed in another format\n",
    "\t- delete lines/columns ?\n",
    "\t- fill missing info ?\n",
    "\n",
    "\n",
    "Bonus:\n",
    "- Draw 2 easy other graphs that are useful to understand the dataset\n",
    "- Is it possible to create a unify dataset, from the two files mentioned above ? If possible, do it and create a .csv file\n",
    "- Clean artists.csv\n",
    "\n",
    "NB:\n",
    "You have to use the following methods:\n",
    ".describe()\n",
    ".unique()\n",
    ".fillna()\n",
    ".dropna()\n",
    ".apply()"
   ]
  },
  {
   "cell_type": "code",
   "execution_count": 1,
   "id": "db1c9486",
   "metadata": {},
   "outputs": [],
   "source": [
    "import matplotlib.pyplot as plt\n",
    "import pandas as pd\n",
    "df = pd.read_csv(\"artworks.csv\")\n"
   ]
  },
  {
   "cell_type": "code",
   "execution_count": null,
   "id": "faca9ab0",
   "metadata": {
    "scrolled": true
   },
   "outputs": [],
   "source": [
    "df.count() / df.shape[0] * 100"
   ]
  },
  {
   "cell_type": "code",
   "execution_count": null,
   "id": "f885de19",
   "metadata": {},
   "outputs": [],
   "source": [
    "df[df['Dimensions'].isnull()] "
   ]
  },
  {
   "cell_type": "code",
   "execution_count": 3,
   "id": "ffc478b9",
   "metadata": {
    "scrolled": true
   },
   "outputs": [],
   "source": [
    "#df['Acquisition_year'] = pd.DatetimeIndex(df['Acquisition Date']).year\n",
    "df.loc[[129661],['Acquisition Date']] = float('NaN')\n",
    "\n",
    "\n"
   ]
  },
  {
   "cell_type": "code",
   "execution_count": 7,
   "id": "4319c900",
   "metadata": {},
   "outputs": [],
   "source": [
    "df['Acquisition_year'] = pd.DatetimeIndex(df['Acquisition Date']).year\n",
    "\n",
    "\n"
   ]
  },
  {
   "cell_type": "code",
   "execution_count": 8,
   "id": "5394b218",
   "metadata": {},
   "outputs": [],
   "source": [
    "df['Acquisition_year'].fillna(0, inplace = True)"
   ]
  },
  {
   "cell_type": "code",
   "execution_count": 9,
   "id": "0697a5c5",
   "metadata": {},
   "outputs": [],
   "source": [
    "df['acquisition_year'] = pd.DatetimeIndex(df['Acquisition Date']).year\n"
   ]
  },
  {
   "cell_type": "code",
   "execution_count": 10,
   "id": "b92895c2",
   "metadata": {},
   "outputs": [
    {
     "data": {
      "text/plain": [
       "0         1996.0\n",
       "1         1995.0\n",
       "2         1997.0\n",
       "3         1995.0\n",
       "4         1997.0\n",
       "           ...  \n",
       "130257    2008.0\n",
       "130258    2008.0\n",
       "130259    2008.0\n",
       "130260    2008.0\n",
       "130261    2008.0\n",
       "Name: acquisition_year, Length: 130262, dtype: float64"
      ]
     },
     "execution_count": 10,
     "metadata": {},
     "output_type": "execute_result"
    }
   ],
   "source": [
    "df['acquisition_year']"
   ]
  },
  {
   "cell_type": "code",
   "execution_count": 11,
   "id": "6c2fc994",
   "metadata": {},
   "outputs": [
    {
     "data": {
      "text/html": [
       "<div>\n",
       "<style scoped>\n",
       "    .dataframe tbody tr th:only-of-type {\n",
       "        vertical-align: middle;\n",
       "    }\n",
       "\n",
       "    .dataframe tbody tr th {\n",
       "        vertical-align: top;\n",
       "    }\n",
       "\n",
       "    .dataframe thead th {\n",
       "        text-align: right;\n",
       "    }\n",
       "</style>\n",
       "<table border=\"1\" class=\"dataframe\">\n",
       "  <thead>\n",
       "    <tr style=\"text-align: right;\">\n",
       "      <th></th>\n",
       "      <th>Artwork ID</th>\n",
       "      <th>Title</th>\n",
       "      <th>Artist ID</th>\n",
       "      <th>Name</th>\n",
       "      <th>Date</th>\n",
       "      <th>Medium</th>\n",
       "      <th>Dimensions</th>\n",
       "      <th>Acquisition Date</th>\n",
       "      <th>Credit</th>\n",
       "      <th>Catalogue</th>\n",
       "      <th>...</th>\n",
       "      <th>Diameter (cm)</th>\n",
       "      <th>Circumference (cm)</th>\n",
       "      <th>Height (cm)</th>\n",
       "      <th>Length (cm)</th>\n",
       "      <th>Width (cm)</th>\n",
       "      <th>Depth (cm)</th>\n",
       "      <th>Weight (kg)</th>\n",
       "      <th>Duration (s)</th>\n",
       "      <th>Acquisition_year</th>\n",
       "      <th>acquisition_year</th>\n",
       "    </tr>\n",
       "  </thead>\n",
       "  <tbody>\n",
       "  </tbody>\n",
       "</table>\n",
       "<p>0 rows × 23 columns</p>\n",
       "</div>"
      ],
      "text/plain": [
       "Empty DataFrame\n",
       "Columns: [Artwork ID, Title, Artist ID, Name, Date, Medium, Dimensions, Acquisition Date, Credit, Catalogue, Department, Classification, Object Number, Diameter (cm), Circumference (cm), Height (cm), Length (cm), Width (cm), Depth (cm), Weight (kg), Duration (s), Acquisition_year, acquisition_year]\n",
       "Index: []\n",
       "\n",
       "[0 rows x 23 columns]"
      ]
     },
     "execution_count": 11,
     "metadata": {},
     "output_type": "execute_result"
    }
   ],
   "source": [
    "df[df['Acquisition_year'].isnull()] "
   ]
  },
  {
   "cell_type": "code",
   "execution_count": 12,
   "id": "fb16db71",
   "metadata": {},
   "outputs": [],
   "source": [
    "df['Acquisition_year'] = df['Acquisition_year'].astype(int)"
   ]
  },
  {
   "cell_type": "code",
   "execution_count": 13,
   "id": "6bb517c7",
   "metadata": {},
   "outputs": [
    {
     "data": {
      "text/plain": [
       "0         1996\n",
       "1         1995\n",
       "2         1997\n",
       "3         1995\n",
       "4         1997\n",
       "          ... \n",
       "130257    2008\n",
       "130258    2008\n",
       "130259    2008\n",
       "130260    2008\n",
       "130261    2008\n",
       "Name: Acquisition_year, Length: 130262, dtype: int64"
      ]
     },
     "execution_count": 13,
     "metadata": {},
     "output_type": "execute_result"
    }
   ],
   "source": [
    "df['Acquisition_year']"
   ]
  },
  {
   "cell_type": "code",
   "execution_count": 14,
   "id": "50c4e0cb",
   "metadata": {},
   "outputs": [
    {
     "ename": "NameError",
     "evalue": "name 'df_test' is not defined",
     "output_type": "error",
     "traceback": [
      "\u001b[0;31m---------------------------------------------------------------------------\u001b[0m",
      "\u001b[0;31mNameError\u001b[0m                                 Traceback (most recent call last)",
      "Cell \u001b[0;32mIn [14], line 1\u001b[0m\n\u001b[0;32m----> 1\u001b[0m df_test \u001b[38;5;241m=\u001b[39m df_test\u001b[38;5;241m.\u001b[39msort_values(by\u001b[38;5;241m=\u001b[39m[\u001b[38;5;124m'\u001b[39m\u001b[38;5;124mAcquisition_year\u001b[39m\u001b[38;5;124m'\u001b[39m])\n",
      "\u001b[0;31mNameError\u001b[0m: name 'df_test' is not defined"
     ]
    }
   ],
   "source": [
    "df_test = df_test.sort_values(by=['Acquisition_year'])"
   ]
  },
  {
   "cell_type": "code",
   "execution_count": null,
   "id": "56a26366",
   "metadata": {},
   "outputs": [],
   "source": [
    "df_test"
   ]
  },
  {
   "cell_type": "code",
   "execution_count": null,
   "id": "1ec99b20",
   "metadata": {},
   "outputs": [],
   "source": [
    "\n",
    "df_test['Acquisition_year'].value_counts().plot(kind='bar',\n",
    "                           figsize=[20, 8], title=\"Nombre d'acquisitions par année\",\n",
    "                           rot=45, legend=True, ylabel=\"Nombre d'acquisitions\",\n",
    "                           xlabel=\"Year\", fontsize='large', sort_columns= True)\n",
    "\n",
    "\n"
   ]
  },
  {
   "cell_type": "code",
   "execution_count": null,
   "id": "f7407733",
   "metadata": {},
   "outputs": [],
   "source": [
    "df_test['Acquisition_year'].value_counts()"
   ]
  },
  {
   "cell_type": "code",
   "execution_count": null,
   "id": "b6887241",
   "metadata": {},
   "outputs": [],
   "source": [
    "df_test['Acquisition_year'].value_counts().sort_values()"
   ]
  },
  {
   "cell_type": "code",
   "execution_count": null,
   "id": "6debf68c",
   "metadata": {},
   "outputs": [],
   "source": []
  }
 ],
 "metadata": {
  "kernelspec": {
   "display_name": "Python 3 (ipykernel)",
   "language": "python",
   "name": "python3"
  },
  "language_info": {
   "codemirror_mode": {
    "name": "ipython",
    "version": 3
   },
   "file_extension": ".py",
   "mimetype": "text/x-python",
   "name": "python",
   "nbconvert_exporter": "python",
   "pygments_lexer": "ipython3",
   "version": "3.8.12"
  },
  "toc": {
   "base_numbering": 1,
   "nav_menu": {},
   "number_sections": true,
   "sideBar": true,
   "skip_h1_title": false,
   "title_cell": "Table of Contents",
   "title_sidebar": "Contents",
   "toc_cell": false,
   "toc_position": {},
   "toc_section_display": true,
   "toc_window_display": false
  }
 },
 "nbformat": 4,
 "nbformat_minor": 5
}
