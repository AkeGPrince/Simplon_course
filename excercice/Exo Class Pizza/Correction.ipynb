{
 "cells": [
  {
   "cell_type": "code",
   "execution_count": 2,
   "id": "68bf5479",
   "metadata": {},
   "outputs": [],
   "source": [
    "class Pizza:\n",
    "    pass"
   ]
  },
  {
   "cell_type": "code",
   "execution_count": 4,
   "id": "06ac49aa",
   "metadata": {},
   "outputs": [],
   "source": [
    "pizza_1 = Pizza()"
   ]
  },
  {
   "cell_type": "code",
   "execution_count": 29,
   "id": "e6250d38",
   "metadata": {},
   "outputs": [],
   "source": [
    "class Pizza:\n",
    "    cuisson = 'feu de bois!'\n",
    "    \n",
    "    def __init__(self, name:str, ingredient:list):\n",
    "        print('Yeah')\n",
    "        self.name = name\n",
    "        self.ingredient = ingredient\n",
    "    \n",
    "    def display_pizza(self):\n",
    "        print(self.name, self.ingredient, self.cuisson)"
   ]
  },
  {
   "cell_type": "code",
   "execution_count": 30,
   "id": "8017cba9",
   "metadata": {},
   "outputs": [
    {
     "name": "stdout",
     "output_type": "stream",
     "text": [
      "Yeah\n"
     ]
    },
    {
     "data": {
      "text/plain": [
       "<__main__.Pizza at 0x7f29067c7310>"
      ]
     },
     "execution_count": 30,
     "metadata": {},
     "output_type": "execute_result"
    }
   ],
   "source": [
    "Pizza('reine', ['tomate', 'fromage', 'champot', 'jambon'])"
   ]
  },
  {
   "cell_type": "code",
   "execution_count": 24,
   "id": "396ab92d",
   "metadata": {},
   "outputs": [],
   "source": [
    "pizza_reine = Pizza('reine', ['tomate', 'fromage', 'champot', 'jambon'])\n",
    "pizza_nordique = Pizza('nordique', ['saumon', 'crème fraiche', 'fromage'])\n",
    "pizza_napolitaine = Pizza('napolitaine', ['tomate', 'fromage', 'anchois', 'olives noires'])"
   ]
  },
  {
   "cell_type": "code",
   "execution_count": 32,
   "id": "1406ea1d",
   "metadata": {},
   "outputs": [
    {
     "name": "stdout",
     "output_type": "stream",
     "text": [
      "so what\n"
     ]
    }
   ],
   "source": [
    "Pizza.__sowhat__(pizza_reine)"
   ]
  },
  {
   "cell_type": "code",
   "execution_count": 38,
   "id": "a12ea685",
   "metadata": {},
   "outputs": [],
   "source": [
    "class Calzone(Pizza):\n",
    "    def __init__(self, name, ingredient, forme):\n",
    "        super().__init__(name, ingredient)\n",
    "        self.forme = forme\n",
    "        \n",
    "    def display_calzone(self):\n",
    "        print(self.name, self.ingredient, self.cuisson, self.forme)    "
   ]
  },
  {
   "cell_type": "code",
   "execution_count": 40,
   "id": "59407bba",
   "metadata": {},
   "outputs": [
    {
     "name": "stdout",
     "output_type": "stream",
     "text": [
      "Yeah\n"
     ]
    }
   ],
   "source": [
    "honey_moon = Calzone('honey', ['tomate', 'fromage', 'champot', 'jambon', 'miel'], 'lune')"
   ]
  },
  {
   "cell_type": "code",
   "execution_count": 41,
   "id": "15264505",
   "metadata": {},
   "outputs": [
    {
     "name": "stdout",
     "output_type": "stream",
     "text": [
      "honey ['tomate', 'fromage', 'champot', 'jambon', 'miel'] feu de bois! lune\n"
     ]
    }
   ],
   "source": [
    "honey_moon.display_calzone()"
   ]
  },
  {
   "cell_type": "code",
   "execution_count": null,
   "id": "279eaaa1",
   "metadata": {},
   "outputs": [],
   "source": []
  }
 ],
 "metadata": {
  "kernelspec": {
   "display_name": "Python 3 (ipykernel)",
   "language": "python",
   "name": "python3"
  },
  "language_info": {
   "codemirror_mode": {
    "name": "ipython",
    "version": 3
   },
   "file_extension": ".py",
   "mimetype": "text/x-python",
   "name": "python",
   "nbconvert_exporter": "python",
   "pygments_lexer": "ipython3",
   "version": "3.8.12"
  },
  "toc": {
   "base_numbering": 1,
   "nav_menu": {},
   "number_sections": true,
   "sideBar": true,
   "skip_h1_title": false,
   "title_cell": "Table of Contents",
   "title_sidebar": "Contents",
   "toc_cell": false,
   "toc_position": {},
   "toc_section_display": true,
   "toc_window_display": false
  }
 },
 "nbformat": 4,
 "nbformat_minor": 5
}
