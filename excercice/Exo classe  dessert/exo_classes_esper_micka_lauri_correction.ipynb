{
 "cells": [
  {
   "cell_type": "code",
   "execution_count": 7,
   "id": "7b967b64",
   "metadata": {
    "scrolled": true
   },
   "outputs": [
    {
     "name": "stdout",
     "output_type": "stream",
     "text": [
      "Your cake : vanilla round\n",
      "Your cake : chocolate castle\n",
      "Cake(form = castle, flavour = chocolate)\n"
     ]
    }
   ],
   "source": [
    "class Cake:\n",
    "    def __init__(self, flavour = \"vanilla\", form = \"round\"):\n",
    "        self.flavour = flavour\n",
    "        self.form = form\n",
    "\n",
    "    def __str__(self):\n",
    "        return f'Your cake : {self.flavour} {self.form}'\n",
    "    \n",
    "    def __repr__(self):\n",
    "        return f'Cake(form = {self.form}, flavour = {self.flavour})'\n",
    "\n",
    "print(Cake())\n",
    "chocolate_cake = Cake(\"chocolate\",\"castle\")\n",
    "print(chocolate_cake)\n",
    "print(chocolate_cake.__repr__())"
   ]
  },
  {
   "cell_type": "markdown",
   "id": "2b6eb2bb",
   "metadata": {},
   "source": [
    "# 1) Faire fonctionner la méthode pour print une instance de la classe Cake"
   ]
  },
  {
   "cell_type": "markdown",
   "id": "6229e73b",
   "metadata": {},
   "source": [
    "# 2) Créer un gateau au chocolat en forme de château (castle), sans modifier la méthode init !"
   ]
  },
  {
   "cell_type": "markdown",
   "id": "5c523a74",
   "metadata": {},
   "source": [
    "# 3) Coder une méthode __repr__ telle que repr(cake) affiche les attributs du gateau"
   ]
  },
  {
   "cell_type": "code",
   "execution_count": null,
   "id": "4d6cd315",
   "metadata": {},
   "outputs": [],
   "source": []
  }
 ],
 "metadata": {
  "kernelspec": {
   "display_name": "Python 3 (ipykernel)",
   "language": "python",
   "name": "python3"
  },
  "language_info": {
   "codemirror_mode": {
    "name": "ipython",
    "version": 3
   },
   "file_extension": ".py",
   "mimetype": "text/x-python",
   "name": "python",
   "nbconvert_exporter": "python",
   "pygments_lexer": "ipython3",
   "version": "3.8.12"
  },
  "toc": {
   "base_numbering": 1,
   "nav_menu": {},
   "number_sections": true,
   "sideBar": true,
   "skip_h1_title": false,
   "title_cell": "Table of Contents",
   "title_sidebar": "Contents",
   "toc_cell": false,
   "toc_position": {},
   "toc_section_display": true,
   "toc_window_display": false
  }
 },
 "nbformat": 4,
 "nbformat_minor": 5
}
